{
 "cells": [
  {
   "cell_type": "markdown",
   "metadata": {},
   "source": [
    "# Supporting functions"
   ]
  },
  {
   "cell_type": "code",
   "execution_count": 123,
   "metadata": {},
   "outputs": [],
   "source": [
    "import pandas as pd\n",
    "import operator\n",
    "import re\n",
    "from fuzzywuzzy import fuzz \n",
    "from fuzzywuzzy import process\n",
    "import json"
   ]
  },
  {
   "cell_type": "code",
   "execution_count": 2,
   "metadata": {
    "collapsed": true
   },
   "outputs": [],
   "source": [
    "# function for common string cleanup\n",
    "def cleanup(x):\n",
    "    return str(x).replace(\"\\t\",\"\").replace(\"\\s\",\"\").strip()"
   ]
  },
  {
   "cell_type": "markdown",
   "metadata": {},
   "source": [
    "# Reading mater drug file and creating dictionary\n",
    "returning relevent result to the entered one"
   ]
  },
  {
   "cell_type": "code",
   "execution_count": 3,
   "metadata": {},
   "outputs": [
    {
     "name": "stderr",
     "output_type": "stream",
     "text": [
      "/home/sunil.patel/anaconda3/lib/python3.6/site-packages/ipykernel_launcher.py:1: ParserWarning: Falling back to the 'python' engine because the separator encoded in utf-8 is > 1 char long, and the 'c' engine does not support such separators; you can avoid this warning by specifying engine='python'.\n",
      "  \"\"\"Entry point for launching an IPython kernel.\n"
     ]
    }
   ],
   "source": [
    "df = pd.read_csv(\"data/out_unique_final.csv\", sep=\"ж\")\n",
    "df = df.apply(lambda x: x.astype(str).str.lower())"
   ]
  },
  {
   "cell_type": "code",
   "execution_count": 4,
   "metadata": {},
   "outputs": [
    {
     "data": {
      "text/plain": [
       "Index(['S/N', 'Manufacturer', 'Name', 'Type', 'Unit(Dose)',\n",
       "       'Constituents/Unit', 'Package unit', 'Price(In Rs.)',\n",
       "       'Price/Unit (In Rs.)'],\n",
       "      dtype='object')"
      ]
     },
     "execution_count": 4,
     "metadata": {},
     "output_type": "execute_result"
    }
   ],
   "source": [
    "df.columns"
   ]
  },
  {
   "cell_type": "code",
   "execution_count": 5,
   "metadata": {
    "collapsed": true
   },
   "outputs": [],
   "source": [
    "class master_drug_file_handeller:\n",
    "    max_replacements = 10\n",
    "    def __init__(self):\n",
    "        self.master_drug_list = []\n",
    "        self.master_drug_store = []\n",
    "        for i in range(0, len(df)):\n",
    "            drug_dict = df.iloc[i].to_dict()\n",
    "            drug_dict['id'] = i\n",
    "            self.master_drug_list.append(drug_dict['Constituents/Unit'])\n",
    "            self.master_drug_store.append(drug_dict)\n",
    "    \n",
    "    def relevent_searcher(self, text):\n",
    "        self.relevence_dict = {}\n",
    "        scores = [fuzz.ratio(i, text) for i in self.master_drug_list]\n",
    "        scores_ids = [i for i in range(0,len(self.master_drug_list))]\n",
    "        for score,id in zip(scores, scores_ids):\n",
    "            if id not in self.relevence_dict.keys():\n",
    "                self.relevence_dict[id] = score\n",
    "        #soriting the suggestion    \n",
    "        sorted_x = sorted(self.relevence_dict.items(), key=operator.itemgetter(1), reverse=True)\n",
    "        return  sorted_x[:10]"
   ]
  },
  {
   "cell_type": "code",
   "execution_count": 6,
   "metadata": {
    "collapsed": true
   },
   "outputs": [],
   "source": [
    "MDFH = master_drug_file_handeller()"
   ]
  },
  {
   "cell_type": "code",
   "execution_count": 7,
   "metadata": {
    "collapsed": true
   },
   "outputs": [],
   "source": [
    "relevence_dict_list = MDFH.relevent_searcher(\"PIPERACILLIN+TAZOBACTUM\".lower())"
   ]
  },
  {
   "cell_type": "code",
   "execution_count": 8,
   "metadata": {},
   "outputs": [
    {
     "data": {
      "text/plain": [
       "{'Constituents/Unit': 'piperacillin+tazobactam',\n",
       " 'Manufacturer': 'profic organic ltd.',\n",
       " 'Name': 'proact (4000+500)',\n",
       " 'Package unit': '1 vial',\n",
       " 'Price(In Rs.)': '189.00',\n",
       " 'Price/Unit (In Rs.)': '189.00',\n",
       " 'S/N': '7',\n",
       " 'Type': 'injection',\n",
       " 'Unit(Dose)': '1 vial',\n",
       " 'id': 37032}"
      ]
     },
     "execution_count": 8,
     "metadata": {},
     "output_type": "execute_result"
    }
   ],
   "source": [
    "MDFH.master_drug_store[37032]"
   ]
  },
  {
   "cell_type": "markdown",
   "metadata": {},
   "source": [
    "# Reading file provided by Janki - Patient Data"
   ]
  },
  {
   "cell_type": "markdown",
   "metadata": {},
   "source": [
    "---\n",
    "\n",
    "### Supporting function"
   ]
  },
  {
   "cell_type": "code",
   "execution_count": 25,
   "metadata": {
    "collapsed": true
   },
   "outputs": [],
   "source": [
    "import random\n",
    "import time\n",
    "import string\n",
    "from pandas import Series"
   ]
  },
  {
   "cell_type": "code",
   "execution_count": 56,
   "metadata": {
    "collapsed": true
   },
   "outputs": [],
   "source": [
    "def generate_random_age(num):\n",
    "    standard_limit = random.randint(-5,5)\n",
    "    random_age = num+standard_limit\n",
    "    return int(random_age)"
   ]
  },
  {
   "cell_type": "code",
   "execution_count": 11,
   "metadata": {
    "collapsed": true
   },
   "outputs": [],
   "source": [
    "def generate_random_patient_Name(stringLength=2):\n",
    "    \"\"\"\n",
    "    generate_random_patient_Name\n",
    "    \"\"\"\n",
    "    letters = string.ascii_lowercase\n",
    "    return ''.join(random.choice(letters) for i in range(stringLength)).upper()"
   ]
  },
  {
   "cell_type": "code",
   "execution_count": 12,
   "metadata": {
    "collapsed": true
   },
   "outputs": [],
   "source": [
    "def generate_sex():\n",
    "    \"\"\"\n",
    "    generate_sex()\n",
    "    \"\"\"\n",
    "    random_prob = random.random()\n",
    "    if random_prob > 0.66:\n",
    "        return 2\n",
    "    else: \n",
    "        return 1"
   ]
  },
  {
   "cell_type": "code",
   "execution_count": 64,
   "metadata": {},
   "outputs": [],
   "source": [
    "def generate_weight(num):\n",
    "    \"\"\"\n",
    "    generate_weight(num)\n",
    "    \"\"\"\n",
    "    random_prob = random.random()\n",
    "    if random_prob >= 0.1  and  random_prob <= 0.7 :\n",
    "        # retuen None as many of the values are none\n",
    "        return None\n",
    "    else:\n",
    "        standard_limit = random.randint(-5,5)\n",
    "        random_age = num+standard_limit\n",
    "        return int(random_age)\n"
   ]
  },
  {
   "cell_type": "code",
   "execution_count": 67,
   "metadata": {
    "collapsed": true
   },
   "outputs": [],
   "source": [
    "def generate_weight():\n",
    "    \"always not recorded\"\n",
    "    return None\n",
    "def generate_BMI():\n",
    "    \"always not recorded\"\n",
    "    return None\n",
    "def generate_antibiotics_in_past():\n",
    "    \"\"\"\n",
    "    Assuming 20% time patient dont know or taking patients taking antibiotics for the first time\n",
    "    \"\"\"\n",
    "    random_prob = random.random()\n",
    "    if random_prob < 0.4:\n",
    "        # 0.1 % person knws tahat they have takenn antibiotics in the past\n",
    "        return \"Yes\"\n",
    "    if random_prob >= 0.4  and  random_prob <= 0.9 :\n",
    "        # not sure patients\n",
    "        return None\n",
    "    elif random_prob >= 0.9 :\n",
    "        # 0.1 % person knws tahat they have  not takenn antibiotics in the past\n",
    "        return \"No\"\n",
    "def generate_details_of_antibiotics_used():\n",
    "    \"\"\"\n",
    "    Always render no as no one rememberes waht was taken last time\n",
    "    \"\"\"\n",
    "    return \"Dont Know\"\n",
    "\n",
    "def generate_num_day_hospitalized(min, max):\n",
    "    \"\"\"\n",
    "    randomly generatiing number of days stayed in hospital  \n",
    "    \"\"\"\n",
    "    return random.randint(min, max)\n",
    "def generate_culture_sensitivity_test():\n",
    "    random_prob = random.random()\n",
    "    if random_prob>0.90:\n",
    "        return \"performed\"\n",
    "    else:\n",
    "        return \"Not performed\"\n"
   ]
  },
  {
   "cell_type": "markdown",
   "metadata": {},
   "source": [
    "### Antibiotic group genration"
   ]
  },
  {
   "cell_type": "code",
   "execution_count": 15,
   "metadata": {
    "collapsed": true
   },
   "outputs": [],
   "source": [
    "# getting/antibiotic_class\n",
    "antibiotic_mapping = pd.read_excel('data/antibiotic_class.xlsx',sheetname='Sheet1')"
   ]
  },
  {
   "cell_type": "code",
   "execution_count": 16,
   "metadata": {
    "collapsed": true
   },
   "outputs": [],
   "source": [
    "antibitic_class_mapping = {}\n",
    "for i in range(0,len(antibiotic_mapping)):\n",
    "    dict_ = antibiotic_mapping.iloc[i].to_dict()\n",
    "    antibitic_class_mapping[dict_['Drug Name'].lower().replace(\"/\",'+').strip()] = dict_['Drug class'].lower().strip()"
   ]
  },
  {
   "cell_type": "code",
   "execution_count": 128,
   "metadata": {},
   "outputs": [],
   "source": [
    "def generate_details_for_antibiotics(antibiotic_generic_name):\n",
    "    relevence_dict_list = MDFH.relevent_searcher(antibiotic_generic_name.lower())\n",
    "    print(relevence_dict_list)\n",
    "    random_chosen  = random.randint(0, len(relevence_dict_list))\n",
    "    random_antbiotic_id  = relevence_dict_list[random_chosen][0]\n",
    "    return MDFH.master_drug_store[random_antbiotic_id]\n",
    "\n",
    "def get_antibiotic_class(antibiotic):\n",
    "    if '+' in antibiotic:\n",
    "        return \"Fixed dose combiination\"\n",
    "    try:\n",
    "        class_  = antibitic_class_mapping[str(antibiotic).lower()]\n",
    "        return class_\n",
    "    except:\n",
    "        return \"**NA**\"\n",
    "def get_dose_route(form):\n",
    "    if 'tablet' in form.lower() or 'capsule'  in form.lower():\n",
    "        return \"Oral\"\n",
    "    else:\n",
    "        return \"IV\"\n",
    "\n",
    "def get_dosage(text_with_dosage):\n",
    "    found =  re.findall(r'(\\d+){1,3}', text_with_dosage, re.I)\n",
    "    return [int(i) for i in found]\n",
    "    \n",
    "def generate_antibiotic_group(generic_name,group_no=1, new_dict = {}):\n",
    "    \"\"\"\n",
    "     '(Antibiotic 1) Generic Name ',\n",
    "     '(Antibiotic 1) Class',\n",
    "     '(Antibiotic 1) Dose (mg)',\n",
    "     '(Antibiotic 1) Route',\n",
    "     '(Antibiotic 1) Units',\n",
    "     '(Antibiotic 1) Total Dose Administered (mg)',\n",
    "     '(Antibiotic 1) Cost (Rs)',\n",
    "     '(Antibiotic 1) Total Cost (Rs)',\n",
    "     New info \n",
    "     {'Constituents/Unit': 'piperacillin+tazobactam',\n",
    "     'Manufacturer': 'profic organic ltd.',\n",
    "     'Name': 'proact (4000+500)',\n",
    "     'Package unit': '1 vial',\n",
    "     'Price(In Rs.)': '189.00',\n",
    "     'Price/Unit (In Rs.)': '189.00',\n",
    "     'S/N': '7',\n",
    "     'Type': 'injection',\n",
    "     'Unit(Dose)': '1 vial',\n",
    "     'id': 37032}\n",
    "    \"\"\"\n",
    "    dict_ = dict(generate_details_for_antibiotics(generic_name))\n",
    "#     print(dict_)\n",
    "    new_dict['(Antibiotic '+str(group_no)+') Generic Name'] =  dict_['Constituents/Unit']\n",
    "    new_dict['(Antibiotic '+str(group_no)+') Class'] =  get_antibiotic_class(generic_name)\n",
    "    new_dict['(Antibiotic '+str(group_no)+') Dose (mg)'] = get_dosage(dict_['Name'])\n",
    "    new_dict['(Antibiotic '+str(group_no)+') Route'] = get_dose_route(dict_['Package unit'])\n",
    "    units_administered = new_dict['(Antibiotic '+str(group_no)+') Units'] =  random.randint(3,12)\n",
    "    new_dict['(Antibiotic '+str(group_no)+') Total Dose Administered (mg)'] = [i*units_administered for i in get_dosage(dict_['Name'])]\n",
    "    new_dict['(Antibiotic '+str(group_no)+') Cost (Rs)'] = float(dict_['Price/Unit (In Rs.)'])\n",
    "    new_dict['(Antibiotic '+str(group_no)+') Total Cost (Rs)'] =  float(dict_['Price/Unit (In Rs.)'])*units_administered\n",
    "\n",
    "    return new_dict"
   ]
  },
  {
   "cell_type": "code",
   "execution_count": 129,
   "metadata": {},
   "outputs": [
    {
     "name": "stdout",
     "output_type": "stream",
     "text": [
      "[(13216, 100), (13217, 100), (13218, 100), (13219, 100), (13220, 100), (13221, 100), (13222, 100), (13223, 100), (13225, 100), (13226, 100)]\n"
     ]
    },
    {
     "data": {
      "text/plain": [
       "{'(Antibiotic 3) Class': 'cephalosporin',\n",
       " '(Antibiotic 3) Cost (Rs)': 0.9,\n",
       " '(Antibiotic 3) Dose (mg)': [100],\n",
       " '(Antibiotic 3) Generic Name': 'cefixime',\n",
       " '(Antibiotic 3) Route': 'Oral',\n",
       " '(Antibiotic 3) Total Cost (Rs)': 4.5,\n",
       " '(Antibiotic 3) Total Dose Administered (mg)': [500],\n",
       " '(Antibiotic 3) Units': 5}"
      ]
     },
     "execution_count": 129,
     "metadata": {},
     "output_type": "execute_result"
    }
   ],
   "source": [
    "generate_antibiotic_group(\"cefixime\", 3)"
   ]
  },
  {
   "cell_type": "markdown",
   "metadata": {},
   "source": [
    "---"
   ]
  },
  {
   "cell_type": "code",
   "execution_count": 130,
   "metadata": {
    "collapsed": true
   },
   "outputs": [],
   "source": [
    "patient_data = pd.read_excel('data/xcel_patient_data.xlsx',sheetname='Sheet1&3')"
   ]
  },
  {
   "cell_type": "code",
   "execution_count": 131,
   "metadata": {},
   "outputs": [
    {
     "name": "stdout",
     "output_type": "stream",
     "text": [
      "['Form No.', 'Hosp. Name', 'Pt. Name/ IP no', 'Sex', 'Age (in yr)', 'Weight (in kg)', 'BMI (kg/m2)', 'Antibiotic in Past', 'If Yes, Details of Antibiotic used', 'No. of Days Hospitalized', 'Diagnosis', 'Culture SensitIVity Test', 'No. of Drugs/prescription', 'No. of Antibiotics', 'No. of Antibiotics by Generic Name', 'No. of Antibiotics by Brand Name', 'No. of FDC', 'No. of Antibiotics prescribed from NLEM 2017', 'Switch Over therapy', 'Parentral', 'Oral', 'Syrup', 'Eye drop', 'Ear drop', 'Others formulations', '(Antibiotic 1) Generic Name ', '(Antibiotic 1) Class', '(Antibiotic 1) Dose (mg)', '(Antibiotic 1) Route', '(Antibiotic 1) Units', '(Antibiotic 1) Total Dose Administered (mg)', '(Antibiotic 1) Cost (Rs)', '(Antibiotic 1) Total Cost (Rs)', '(Antibiotic 2) Generic Name', '(Antibiotic 2) Class', '(Antibiotic 2) Dose (mg)', '(Antibiotic 2) Route', '(Antibiotic 2) Units', '(Antibiotic 2) Total Dose Administered (mg)', '(Antibiotic 2) Cost (Rs)', '(Antibiotic 2) Total Cost (Rs)', '(Antibiotic 3) Generic Name', '(Antibiotic 3) Class', '(Antibiotic 3) Dose (mg)', '(Antibiotic 3) Route', '(Antibiotic 3) Units', '(Antibiotic 3) Total Dose Administered (mg)', '(Antibiotic 3) Cost (Rs)', '(Antibiotic 3) Total Cost (Rs)', '(Antibiotic 4) Generic Name', '(Antibiotic 4) Class', '(Antibiotic 4) Dose (mg)', '(Antibiotic 4) Route', '(Antibiotic 4) Units', '(Antibiotic 4) Total Dose Administered (mg)', '(Antibiotic 4) Cost (Rs)', '(Antibiotic 4) Total Cost (Rs)', '(Antibiotic 5) Generic Name', '(Antibiotic 5) Class', '(Antibiotic 5) Dose (mg)', '(Antibiotic 5) Route', '(Antibiotic 5) Units', '(Antibiotic 5) Total Dose Administered (mg)', '(Antibiotic 5) Cost (Rs)', '(Antibiotic 5) Total Cost (Rs)', '(Antibiotic 6) Generic Name', '(Antibiotic 6) Class', '(Antibiotic 6) Dose (mg)', '(Antibiotic 6) Route', '(Antibiotic 6) Units', '(Antibiotic 6) Total Dose Administered (mg)', '(Antibiotic 6) Cost (Rs)', '(Antibiotic 6) Total Cost (Rs)', '(Antibiotic 7) Generic Name', '(Antibiotic 7) Class', '(Antibiotic 7) Dose (mg)', '(Antibiotic 7) Route', '(Antibiotic 7) Units', '(Antibiotic 7) Total Dose Administered (mg)', '(Antibiotic 7) Cost (Rs)', '(Antibiotic 7) Total Cost (Rs)', 'No. of Major DI', 'No. of Moderate DI', 'No. of Minor DI', 'Major DI 1', 'Major DI 2', 'Major DI 3', 'Major DI 4', 'Moderate DI 1', 'Moderate DI 2', 'Moderate DI 3', 'Minor DI 1', 'Minor DI 2', 'Minor DI 3', 'Total Cost of Antibiotics', 'Total Cost of Other Drugs', 'Total Cost of Drugs', 'Suspected Organism', 'Reaction', 'Management', 'MKC 1', 'MKC2', 'MKC3', 'MKC4', 'MKC5']\n"
     ]
    }
   ],
   "source": [
    "print(list(patient_data.columns))"
   ]
  },
  {
   "cell_type": "markdown",
   "metadata": {},
   "source": [
    "---\n",
    "# Mater iterator"
   ]
  },
  {
   "cell_type": "code",
   "execution_count": 132,
   "metadata": {
    "collapsed": true
   },
   "outputs": [],
   "source": [
    "multiplication_factor = 10\n",
    "random_pic_list = [\"amikacin\", \"amoxicilin+clavulanic acid\", \"amoxicillin\", \"amoxicillin + clavulanicacid\", \"amoxicillin+clavulanic acid\", \"amoxicilln\", \"azithromycin\", \"cefepime\", \"cefixime\", \"cefixime + salbutamol\", \"cefoparazone+salbactum\", \"cefopaxime\", \"cefotaxime\", \"cefotaxime + salbactum\", \"ceftriaxone\", \"ceftriaxone + salbactum\", \"ceftriaxone+salbactum\", \"cetriaxone\", \"ciprofloxacil\", \"ciprofloxacin\", \"clarithromycin\", \"clindamycin\", \"doxicycllin\", \"doxycyclin\", \"doxycycline\", \"levofloxacin\", \"meropenem\", \"metronidaxole\", \"metronidazole\", \"moxifloxacin\", \"ofloxacin\", \"ofloxcin\", \"piperacillin\", \"piperacillin+tazobactum\"]"
   ]
  },
  {
   "cell_type": "code",
   "execution_count": 133,
   "metadata": {},
   "outputs": [],
   "source": [
    "def get_new_antibiotics(existing_antibiotic):\n",
    "    for each_existing_antibiotic in existing_antibiotic:\n",
    "        if each_existing_antibiotic.lower() not in random_pic_list:\n",
    "            return each_existing_antibiotic.lower()\n",
    "    \n",
    "def generate_antibiotic_groups(modified_dict):\n",
    "    total_groups = 7 \n",
    "    num_gropus = random.randint(1,7)\n",
    "    for group_no in range(1,num_gropus):\n",
    "        existing_antibiotic = modified_dict['(Antibiotic '+str(group_no)+') Generic Name']\n",
    "        if existing_antibiotic != 'NaN':\n",
    "            modified_dict = generate_antibiotic_group(existing_antibiotic,group_no=group_no, new_dict=modified_dict)\n",
    "        else:\n",
    "            new_antibiotic = get_new_antibiotics(existing_antibiotic)\n",
    "            modified_dict = generate_antibiotic_group(new_antibiotic,group_no=group_no, new_dict=modified_dict)\n",
    "            break\n",
    "    return modified_dict"
   ]
  },
  {
   "cell_type": "code",
   "execution_count": 134,
   "metadata": {},
   "outputs": [
    {
     "ename": "KeyError",
     "evalue": "'(Antibiotic 1) Generic Name'",
     "output_type": "error",
     "traceback": [
      "\u001b[0;31m---------------------------------------------------------------------------\u001b[0m",
      "\u001b[0;31mKeyError\u001b[0m                                  Traceback (most recent call last)",
      "\u001b[0;32m<ipython-input-134-98daef4c1704>\u001b[0m in \u001b[0;36m<module>\u001b[0;34m()\u001b[0m\n\u001b[1;32m     11\u001b[0m         \u001b[0mmodified_dict\u001b[0m\u001b[0;34m[\u001b[0m\u001b[0;34m'No. of Days Hospitalized'\u001b[0m\u001b[0;34m]\u001b[0m \u001b[0;34m=\u001b[0m  \u001b[0mgenerate_num_day_hospitalized\u001b[0m\u001b[0;34m(\u001b[0m\u001b[0;36m2\u001b[0m\u001b[0;34m,\u001b[0m \u001b[0;36m10\u001b[0m\u001b[0;34m)\u001b[0m\u001b[0;34m\u001b[0m\u001b[0;34m\u001b[0m\u001b[0m\n\u001b[1;32m     12\u001b[0m         \u001b[0mmodified_dict\u001b[0m\u001b[0;34m[\u001b[0m\u001b[0;34m'Culture SensitIVity Test'\u001b[0m\u001b[0;34m]\u001b[0m \u001b[0;34m=\u001b[0m \u001b[0mgenerate_culture_sensitivity_test\u001b[0m\u001b[0;34m(\u001b[0m\u001b[0;34m)\u001b[0m\u001b[0;34m\u001b[0m\u001b[0;34m\u001b[0m\u001b[0m\n\u001b[0;32m---> 13\u001b[0;31m         \u001b[0mmodified_dict\u001b[0m \u001b[0;34m=\u001b[0m \u001b[0mgenerate_antibiotic_groups\u001b[0m\u001b[0;34m(\u001b[0m\u001b[0mmodified_dict\u001b[0m\u001b[0;34m)\u001b[0m\u001b[0;34m\u001b[0m\u001b[0;34m\u001b[0m\u001b[0m\n\u001b[0m\u001b[1;32m     14\u001b[0m \u001b[0;34m\u001b[0m\u001b[0m\n\u001b[1;32m     15\u001b[0m         \u001b[0;31m################################################\u001b[0m\u001b[0;34m\u001b[0m\u001b[0;34m\u001b[0m\u001b[0;34m\u001b[0m\u001b[0m\n",
      "\u001b[0;32m<ipython-input-133-6bfea4ef46fd>\u001b[0m in \u001b[0;36mgenerate_antibiotic_groups\u001b[0;34m(modified_dict)\u001b[0m\n\u001b[1;32m      8\u001b[0m     \u001b[0mnum_gropus\u001b[0m \u001b[0;34m=\u001b[0m \u001b[0mrandom\u001b[0m\u001b[0;34m.\u001b[0m\u001b[0mrandint\u001b[0m\u001b[0;34m(\u001b[0m\u001b[0;36m1\u001b[0m\u001b[0;34m,\u001b[0m\u001b[0;36m7\u001b[0m\u001b[0;34m)\u001b[0m\u001b[0;34m\u001b[0m\u001b[0;34m\u001b[0m\u001b[0m\n\u001b[1;32m      9\u001b[0m     \u001b[0;32mfor\u001b[0m \u001b[0mgroup_no\u001b[0m \u001b[0;32min\u001b[0m \u001b[0mrange\u001b[0m\u001b[0;34m(\u001b[0m\u001b[0;36m1\u001b[0m\u001b[0;34m,\u001b[0m\u001b[0mnum_gropus\u001b[0m\u001b[0;34m)\u001b[0m\u001b[0;34m:\u001b[0m\u001b[0;34m\u001b[0m\u001b[0;34m\u001b[0m\u001b[0m\n\u001b[0;32m---> 10\u001b[0;31m         \u001b[0mexisting_antibiotic\u001b[0m \u001b[0;34m=\u001b[0m \u001b[0mmodified_dict\u001b[0m\u001b[0;34m[\u001b[0m\u001b[0;34m'(Antibiotic '\u001b[0m\u001b[0;34m+\u001b[0m\u001b[0mstr\u001b[0m\u001b[0;34m(\u001b[0m\u001b[0mgroup_no\u001b[0m\u001b[0;34m)\u001b[0m\u001b[0;34m+\u001b[0m\u001b[0;34m') Generic Name'\u001b[0m\u001b[0;34m]\u001b[0m\u001b[0;34m\u001b[0m\u001b[0;34m\u001b[0m\u001b[0m\n\u001b[0m\u001b[1;32m     11\u001b[0m         \u001b[0;32mif\u001b[0m \u001b[0mexisting_antibiotic\u001b[0m \u001b[0;34m!=\u001b[0m \u001b[0;34m'NaN'\u001b[0m\u001b[0;34m:\u001b[0m\u001b[0;34m\u001b[0m\u001b[0;34m\u001b[0m\u001b[0m\n\u001b[1;32m     12\u001b[0m             \u001b[0mmodified_dict\u001b[0m \u001b[0;34m=\u001b[0m \u001b[0mgenerate_antibiotic_group\u001b[0m\u001b[0;34m(\u001b[0m\u001b[0mexisting_antibiotic\u001b[0m\u001b[0;34m,\u001b[0m\u001b[0mgroup_no\u001b[0m\u001b[0;34m=\u001b[0m\u001b[0mgroup_no\u001b[0m\u001b[0;34m,\u001b[0m \u001b[0mnew_dict\u001b[0m\u001b[0;34m=\u001b[0m\u001b[0mmodified_dict\u001b[0m\u001b[0;34m)\u001b[0m\u001b[0;34m\u001b[0m\u001b[0;34m\u001b[0m\u001b[0m\n",
      "\u001b[0;31mKeyError\u001b[0m: '(Antibiotic 1) Generic Name'"
     ]
    }
   ],
   "source": [
    "for line_no in range(0, len(patient_data)):\n",
    "    for fake_gen_no in (0, multiplication_factor):\n",
    "        original_dict = patient_data.iloc[0].to_dict()\n",
    "        modified_dict = original_dict\n",
    "        ################################################\n",
    "        modified_dict['Pt. Name/ IP no'] = generate_random_patient_Name()\n",
    "        modified_dict['Sex'] = generate_sex()\n",
    "        modified_dict['Age (in yr)'] = generate_random_age(int(original_dict['Age (in yr)']))\n",
    "        modified_dict['Weight (in kg)'] = generate_weight()\n",
    "        modified_dict['Antibiotic in Past'] =  generate_antibiotics_in_past()\n",
    "        modified_dict['No. of Days Hospitalized'] =  generate_num_day_hospitalized(2, 10)\n",
    "        modified_dict['Culture SensitIVity Test'] = generate_culture_sensitivity_test()\n",
    "        modified_dict = generate_antibiotic_groups(modified_dict)\n",
    "        \n",
    "        ################################################\n",
    "        print(modified_dict)\n",
    "        \n",
    "        patient_data = patient_data.append(modified_dict, ignore_index=True)\n",
    "        break\n",
    "    break\n",
    "        "
   ]
  },
  {
   "cell_type": "code",
   "execution_count": null,
   "metadata": {
    "collapsed": true
   },
   "outputs": [],
   "source": []
  }
 ],
 "metadata": {
  "kernelspec": {
   "display_name": "Python 3",
   "language": "python",
   "name": "python3"
  },
  "language_info": {
   "codemirror_mode": {
    "name": "ipython",
    "version": 3
   },
   "file_extension": ".py",
   "mimetype": "text/x-python",
   "name": "python",
   "nbconvert_exporter": "python",
   "pygments_lexer": "ipython3",
   "version": "3.6.8"
  }
 },
 "nbformat": 4,
 "nbformat_minor": 2
}
