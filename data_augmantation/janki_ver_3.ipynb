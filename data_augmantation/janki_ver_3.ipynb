{
 "cells": [
  {
   "cell_type": "markdown",
   "metadata": {},
   "source": [
    "# Supporting functions"
   ]
  },
  {
   "cell_type": "code",
   "execution_count": 1,
   "metadata": {},
   "outputs": [
    {
     "name": "stderr",
     "output_type": "stream",
     "text": [
      "/home/sunil.patel/anaconda3/lib/python3.6/site-packages/fuzzywuzzy/fuzz.py:11: UserWarning: Using slow pure-python SequenceMatcher. Install python-Levenshtein to remove this warning\n",
      "  warnings.warn('Using slow pure-python SequenceMatcher. Install python-Levenshtein to remove this warning')\n"
     ]
    }
   ],
   "source": [
    "import pandas as pd\n",
    "import operator\n",
    "import re\n",
    "from fuzzywuzzy import fuzz \n",
    "from fuzzywuzzy import process\n",
    "import json\n",
    "import tqdm"
   ]
  },
  {
   "cell_type": "code",
   "execution_count": 2,
   "metadata": {
    "collapsed": true
   },
   "outputs": [],
   "source": [
    "# function for common string cleanup\n",
    "def cleanup(x):\n",
    "    return str(x).replace(\"\\t\",\"\").replace(\"\\s\",\"\").strip()"
   ]
  },
  {
   "cell_type": "markdown",
   "metadata": {},
   "source": [
    "# Reading mater drug file and creating dictionary\n",
    "returning relevent result to the entered one"
   ]
  },
  {
   "cell_type": "code",
   "execution_count": 3,
   "metadata": {},
   "outputs": [
    {
     "name": "stderr",
     "output_type": "stream",
     "text": [
      "/home/sunil.patel/anaconda3/lib/python3.6/site-packages/ipykernel_launcher.py:1: ParserWarning: Falling back to the 'python' engine because the separator encoded in utf-8 is > 1 char long, and the 'c' engine does not support such separators; you can avoid this warning by specifying engine='python'.\n",
      "  \"\"\"Entry point for launching an IPython kernel.\n"
     ]
    }
   ],
   "source": [
    "df = pd.read_csv(\"data/out_unique_final.csv\", sep=\"ж\")\n",
    "df = df.apply(lambda x: x.astype(str).str.lower())"
   ]
  },
  {
   "cell_type": "code",
   "execution_count": 4,
   "metadata": {},
   "outputs": [
    {
     "data": {
      "text/plain": [
       "Index(['S/N', 'Manufacturer', 'Name', 'Type', 'Unit(Dose)',\n",
       "       'Constituents/Unit', 'Package unit', 'Price(In Rs.)',\n",
       "       'Price/Unit (In Rs.)'],\n",
       "      dtype='object')"
      ]
     },
     "execution_count": 4,
     "metadata": {},
     "output_type": "execute_result"
    }
   ],
   "source": [
    "df.columns"
   ]
  },
  {
   "cell_type": "code",
   "execution_count": 5,
   "metadata": {
    "collapsed": true
   },
   "outputs": [],
   "source": [
    "class master_drug_file_handeller:\n",
    "    max_replacements = 10\n",
    "    def __init__(self):\n",
    "        self.master_drug_list = []\n",
    "        self.master_drug_store = []\n",
    "        for i in range(0, len(df)):\n",
    "            drug_dict = df.iloc[i].to_dict()\n",
    "            drug_dict['id'] = i\n",
    "            self.master_drug_list.append(drug_dict['Constituents/Unit'])\n",
    "            self.master_drug_store.append(drug_dict)\n",
    "    \n",
    "    def relevent_searcher(self, text):\n",
    "        self.relevence_dict = {}\n",
    "        scores = [fuzz.ratio(i, text) for i in self.master_drug_list]\n",
    "        scores_ids = [i for i in range(0,len(self.master_drug_list))]\n",
    "        for score,id in zip(scores, scores_ids):\n",
    "            if id not in self.relevence_dict.keys():\n",
    "                self.relevence_dict[id] = score\n",
    "        #soriting the suggestion    \n",
    "        sorted_x = sorted(self.relevence_dict.items(), key=operator.itemgetter(1), reverse=True)\n",
    "        return  sorted_x[:10]"
   ]
  },
  {
   "cell_type": "code",
   "execution_count": 6,
   "metadata": {
    "collapsed": true
   },
   "outputs": [],
   "source": [
    "MDFH = master_drug_file_handeller()"
   ]
  },
  {
   "cell_type": "code",
   "execution_count": 7,
   "metadata": {},
   "outputs": [],
   "source": [
    "relevence_dict_list = MDFH.relevent_searcher(\"PIPERACILLIN+TAZOBACTUM\".lower())"
   ]
  },
  {
   "cell_type": "code",
   "execution_count": 8,
   "metadata": {},
   "outputs": [
    {
     "data": {
      "text/plain": [
       "{'Constituents/Unit': 'piperacillin+tazobactam',\n",
       " 'Manufacturer': 'profic organic ltd.',\n",
       " 'Name': 'proact (4000+500)',\n",
       " 'Package unit': '1 vial',\n",
       " 'Price(In Rs.)': '189.00',\n",
       " 'Price/Unit (In Rs.)': '189.00',\n",
       " 'S/N': '7',\n",
       " 'Type': 'injection',\n",
       " 'Unit(Dose)': '1 vial',\n",
       " 'id': 37032}"
      ]
     },
     "execution_count": 8,
     "metadata": {},
     "output_type": "execute_result"
    }
   ],
   "source": [
    "MDFH.master_drug_store[37032]"
   ]
  },
  {
   "cell_type": "markdown",
   "metadata": {},
   "source": [
    "# Reading file provided by Janki - Patient Data"
   ]
  },
  {
   "cell_type": "markdown",
   "metadata": {},
   "source": [
    "---\n",
    "\n",
    "### Supporting function"
   ]
  },
  {
   "cell_type": "code",
   "execution_count": 9,
   "metadata": {
    "collapsed": true
   },
   "outputs": [],
   "source": [
    "import random\n",
    "import time\n",
    "import string\n",
    "from pandas import Series"
   ]
  },
  {
   "cell_type": "code",
   "execution_count": 10,
   "metadata": {
    "collapsed": true
   },
   "outputs": [],
   "source": [
    "def generate_random_age(num):\n",
    "    standard_limit = random.randint(-5,5)\n",
    "    random_age = num+standard_limit\n",
    "    return int(random_age)"
   ]
  },
  {
   "cell_type": "code",
   "execution_count": 11,
   "metadata": {
    "collapsed": true
   },
   "outputs": [],
   "source": [
    "def generate_random_patient_Name(stringLength=2):\n",
    "    \"\"\"\n",
    "    generate_random_patient_Name\n",
    "    \"\"\"\n",
    "    letters = string.ascii_lowercase\n",
    "    return ''.join(random.choice(letters) for i in range(stringLength)).upper()"
   ]
  },
  {
   "cell_type": "code",
   "execution_count": 12,
   "metadata": {
    "collapsed": true
   },
   "outputs": [],
   "source": [
    "def generate_sex():\n",
    "    \"\"\"\n",
    "    generate_sex()\n",
    "    \"\"\"\n",
    "    random_prob = random.random()\n",
    "    if random_prob > 0.66:\n",
    "        return 2\n",
    "    else: \n",
    "        return 1"
   ]
  },
  {
   "cell_type": "code",
   "execution_count": 13,
   "metadata": {
    "collapsed": true
   },
   "outputs": [],
   "source": [
    "def generate_weight(num):\n",
    "    \"\"\"\n",
    "    generate_weight(num)\n",
    "    \"\"\"\n",
    "    random_prob = random.random()\n",
    "    if random_prob >= 0.1  and  random_prob <= 0.7 :\n",
    "        # retuen None as many of the values are none\n",
    "        return None\n",
    "    else:\n",
    "        standard_limit = random.randint(-5,5)\n",
    "        random_age = num+standard_limit\n",
    "        return int(random_age)\n"
   ]
  },
  {
   "cell_type": "code",
   "execution_count": 14,
   "metadata": {
    "collapsed": true
   },
   "outputs": [],
   "source": [
    "def generate_weight():\n",
    "    \"always not recorded\"\n",
    "    return None\n",
    "def generate_BMI():\n",
    "    \"always not recorded\"\n",
    "    return None\n",
    "def generate_antibiotics_in_past():\n",
    "    \"\"\"\n",
    "    Assuming 20% time patient dont know or taking patients taking antibiotics for the first time\n",
    "    \"\"\"\n",
    "    random_prob = random.random()\n",
    "    if random_prob < 0.4:\n",
    "        # 0.1 % person knws tahat they have takenn antibiotics in the past\n",
    "        return \"Yes\"\n",
    "    if random_prob >= 0.4  and  random_prob <= 0.9 :\n",
    "        # not sure patients\n",
    "        return None\n",
    "    elif random_prob >= 0.9 :\n",
    "        # 0.1 % person knws tahat they have  not takenn antibiotics in the past\n",
    "        return \"No\"\n",
    "def generate_details_of_antibiotics_used():\n",
    "    \"\"\"\n",
    "    Always render no as no one rememberes waht was taken last time\n",
    "    \"\"\"\n",
    "    return \"Dont Know\"\n",
    "\n",
    "def generate_num_day_hospitalized(min, max):\n",
    "    \"\"\"\n",
    "    randomly generatiing number of days stayed in hospital  \n",
    "    \"\"\"\n",
    "    return random.randint(min, max)\n",
    "def generate_culture_sensitivity_test():\n",
    "    random_prob = random.random()\n",
    "    if random_prob>0.90:\n",
    "        return \"performed\"\n",
    "    else:\n",
    "        return \"Not performed\"\n"
   ]
  },
  {
   "cell_type": "markdown",
   "metadata": {},
   "source": [
    "### Antibiotic group genration"
   ]
  },
  {
   "cell_type": "code",
   "execution_count": 15,
   "metadata": {
    "collapsed": true
   },
   "outputs": [],
   "source": [
    "# getting/antibiotic_class\n",
    "antibiotic_mapping = pd.read_excel('data/antibiotic_class.xlsx',sheetname='Sheet1')"
   ]
  },
  {
   "cell_type": "code",
   "execution_count": 16,
   "metadata": {
    "collapsed": true
   },
   "outputs": [],
   "source": [
    "antibitic_class_mapping = {}\n",
    "for i in range(0,len(antibiotic_mapping)):\n",
    "    dict_ = antibiotic_mapping.iloc[i].to_dict()\n",
    "    antibitic_class_mapping[dict_['Drug Name'].lower().replace(\"/\",'+').strip()] = dict_['Drug class'].lower().strip()"
   ]
  },
  {
   "cell_type": "code",
   "execution_count": 17,
   "metadata": {},
   "outputs": [],
   "source": [
    "def generate_details_for_antibiotics(antibiotic_generic_name):\n",
    "    relevence_dict_list = []\n",
    "    while (len(relevence_dict_list) == 0):\n",
    "        relevence_dict_list = MDFH.relevent_searcher(str(antibiotic_generic_name).lower())\n",
    "    print(relevence_dict_list)\n",
    "    random_chosen  = random.randint(0, len(relevence_dict_list)-1)\n",
    "    random_antbiotic_id  = relevence_dict_list[random_chosen][0]\n",
    "    \n",
    "    return MDFH.master_drug_store[random_antbiotic_id]\n",
    "\n",
    "def get_antibiotic_class(antibiotic):\n",
    "    if '+' in antibiotic:\n",
    "        return \"Fixed dose combiination\"\n",
    "    try:\n",
    "        class_  = antibitic_class_mapping[str(antibiotic).lower()]\n",
    "        return class_\n",
    "    except:\n",
    "        return \"**NA**\"\n",
    "def get_dose_route(form):\n",
    "    if 'tablet' in form.lower() or 'capsule'  in form.lower():\n",
    "        return \"Oral\"\n",
    "    else:\n",
    "        return \"IV\"\n",
    "\n",
    "def get_dosage(text_with_dosage):\n",
    "    found =  re.findall(r'(\\d+){1,3}', text_with_dosage, re.I)\n",
    "    result=  [int(i) for i in found]\n",
    "    if len(result) == 0:\n",
    "        return random.choice([300, 400, 350, 250])\n",
    "    return result\n",
    "\n",
    "    \n",
    "    \n",
    "def generate_antibiotic_group(generic_name,group_no=1, new_dict = {}):\n",
    "    \"\"\"\n",
    "     '(Antibiotic 1) Generic Name ',\n",
    "     '(Antibiotic 1) Class',\n",
    "     '(Antibiotic 1) Dose (mg)',\n",
    "     '(Antibiotic 1) Route',\n",
    "     '(Antibiotic 1) Units',\n",
    "     '(Antibiotic 1) Total Dose Administered (mg)',\n",
    "     '(Antibiotic 1) Cost (Rs)',\n",
    "     '(Antibiotic 1) Total Cost (Rs)',\n",
    "     New info \n",
    "     {'Constituents/Unit': 'piperacillin+tazobactam',\n",
    "     'Manufacturer': 'profic organic ltd.',\n",
    "     'Name': 'proact (4000+500)',\n",
    "     'Package unit': '1 vial',\n",
    "     'Price(In Rs.)': '189.00',\n",
    "     'Price/Unit (In Rs.)': '189.00',\n",
    "     'S/N': '7',\n",
    "     'Type': 'injection',\n",
    "     'Unit(Dose)': '1 vial',\n",
    "     'id': 37032}\n",
    "    \"\"\"\n",
    "    dict_ = dict(generate_details_for_antibiotics(generic_name))\n",
    "#     print(dict_)\n",
    "    new_dict['(Antibiotic '+str(group_no)+') Generic Name'] =  dict_['Constituents/Unit']\n",
    "    new_dict['(Antibiotic '+str(group_no)+') Class'] =  get_antibiotic_class(generic_name)\n",
    "    new_dict['(Antibiotic '+str(group_no)+') Dose (mg)'] = get_dosage(dict_['Name']) if len(get_dosage(dict_['Name']))>0 else new_dict['(Antibiotic '+str(group_no)+') Dose (mg)']\n",
    "    new_dict['(Antibiotic '+str(group_no)+') Route'] = get_dose_route(dict_['Package unit'])\n",
    "    units_administered = new_dict['(Antibiotic '+str(group_no)+') Units'] =  random.randint(3,12)\n",
    "    new_dict['(Antibiotic '+str(group_no)+') Total Dose Administered (mg)'] = [i*units_administered for i in get_dosage(dict_['Name'])]\n",
    "    new_dict['(Antibiotic '+str(group_no)+') Cost (Rs)'] = float(dict_['Price/Unit (In Rs.)'])\n",
    "    new_dict['(Antibiotic '+str(group_no)+') Total Cost (Rs)'] =  float(dict_['Price/Unit (In Rs.)'])*units_administered\n",
    "\n",
    "    return new_dict"
   ]
  },
  {
   "cell_type": "code",
   "execution_count": 18,
   "metadata": {},
   "outputs": [],
   "source": [
    "# for i in range(0,10):\n",
    "#     generate_antibiotic_group(\"cefixime\", 3)"
   ]
  },
  {
   "cell_type": "markdown",
   "metadata": {},
   "source": [
    "---"
   ]
  },
  {
   "cell_type": "code",
   "execution_count": 19,
   "metadata": {
    "collapsed": true
   },
   "outputs": [],
   "source": [
    "patient_data = pd.read_excel('data/xcel_patient_data.xlsx',sheetname='Sheet1&3')"
   ]
  },
  {
   "cell_type": "code",
   "execution_count": 20,
   "metadata": {},
   "outputs": [
    {
     "name": "stdout",
     "output_type": "stream",
     "text": [
      "['Form No.', 'Hosp. Name', 'Pt. Name/ IP no', 'Sex', 'Age (in yr)', 'Weight (in kg)', 'BMI (kg/m2)', 'Antibiotic in Past', 'If Yes, Details of Antibiotic used', 'No. of Days Hospitalized', 'Diagnosis', 'Culture SensitIVity Test', 'No. of Drugs/prescription', 'No. of Antibiotics', 'No. of Antibiotics by Generic Name', 'No. of Antibiotics by Brand Name', 'No. of FDC', 'No. of Antibiotics prescribed from NLEM 2017', 'Switch Over therapy', 'Parentral', 'Oral', 'Syrup', 'Eye drop', 'Ear drop', 'Others formulations', '(Antibiotic 1) Generic Name', '(Antibiotic 1) Class', '(Antibiotic 1) Dose (mg)', '(Antibiotic 1) Route', '(Antibiotic 1) Units', '(Antibiotic 1) Total Dose Administered (mg)', '(Antibiotic 1) Cost (Rs)', '(Antibiotic 1) Total Cost (Rs)', '(Antibiotic 2) Generic Name', '(Antibiotic 2) Class', '(Antibiotic 2) Dose (mg)', '(Antibiotic 2) Route', '(Antibiotic 2) Units', '(Antibiotic 2) Total Dose Administered (mg)', '(Antibiotic 2) Cost (Rs)', '(Antibiotic 2) Total Cost (Rs)', '(Antibiotic 3) Generic Name', '(Antibiotic 3) Class', '(Antibiotic 3) Dose (mg)', '(Antibiotic 3) Route', '(Antibiotic 3) Units', '(Antibiotic 3) Total Dose Administered (mg)', '(Antibiotic 3) Cost (Rs)', '(Antibiotic 3) Total Cost (Rs)', '(Antibiotic 4) Generic Name', '(Antibiotic 4) Class', '(Antibiotic 4) Dose (mg)', '(Antibiotic 4) Route', '(Antibiotic 4) Units', '(Antibiotic 4) Total Dose Administered (mg)', '(Antibiotic 4) Cost (Rs)', '(Antibiotic 4) Total Cost (Rs)', '(Antibiotic 5) Generic Name', '(Antibiotic 5) Class', '(Antibiotic 5) Dose (mg)', '(Antibiotic 5) Route', '(Antibiotic 5) Units', '(Antibiotic 5) Total Dose Administered (mg)', '(Antibiotic 5) Cost (Rs)', '(Antibiotic 5) Total Cost (Rs)', '(Antibiotic 6) Generic Name', '(Antibiotic 6) Class', '(Antibiotic 6) Dose (mg)', '(Antibiotic 6) Route', '(Antibiotic 6) Units', '(Antibiotic 6) Total Dose Administered (mg)', '(Antibiotic 6) Cost (Rs)', '(Antibiotic 6) Total Cost (Rs)', '(Antibiotic 7) Generic Name', '(Antibiotic 7) Class', '(Antibiotic 7) Dose (mg)', '(Antibiotic 7) Route', '(Antibiotic 7) Units', '(Antibiotic 7) Total Dose Administered (mg)', '(Antibiotic 7) Cost (Rs)', '(Antibiotic 7) Total Cost (Rs)', 'No. of Major DI', 'No. of Moderate DI', 'No. of Minor DI', 'Major DI 1', 'Major DI 2', 'Major DI 3', 'Major DI 4', 'Moderate DI 1', 'Moderate DI 2', 'Moderate DI 3', 'Minor DI 1', 'Minor DI 2', 'Minor DI 3', 'Total Cost of Antibiotics', 'Total Cost of Other Drugs', 'Total Cost of Drugs', 'Suspected Organism', 'Reaction', 'Management', 'MKC 1', 'MKC2', 'MKC3', 'MKC4', 'MKC5']\n"
     ]
    }
   ],
   "source": [
    "print(list(patient_data.columns))"
   ]
  },
  {
   "cell_type": "markdown",
   "metadata": {},
   "source": [
    "---\n",
    "# Mater iterator"
   ]
  },
  {
   "cell_type": "code",
   "execution_count": 21,
   "metadata": {
    "collapsed": true
   },
   "outputs": [],
   "source": [
    "multiplication_factor = 10\n",
    "random_pic_list = [\"amikacin\", \"amoxicilin+clavulanic acid\", \"amoxicillin\", \"amoxicillin + clavulanicacid\", \"amoxicillin+clavulanic acid\", \"amoxicilln\", \"azithromycin\", \"cefepime\", \"cefixime\", \"cefixime + salbutamol\", \"cefoparazone+salbactum\", \"cefopaxime\", \"cefotaxime\", \"cefotaxime + salbactum\", \"ceftriaxone\", \"ceftriaxone + salbactum\", \"ceftriaxone+salbactum\", \"cetriaxone\", \"ciprofloxacil\", \"ciprofloxacin\", \"clarithromycin\", \"clindamycin\", \"doxicycllin\", \"doxycyclin\", \"doxycycline\", \"levofloxacin\", \"meropenem\", \"metronidaxole\", \"metronidazole\", \"moxifloxacin\", \"ofloxacin\", \"ofloxcin\", \"piperacillin\", \"piperacillin+tazobactum\"]"
   ]
  },
  {
   "cell_type": "code",
   "execution_count": 22,
   "metadata": {
    "collapsed": true
   },
   "outputs": [],
   "source": [
    "def get_new_antibiotics(existing_antibiotic):\n",
    "    for each_existing_antibiotic in existing_antibiotic:\n",
    "        if each_existing_antibiotic.lower() not in random_pic_list:\n",
    "            return each_existing_antibiotic.lower()\n",
    "    \n",
    "def generate_antibiotic_groups(modified_dict):\n",
    "    total_groups = 7\n",
    "\n",
    "    num_gropus = random.randint(1,7)\n",
    "    model_of_administration_counter = []\n",
    "    group_no = 0\n",
    "    for group_no in range(1,num_gropus):\n",
    "        existing_antibiotic = modified_dict['(Antibiotic '+str(group_no)+') Generic Name']\n",
    "        if existing_antibiotic != 'NaN':\n",
    "            modified_dict = generate_antibiotic_group(existing_antibiotic,group_no=group_no, new_dict=modified_dict)\n",
    "            model_of_administration_counter.append(modified_dict['(Antibiotic '+str(group_no)+') Route'])\n",
    "\n",
    "        else:\n",
    "            new_antibiotic = get_new_antibiotics(existing_antibiotic)\n",
    "            modified_dict = generate_antibiotic_group(new_antibiotic,group_no=group_no, new_dict=modified_dict)\n",
    "            model_of_administration_counter.append(modified_dict['(Antibiotic '+str(group_no)+') Route'])\n",
    "            break\n",
    "            \n",
    "    modified_dict['Switch Over therapy'] = 1 if group_no > 1 else 0\n",
    "    modified_dict['No. of Antibiotics'] = group_no\n",
    "    modified_dict['Parentral'] = model_of_administration_counter.count('IV')\n",
    "    modified_dict['Oral'] = model_of_administration_counter.count('Oral')\n",
    "    return modified_dict"
   ]
  },
  {
   "cell_type": "code",
   "execution_count": 23,
   "metadata": {},
   "outputs": [
    {
     "name": "stderr",
     "output_type": "stream",
     "text": [
      "\r",
      "  0%|          | 0/132 [00:00<?, ?it/s]"
     ]
    },
    {
     "name": "stdout",
     "output_type": "stream",
     "text": [
      "[(46057, 100), (46058, 100), (46059, 100), (46060, 100), (46061, 100), (46062, 100), (46063, 100), (46064, 100), (46065, 100), (46066, 100)]\n",
      "[(46057, 100), (46058, 100), (46059, 100), (46060, 100), (46061, 100), (46062, 100), (46063, 100), (46064, 100), (46065, 100), (46066, 100)]\n",
      "[(13216, 100), (13217, 100), (13218, 100), (13219, 100), (13220, 100), (13221, 100), (13222, 100), (13223, 100), (13225, 100), (13226, 100)]\n",
      "[(18953, 100), (18956, 100), (18957, 100), (18959, 100), (18960, 100), (18962, 100), (18963, 100), (18964, 100), (18965, 100), (18966, 100)]\n",
      "[(113953, 55), (113954, 55), (113955, 55), (113956, 55), (113957, 55), (113958, 55), (113959, 55), (113960, 55), (113961, 55), (113962, 55)]\n",
      "[(46057, 100), (46058, 100), (46059, 100), (46060, 100), (46061, 100), (46062, 100), (46063, 100), (46064, 100), (46065, 100), (46066, 100)]\n",
      "[(46057, 100), (46058, 100), (46059, 100), (46060, 100), (46061, 100), (46062, 100), (46063, 100), (46064, 100), (46065, 100), (46066, 100)]\n",
      "[(13216, 100), (13217, 100), (13218, 100), (13219, 100), (13220, 100), (13221, 100), (13222, 100), (13223, 100), (13225, 100), (13226, 100)]\n",
      "[(18953, 100), (18956, 100), (18957, 100), (18959, 100), (18960, 100), (18962, 100), (18963, 100), (18964, 100), (18965, 100), (18966, 100)]\n"
     ]
    },
    {
     "name": "stderr",
     "output_type": "stream",
     "text": [
      "\r",
      "  1%|          | 1/132 [04:09<9:05:00, 249.62s/it]"
     ]
    },
    {
     "name": "stdout",
     "output_type": "stream",
     "text": [
      "[(113953, 55), (113954, 55), (113955, 55), (113956, 55), (113957, 55), (113958, 55), (113959, 55), (113960, 55), (113961, 55), (113962, 55)]\n",
      "[(58671, 90), (58673, 90), (58675, 90), (58677, 90), (58678, 90), (58679, 90), (58680, 90), (58681, 90), (58682, 90), (58683, 90)]\n",
      "[(58671, 90), (58673, 90), (58675, 90), (58677, 90), (58678, 90), (58679, 90), (58680, 90), (58681, 90), (58682, 90), (58683, 90)]\n",
      "[(18953, 100), (18956, 100), (18957, 100), (18959, 100), (18960, 100), (18962, 100), (18963, 100), (18964, 100), (18965, 100), (18966, 100)]\n"
     ]
    },
    {
     "name": "stderr",
     "output_type": "stream",
     "text": [
      "\r",
      "  2%|▏         | 2/132 [05:45<7:21:13, 203.64s/it]"
     ]
    },
    {
     "name": "stdout",
     "output_type": "stream",
     "text": [
      "[(113953, 55), (113954, 55), (113955, 55), (113956, 55), (113957, 55), (113958, 55), (113959, 55), (113960, 55), (113961, 55), (113962, 55)]\n"
     ]
    },
    {
     "name": "stderr",
     "output_type": "stream",
     "text": [
      "\r",
      "  2%|▏         | 3/132 [06:13<5:24:09, 150.77s/it]"
     ]
    },
    {
     "name": "stdout",
     "output_type": "stream",
     "text": [
      "[(46057, 100), (46058, 100), (46059, 100), (46060, 100), (46061, 100), (46062, 100), (46063, 100), (46064, 100), (46065, 100), (46066, 100)]\n",
      "[(18953, 100), (18956, 100), (18957, 100), (18959, 100), (18960, 100), (18962, 100), (18963, 100), (18964, 100), (18965, 100), (18966, 100)]\n",
      "[(12825, 100), (12826, 100), (458808, 100), (2933, 91), (2934, 91), (2935, 91), (2936, 91), (2937, 91), (2939, 91), (2940, 91)]\n",
      "[(113953, 55), (113954, 55), (113955, 55), (113956, 55), (113957, 55), (113958, 55), (113959, 55), (113960, 55), (113961, 55), (113962, 55)]\n",
      "[(18953, 100), (18956, 100), (18957, 100), (18959, 100), (18960, 100), (18962, 100), (18963, 100), (18964, 100), (18965, 100), (18966, 100)]\n",
      "[(12825, 100), (12826, 100), (458808, 100), (2933, 91), (2934, 91), (2935, 91), (2936, 91), (2937, 91), (2939, 91), (2940, 91)]\n"
     ]
    },
    {
     "name": "stderr",
     "output_type": "stream",
     "text": [
      "\r",
      "  3%|▎         | 4/132 [08:33<5:14:54, 147.61s/it]"
     ]
    },
    {
     "name": "stdout",
     "output_type": "stream",
     "text": [
      "[(113953, 55), (113954, 55), (113955, 55), (113956, 55), (113957, 55), (113958, 55), (113959, 55), (113960, 55), (113961, 55), (113962, 55)]\n",
      "[(18953, 100), (18956, 100), (18957, 100), (18959, 100), (18960, 100), (18962, 100), (18963, 100), (18964, 100), (18965, 100), (18966, 100)]\n",
      "[(18953, 100), (18956, 100), (18957, 100), (18959, 100), (18960, 100), (18962, 100), (18963, 100), (18964, 100), (18965, 100), (18966, 100)]\n"
     ]
    },
    {
     "name": "stderr",
     "output_type": "stream",
     "text": [
      "\r",
      "  4%|▍         | 5/132 [09:44<4:23:48, 124.63s/it]"
     ]
    },
    {
     "name": "stdout",
     "output_type": "stream",
     "text": [
      "[(113953, 55), (113954, 55), (113955, 55), (113956, 55), (113957, 55), (113958, 55), (113959, 55), (113960, 55), (113961, 55), (113962, 55)]\n",
      "[(18953, 100), (18956, 100), (18957, 100), (18959, 100), (18960, 100), (18962, 100), (18963, 100), (18964, 100), (18965, 100), (18966, 100)]\n",
      "[(18953, 100), (18956, 100), (18957, 100), (18959, 100), (18960, 100), (18962, 100), (18963, 100), (18964, 100), (18965, 100), (18966, 100)]\n",
      "[(40772, 100), (40773, 100), (40774, 100), (40775, 100), (40776, 100), (40777, 100), (40778, 100), (40779, 100), (40780, 100), (40781, 100)]\n"
     ]
    },
    {
     "name": "stderr",
     "output_type": "stream",
     "text": [
      "\r",
      "  5%|▍         | 6/132 [11:27<4:07:59, 118.09s/it]"
     ]
    },
    {
     "name": "stdout",
     "output_type": "stream",
     "text": [
      "[(74273, 100), (74274, 100), (74275, 100), (74276, 100), (74277, 100), (74278, 100), (74279, 100), (74281, 100), (74282, 100), (74284, 100)]\n",
      "[(13216, 100), (13217, 100), (13218, 100), (13219, 100), (13220, 100), (13221, 100), (13222, 100), (13223, 100), (13225, 100), (13226, 100)]\n",
      "[(40772, 100), (40773, 100), (40774, 100), (40775, 100), (40776, 100), (40777, 100), (40778, 100), (40779, 100), (40780, 100), (40781, 100)]\n",
      "[(74273, 100), (74274, 100), (74275, 100), (74276, 100), (74277, 100), (74278, 100), (74279, 100), (74281, 100), (74282, 100), (74284, 100)]\n",
      "[(113953, 55), (113954, 55), (113955, 55), (113956, 55), (113957, 55), (113958, 55), (113959, 55), (113960, 55), (113961, 55), (113962, 55)]\n",
      "[(13216, 100), (13217, 100), (13218, 100), (13219, 100), (13220, 100), (13221, 100), (13222, 100), (13223, 100), (13225, 100), (13226, 100)]\n",
      "[(40772, 100), (40773, 100), (40774, 100), (40775, 100), (40776, 100), (40777, 100), (40778, 100), (40779, 100), (40780, 100), (40781, 100)]\n"
     ]
    },
    {
     "name": "stderr",
     "output_type": "stream",
     "text": [
      "\r",
      "  5%|▌         | 7/132 [14:20<4:40:16, 134.53s/it]"
     ]
    },
    {
     "name": "stdout",
     "output_type": "stream",
     "text": [
      "[(74273, 100), (74274, 100), (74275, 100), (74276, 100), (74277, 100), (74278, 100), (74279, 100), (74281, 100), (74282, 100), (74284, 100)]\n"
     ]
    },
    {
     "name": "stderr",
     "output_type": "stream",
     "text": [
      "\r",
      "  6%|▌         | 8/132 [14:50<3:33:20, 103.23s/it]"
     ]
    },
    {
     "name": "stdout",
     "output_type": "stream",
     "text": [
      "[(18953, 100), (18956, 100), (18957, 100), (18959, 100), (18960, 100), (18962, 100), (18963, 100), (18964, 100), (18965, 100), (18966, 100)]\n",
      "[(13216, 100), (13217, 100), (13218, 100), (13219, 100), (13220, 100), (13221, 100), (13222, 100), (13223, 100), (13225, 100), (13226, 100)]\n",
      "[(40772, 100), (40773, 100), (40774, 100), (40775, 100), (40776, 100), (40777, 100), (40778, 100), (40779, 100), (40780, 100), (40781, 100)]\n"
     ]
    },
    {
     "name": "stderr",
     "output_type": "stream",
     "text": [
      "\r",
      "  7%|▋         | 9/132 [16:06<3:15:06, 95.18s/it] "
     ]
    },
    {
     "name": "stdout",
     "output_type": "stream",
     "text": [
      "[(13216, 100), (13217, 100), (13218, 100), (13219, 100), (13220, 100), (13221, 100), (13222, 100), (13223, 100), (13225, 100), (13226, 100)]\n",
      "[(18953, 100), (18956, 100), (18957, 100), (18959, 100), (18960, 100), (18962, 100), (18963, 100), (18964, 100), (18965, 100), (18966, 100)]\n",
      "[(18953, 100), (18956, 100), (18957, 100), (18959, 100), (18960, 100), (18962, 100), (18963, 100), (18964, 100), (18965, 100), (18966, 100)]\n",
      "[(40772, 100), (40773, 100), (40774, 100), (40775, 100), (40776, 100), (40777, 100), (40778, 100), (40779, 100), (40780, 100), (40781, 100)]\n"
     ]
    },
    {
     "name": "stderr",
     "output_type": "stream",
     "text": [
      "\r",
      "  8%|▊         | 10/132 [17:44<3:15:06, 95.96s/it]"
     ]
    },
    {
     "name": "stdout",
     "output_type": "stream",
     "text": [
      "[(113953, 55), (113954, 55), (113955, 55), (113956, 55), (113957, 55), (113958, 55), (113959, 55), (113960, 55), (113961, 55), (113962, 55)]\n",
      "[(18953, 100), (18956, 100), (18957, 100), (18959, 100), (18960, 100), (18962, 100), (18963, 100), (18964, 100), (18965, 100), (18966, 100)]\n",
      "[(18953, 100), (18956, 100), (18957, 100), (18959, 100), (18960, 100), (18962, 100), (18963, 100), (18964, 100), (18965, 100), (18966, 100)]\n",
      "[(40772, 100), (40773, 100), (40774, 100), (40775, 100), (40776, 100), (40777, 100), (40778, 100), (40779, 100), (40780, 100), (40781, 100)]\n"
     ]
    },
    {
     "name": "stderr",
     "output_type": "stream",
     "text": [
      "\r",
      "  8%|▊         | 11/132 [19:17<3:11:25, 94.92s/it]"
     ]
    },
    {
     "name": "stdout",
     "output_type": "stream",
     "text": [
      "[(113953, 55), (113954, 55), (113955, 55), (113956, 55), (113957, 55), (113958, 55), (113959, 55), (113960, 55), (113961, 55), (113962, 55)]\n",
      "[(46057, 100), (46058, 100), (46059, 100), (46060, 100), (46061, 100), (46062, 100), (46063, 100), (46064, 100), (46065, 100), (46066, 100)]\n",
      "[(107325, 100), (107326, 100), (107327, 100), (107328, 100), (107329, 100), (107330, 100), (107331, 100), (107332, 100), (107333, 100), (107334, 100)]\n"
     ]
    },
    {
     "name": "stderr",
     "output_type": "stream",
     "text": [
      "\r",
      "  9%|▉         | 12/132 [20:33<2:58:23, 89.19s/it]"
     ]
    },
    {
     "name": "stdout",
     "output_type": "stream",
     "text": [
      "[(46057, 100), (46058, 100), (46059, 100), (46060, 100), (46061, 100), (46062, 100), (46063, 100), (46064, 100), (46065, 100), (46066, 100)]\n",
      "[(18953, 100), (18956, 100), (18957, 100), (18959, 100), (18960, 100), (18962, 100), (18963, 100), (18964, 100), (18965, 100), (18966, 100)]\n",
      "[(12825, 95), (12826, 95), (458808, 95), (2933, 86), (2934, 86), (2935, 86), (2936, 86), (2937, 86), (2939, 86), (2940, 86)]\n",
      "[(113953, 55), (113954, 55), (113955, 55), (113956, 55), (113957, 55), (113958, 55), (113959, 55), (113960, 55), (113961, 55), (113962, 55)]\n",
      "[(18953, 100), (18956, 100), (18957, 100), (18959, 100), (18960, 100), (18962, 100), (18963, 100), (18964, 100), (18965, 100), (18966, 100)]\n",
      "[(12825, 95), (12826, 95), (458808, 95), (2933, 86), (2934, 86), (2935, 86), (2936, 86), (2937, 86), (2939, 86), (2940, 86)]\n"
     ]
    },
    {
     "name": "stderr",
     "output_type": "stream",
     "text": [
      "\r",
      " 10%|▉         | 13/132 [22:49<3:24:46, 103.25s/it]"
     ]
    },
    {
     "name": "stdout",
     "output_type": "stream",
     "text": [
      "[(113953, 55), (113954, 55), (113955, 55), (113956, 55), (113957, 55), (113958, 55), (113959, 55), (113960, 55), (113961, 55), (113962, 55)]\n",
      "[(18953, 100), (18956, 100), (18957, 100), (18959, 100), (18960, 100), (18962, 100), (18963, 100), (18964, 100), (18965, 100), (18966, 100)]\n",
      "[(113953, 55), (113954, 55), (113955, 55), (113956, 55), (113957, 55), (113958, 55), (113959, 55), (113960, 55), (113961, 55), (113962, 55)]\n",
      "[(18953, 100), (18956, 100), (18957, 100), (18959, 100), (18960, 100), (18962, 100), (18963, 100), (18964, 100), (18965, 100), (18966, 100)]\n"
     ]
    },
    {
     "name": "stderr",
     "output_type": "stream",
     "text": [
      "\r",
      " 11%|█         | 14/132 [24:12<3:11:09, 97.20s/it] "
     ]
    },
    {
     "name": "stdout",
     "output_type": "stream",
     "text": [
      "[(113953, 55), (113954, 55), (113955, 55), (113956, 55), (113957, 55), (113958, 55), (113959, 55), (113960, 55), (113961, 55), (113962, 55)]\n",
      "[(13216, 100), (13217, 100), (13218, 100), (13219, 100), (13220, 100), (13221, 100), (13222, 100), (13223, 100), (13225, 100), (13226, 100)]\n"
     ]
    },
    {
     "name": "stderr",
     "output_type": "stream",
     "text": [
      "\r",
      " 11%|█▏        | 15/132 [25:00<2:41:06, 82.62s/it]"
     ]
    },
    {
     "name": "stdout",
     "output_type": "stream",
     "text": [
      "[(13216, 100), (13217, 100), (13218, 100), (13219, 100), (13220, 100), (13221, 100), (13222, 100), (13223, 100), (13225, 100), (13226, 100)]\n",
      "[(18953, 100), (18956, 100), (18957, 100), (18959, 100), (18960, 100), (18962, 100), (18963, 100), (18964, 100), (18965, 100), (18966, 100)]\n",
      "[(18953, 100), (18956, 100), (18957, 100), (18959, 100), (18960, 100), (18962, 100), (18963, 100), (18964, 100), (18965, 100), (18966, 100)]\n"
     ]
    },
    {
     "name": "stderr",
     "output_type": "stream",
     "text": [
      "\r",
      " 12%|█▏        | 16/132 [26:20<2:37:55, 81.68s/it]"
     ]
    },
    {
     "name": "stdout",
     "output_type": "stream",
     "text": [
      "[(46057, 100), (46058, 100), (46059, 100), (46060, 100), (46061, 100), (46062, 100), (46063, 100), (46064, 100), (46065, 100), (46066, 100)]\n",
      "[(12825, 100), (12826, 100), (458808, 100), (2933, 91), (2934, 91), (2935, 91), (2936, 91), (2937, 91), (2939, 91), (2940, 91)]\n",
      "[(40772, 100), (40773, 100), (40774, 100), (40775, 100), (40776, 100), (40777, 100), (40778, 100), (40779, 100), (40780, 100), (40781, 100)]\n",
      "[(74273, 100), (74274, 100), (74275, 100), (74276, 100), (74277, 100), (74278, 100), (74279, 100), (74281, 100), (74282, 100), (74284, 100)]\n",
      "[(113953, 55), (113954, 55), (113955, 55), (113956, 55), (113957, 55), (113958, 55), (113959, 55), (113960, 55), (113961, 55), (113962, 55)]\n"
     ]
    },
    {
     "name": "stderr",
     "output_type": "stream",
     "text": [
      "\r",
      " 13%|█▎        | 17/132 [28:11<2:53:18, 90.42s/it]"
     ]
    },
    {
     "name": "stdout",
     "output_type": "stream",
     "text": [
      "[(12825, 100), (12826, 100), (458808, 100), (2933, 91), (2934, 91), (2935, 91), (2936, 91), (2937, 91), (2939, 91), (2940, 91)]\n",
      "[(46057, 100), (46058, 100), (46059, 100), (46060, 100), (46061, 100), (46062, 100), (46063, 100), (46064, 100), (46065, 100), (46066, 100)]\n",
      "[(107325, 100), (107326, 100), (107327, 100), (107328, 100), (107329, 100), (107330, 100), (107331, 100), (107332, 100), (107333, 100), (107334, 100)]\n",
      "[(113953, 55), (113954, 55), (113955, 55), (113956, 55), (113957, 55), (113958, 55), (113959, 55), (113960, 55), (113961, 55), (113962, 55)]\n"
     ]
    },
    {
     "name": "stderr",
     "output_type": "stream",
     "text": [
      "\r",
      " 14%|█▎        | 18/132 [30:00<3:02:50, 96.23s/it]"
     ]
    },
    {
     "name": "stdout",
     "output_type": "stream",
     "text": [
      "[(46057, 100), (46058, 100), (46059, 100), (46060, 100), (46061, 100), (46062, 100), (46063, 100), (46064, 100), (46065, 100), (46066, 100)]\n",
      "[(461619, 76), (261405, 73), (211407, 71), (211408, 71), (211409, 71), (211411, 71), (211412, 71), (211413, 71), (211414, 71), (211415, 71)]\n",
      "[(40772, 100), (40773, 100), (40774, 100), (40775, 100), (40776, 100), (40777, 100), (40778, 100), (40779, 100), (40780, 100), (40781, 100)]\n",
      "[(8576, 100), (8577, 100), (8578, 100), (8579, 100), (8580, 100), (8581, 100), (8582, 100), (8583, 100), (8584, 100), (8585, 100)]\n",
      "[(113953, 55), (113954, 55), (113955, 55), (113956, 55), (113957, 55), (113958, 55), (113959, 55), (113960, 55), (113961, 55), (113962, 55)]\n",
      "[(461619, 76), (261405, 73), (211407, 71), (211408, 71), (211409, 71), (211411, 71), (211412, 71), (211413, 71), (211414, 71), (211415, 71)]\n",
      "[(40772, 100), (40773, 100), (40774, 100), (40775, 100), (40776, 100), (40777, 100), (40778, 100), (40779, 100), (40780, 100), (40781, 100)]\n",
      "[(8576, 100), (8577, 100), (8578, 100), (8579, 100), (8580, 100), (8581, 100), (8582, 100), (8583, 100), (8584, 100), (8585, 100)]\n"
     ]
    },
    {
     "name": "stderr",
     "output_type": "stream",
     "text": [
      "\r",
      " 14%|█▍        | 19/132 [33:11<3:54:25, 124.47s/it]"
     ]
    },
    {
     "name": "stdout",
     "output_type": "stream",
     "text": [
      "[(113953, 55), (113954, 55), (113955, 55), (113956, 55), (113957, 55), (113958, 55), (113959, 55), (113960, 55), (113961, 55), (113962, 55)]\n",
      "[(18953, 100), (18956, 100), (18957, 100), (18959, 100), (18960, 100), (18962, 100), (18963, 100), (18964, 100), (18965, 100), (18966, 100)]\n",
      "[(18953, 100), (18956, 100), (18957, 100), (18959, 100), (18960, 100), (18962, 100), (18963, 100), (18964, 100), (18965, 100), (18966, 100)]\n",
      "[(40772, 100), (40773, 100), (40774, 100), (40775, 100), (40776, 100), (40777, 100), (40778, 100), (40779, 100), (40780, 100), (40781, 100)]\n",
      "[(74273, 100), (74274, 100), (74275, 100), (74276, 100), (74277, 100), (74278, 100), (74279, 100), (74281, 100), (74282, 100), (74284, 100)]\n"
     ]
    },
    {
     "name": "stderr",
     "output_type": "stream",
     "text": [
      "\r",
      " 15%|█▌        | 20/132 [35:01<3:44:23, 120.21s/it]"
     ]
    },
    {
     "name": "stdout",
     "output_type": "stream",
     "text": [
      "[(113953, 55), (113954, 55), (113955, 55), (113956, 55), (113957, 55), (113958, 55), (113959, 55), (113960, 55), (113961, 55), (113962, 55)]\n",
      "[(18953, 100), (18956, 100), (18957, 100), (18959, 100), (18960, 100), (18962, 100), (18963, 100), (18964, 100), (18965, 100), (18966, 100)]\n",
      "[(18953, 100), (18956, 100), (18957, 100), (18959, 100), (18960, 100), (18962, 100), (18963, 100), (18964, 100), (18965, 100), (18966, 100)]\n",
      "[(13216, 100), (13217, 100), (13218, 100), (13219, 100), (13220, 100), (13221, 100), (13222, 100), (13223, 100), (13225, 100), (13226, 100)]\n"
     ]
    },
    {
     "name": "stderr",
     "output_type": "stream",
     "text": [
      "\r",
      " 16%|█▌        | 21/132 [36:38<3:29:21, 113.16s/it]"
     ]
    },
    {
     "name": "stdout",
     "output_type": "stream",
     "text": [
      "[(113953, 55), (113954, 55), (113955, 55), (113956, 55), (113957, 55), (113958, 55), (113959, 55), (113960, 55), (113961, 55), (113962, 55)]\n",
      "[(46057, 100), (46058, 100), (46059, 100), (46060, 100), (46061, 100), (46062, 100), (46063, 100), (46064, 100), (46065, 100), (46066, 100)]\n"
     ]
    },
    {
     "name": "stderr",
     "output_type": "stream",
     "text": [
      "\r",
      " 17%|█▋        | 22/132 [37:34<2:56:05, 96.05s/it] "
     ]
    },
    {
     "name": "stdout",
     "output_type": "stream",
     "text": [
      "[(46057, 100), (46058, 100), (46059, 100), (46060, 100), (46061, 100), (46062, 100), (46063, 100), (46064, 100), (46065, 100), (46066, 100)]\n",
      "[(46057, 100), (46058, 100), (46059, 100), (46060, 100), (46061, 100), (46062, 100), (46063, 100), (46064, 100), (46065, 100), (46066, 100)]\n",
      "[(18953, 100), (18956, 100), (18957, 100), (18959, 100), (18960, 100), (18962, 100), (18963, 100), (18964, 100), (18965, 100), (18966, 100)]\n"
     ]
    },
    {
     "name": "stderr",
     "output_type": "stream",
     "text": [
      "\r",
      " 17%|█▋        | 23/132 [38:58<2:48:06, 92.54s/it]"
     ]
    },
    {
     "name": "stdout",
     "output_type": "stream",
     "text": [
      "[(13216, 100), (13217, 100), (13218, 100), (13219, 100), (13220, 100), (13221, 100), (13222, 100), (13223, 100), (13225, 100), (13226, 100)]\n"
     ]
    },
    {
     "name": "stderr",
     "output_type": "stream",
     "text": [
      "\r",
      " 18%|█▊        | 24/132 [39:27<2:12:10, 73.43s/it]"
     ]
    },
    {
     "name": "stdout",
     "output_type": "stream",
     "text": [
      "[(441738, 100), (441739, 100), (441740, 100), (441741, 100), (441742, 100), (441743, 100), (441744, 100), (441745, 100), (441746, 100), (441747, 100)]\n",
      "[(171395, 95), (171397, 95), (171398, 95), (171400, 95), (265741, 95), (265744, 95), (344909, 95), (353501, 95), (353502, 95), (428637, 95)]\n",
      "[(12827, 86), (12828, 86), (12829, 86), (12830, 86), (12832, 86), (12833, 86), (12835, 86), (12836, 86), (12837, 86), (12839, 86)]\n",
      "[(113953, 55), (113954, 55), (113955, 55), (113956, 55), (113957, 55), (113958, 55), (113959, 55), (113960, 55), (113961, 55), (113962, 55)]\n"
     ]
    },
    {
     "name": "stderr",
     "output_type": "stream",
     "text": [
      "\r",
      " 19%|█▉        | 25/132 [41:29<2:36:49, 87.94s/it]"
     ]
    },
    {
     "name": "stdout",
     "output_type": "stream",
     "text": [
      "[(171395, 95), (171397, 95), (171398, 95), (171400, 95), (265741, 95), (265744, 95), (344909, 95), (353501, 95), (353502, 95), (428637, 95)]\n"
     ]
    },
    {
     "name": "stderr",
     "output_type": "stream",
     "text": [
      "\r",
      " 20%|█▉        | 26/132 [42:02<2:06:35, 71.65s/it]"
     ]
    },
    {
     "name": "stdout",
     "output_type": "stream",
     "text": [
      "[(171395, 95), (171397, 95), (171398, 95), (171400, 95), (265741, 95), (265744, 95), (344909, 95), (353501, 95), (353502, 95), (428637, 95)]\n",
      "[(12825, 100), (12826, 100), (458808, 100), (2933, 91), (2934, 91), (2935, 91), (2936, 91), (2937, 91), (2939, 91), (2940, 91)]\n"
     ]
    },
    {
     "name": "stderr",
     "output_type": "stream",
     "text": [
      "\r",
      " 20%|██        | 27/132 [42:54<1:54:56, 65.68s/it]"
     ]
    },
    {
     "name": "stdout",
     "output_type": "stream",
     "text": [
      "[(12825, 100), (12826, 100), (458808, 100), (2933, 91), (2934, 91), (2935, 91), (2936, 91), (2937, 91), (2939, 91), (2940, 91)]\n",
      "[(18953, 100), (18956, 100), (18957, 100), (18959, 100), (18960, 100), (18962, 100), (18963, 100), (18964, 100), (18965, 100), (18966, 100)]\n",
      "[(40772, 100), (40773, 100), (40774, 100), (40775, 100), (40776, 100), (40777, 100), (40778, 100), (40779, 100), (40780, 100), (40781, 100)]\n",
      "[(74273, 100), (74274, 100), (74275, 100), (74276, 100), (74277, 100), (74278, 100), (74279, 100), (74281, 100), (74282, 100), (74284, 100)]\n"
     ]
    },
    {
     "name": "stderr",
     "output_type": "stream",
     "text": [
      "\r",
      " 21%|██        | 28/132 [44:39<2:14:21, 77.51s/it]"
     ]
    },
    {
     "name": "stdout",
     "output_type": "stream",
     "text": [
      "[(18953, 100), (18956, 100), (18957, 100), (18959, 100), (18960, 100), (18962, 100), (18963, 100), (18964, 100), (18965, 100), (18966, 100)]\n",
      "[(40772, 100), (40773, 100), (40774, 100), (40775, 100), (40776, 100), (40777, 100), (40778, 100), (40779, 100), (40780, 100), (40781, 100)]\n",
      "[(40772, 100), (40773, 100), (40774, 100), (40775, 100), (40776, 100), (40777, 100), (40778, 100), (40779, 100), (40780, 100), (40781, 100)]\n",
      "[(74273, 100), (74274, 100), (74275, 100), (74276, 100), (74277, 100), (74278, 100), (74279, 100), (74281, 100), (74282, 100), (74284, 100)]\n",
      "[(113953, 55), (113954, 55), (113955, 55), (113956, 55), (113957, 55), (113958, 55), (113959, 55), (113960, 55), (113961, 55), (113962, 55)]\n",
      "[(40772, 100), (40773, 100), (40774, 100), (40775, 100), (40776, 100), (40777, 100), (40778, 100), (40779, 100), (40780, 100), (40781, 100)]\n",
      "[(40772, 100), (40773, 100), (40774, 100), (40775, 100), (40776, 100), (40777, 100), (40778, 100), (40779, 100), (40780, 100), (40781, 100)]\n"
     ]
    },
    {
     "name": "stderr",
     "output_type": "stream",
     "text": [
      "\r",
      " 22%|██▏       | 29/132 [47:20<2:55:41, 102.34s/it]"
     ]
    },
    {
     "name": "stdout",
     "output_type": "stream",
     "text": [
      "[(74273, 100), (74274, 100), (74275, 100), (74276, 100), (74277, 100), (74278, 100), (74279, 100), (74281, 100), (74282, 100), (74284, 100)]\n",
      "[(58671, 100), (58673, 100), (58675, 100), (58677, 100), (58678, 100), (58679, 100), (58680, 100), (58681, 100), (58682, 100), (58683, 100)]\n",
      "[(113953, 55), (113954, 55), (113955, 55), (113956, 55), (113957, 55), (113958, 55), (113959, 55), (113960, 55), (113961, 55), (113962, 55)]\n",
      "[(58671, 100), (58673, 100), (58675, 100), (58677, 100), (58678, 100), (58679, 100), (58680, 100), (58681, 100), (58682, 100), (58683, 100)]\n"
     ]
    },
    {
     "name": "stderr",
     "output_type": "stream",
     "text": [
      "\r",
      " 23%|██▎       | 30/132 [48:37<2:41:27, 94.98s/it] "
     ]
    },
    {
     "name": "stdout",
     "output_type": "stream",
     "text": [
      "[(113953, 55), (113954, 55), (113955, 55), (113956, 55), (113957, 55), (113958, 55), (113959, 55), (113960, 55), (113961, 55), (113962, 55)]\n",
      "[(58671, 100), (58673, 100), (58675, 100), (58677, 100), (58678, 100), (58679, 100), (58680, 100), (58681, 100), (58682, 100), (58683, 100)]\n",
      "[(12825, 100), (12826, 100), (458808, 100), (2933, 91), (2934, 91), (2935, 91), (2936, 91), (2937, 91), (2939, 91), (2940, 91)]\n",
      "[(58671, 100), (58673, 100), (58675, 100), (58677, 100), (58678, 100), (58679, 100), (58680, 100), (58681, 100), (58682, 100), (58683, 100)]\n",
      "[(12825, 100), (12826, 100), (458808, 100), (2933, 91), (2934, 91), (2935, 91), (2936, 91), (2937, 91), (2939, 91), (2940, 91)]\n"
     ]
    },
    {
     "name": "stderr",
     "output_type": "stream",
     "text": [
      "\r",
      " 23%|██▎       | 31/132 [50:35<2:51:08, 101.67s/it]"
     ]
    },
    {
     "name": "stdout",
     "output_type": "stream",
     "text": [
      "[(74273, 100), (74274, 100), (74275, 100), (74276, 100), (74277, 100), (74278, 100), (74279, 100), (74281, 100), (74282, 100), (74284, 100)]\n",
      "[(18953, 100), (18956, 100), (18957, 100), (18959, 100), (18960, 100), (18962, 100), (18963, 100), (18964, 100), (18965, 100), (18966, 100)]\n"
     ]
    },
    {
     "name": "stderr",
     "output_type": "stream",
     "text": [
      "\r",
      " 24%|██▍       | 32/132 [51:23<2:22:56, 85.77s/it] "
     ]
    },
    {
     "name": "stdout",
     "output_type": "stream",
     "text": [
      "[(18953, 100), (18956, 100), (18957, 100), (18959, 100), (18960, 100), (18962, 100), (18963, 100), (18964, 100), (18965, 100), (18966, 100)]\n",
      "[(18953, 100), (18956, 100), (18957, 100), (18959, 100), (18960, 100), (18962, 100), (18963, 100), (18964, 100), (18965, 100), (18966, 100)]\n",
      "[(107325, 100), (107326, 100), (107327, 100), (107328, 100), (107329, 100), (107330, 100), (107331, 100), (107332, 100), (107333, 100), (107334, 100)]\n",
      "[(113953, 55), (113954, 55), (113955, 55), (113956, 55), (113957, 55), (113958, 55), (113959, 55), (113960, 55), (113961, 55), (113962, 55)]\n"
     ]
    },
    {
     "name": "stderr",
     "output_type": "stream",
     "text": [
      "\r",
      " 25%|██▌       | 33/132 [52:51<2:22:24, 86.31s/it]"
     ]
    },
    {
     "name": "stdout",
     "output_type": "stream",
     "text": [
      "[(18953, 100), (18956, 100), (18957, 100), (18959, 100), (18960, 100), (18962, 100), (18963, 100), (18964, 100), (18965, 100), (18966, 100)]\n",
      "[(18953, 100), (18956, 100), (18957, 100), (18959, 100), (18960, 100), (18962, 100), (18963, 100), (18964, 100), (18965, 100), (18966, 100)]\n",
      "[(336159, 91), (336160, 91), (337552, 91), (337553, 91), (390473, 91), (390474, 91), (390475, 91), (390476, 91), (34310, 86), (34311, 86)]\n",
      "[(18953, 100), (18956, 100), (18957, 100), (18959, 100), (18960, 100), (18962, 100), (18963, 100), (18964, 100), (18965, 100), (18966, 100)]\n",
      "[(336159, 91), (336160, 91), (337552, 91), (337553, 91), (390473, 91), (390474, 91), (390475, 91), (390476, 91), (34310, 86), (34311, 86)]\n",
      "[(40772, 100), (40773, 100), (40774, 100), (40775, 100), (40776, 100), (40777, 100), (40778, 100), (40779, 100), (40780, 100), (40781, 100)]\n"
     ]
    },
    {
     "name": "stderr",
     "output_type": "stream",
     "text": [
      "\r",
      " 27%|██▋       | 35/132 [55:18<2:13:19, 82.47s/it]"
     ]
    },
    {
     "name": "stdout",
     "output_type": "stream",
     "text": [
      "[(113953, 55), (113954, 55), (113955, 55), (113956, 55), (113957, 55), (113958, 55), (113959, 55), (113960, 55), (113961, 55), (113962, 55)]\n"
     ]
    },
    {
     "name": "stderr",
     "output_type": "stream",
     "text": [
      "\r",
      " 27%|██▋       | 36/132 [55:43<1:44:11, 65.12s/it]"
     ]
    },
    {
     "name": "stdout",
     "output_type": "stream",
     "text": [
      "[(18953, 100), (18956, 100), (18957, 100), (18959, 100), (18960, 100), (18962, 100), (18963, 100), (18964, 100), (18965, 100), (18966, 100)]\n",
      "[(46057, 100), (46058, 100), (46059, 100), (46060, 100), (46061, 100), (46062, 100), (46063, 100), (46064, 100), (46065, 100), (46066, 100)]\n",
      "[(107325, 100), (107326, 100), (107327, 100), (107328, 100), (107329, 100), (107330, 100), (107331, 100), (107332, 100), (107333, 100), (107334, 100)]\n",
      "[(74273, 100), (74274, 100), (74275, 100), (74276, 100), (74277, 100), (74278, 100), (74279, 100), (74281, 100), (74282, 100), (74284, 100)]\n",
      "[(0, 94), (1, 94), (2, 94), (3, 94), (4, 94), (5, 94), (6, 94), (7, 94), (8, 94), (9, 94)]\n",
      "[(46057, 100), (46058, 100), (46059, 100), (46060, 100), (46061, 100), (46062, 100), (46063, 100), (46064, 100), (46065, 100), (46066, 100)]\n",
      "[(107325, 100), (107326, 100), (107327, 100), (107328, 100), (107329, 100), (107330, 100), (107331, 100), (107332, 100), (107333, 100), (107334, 100)]\n",
      "[(74273, 100), (74274, 100), (74275, 100), (74276, 100), (74277, 100), (74278, 100), (74279, 100), (74281, 100), (74282, 100), (74284, 100)]\n"
     ]
    },
    {
     "name": "stderr",
     "output_type": "stream",
     "text": [
      "\r",
      " 28%|██▊       | 37/132 [58:44<2:38:15, 99.95s/it]"
     ]
    },
    {
     "name": "stdout",
     "output_type": "stream",
     "text": [
      "[(0, 94), (1, 94), (2, 94), (3, 94), (4, 94), (5, 94), (6, 94), (7, 94), (8, 94), (9, 94)]\n",
      "[(18953, 100), (18956, 100), (18957, 100), (18959, 100), (18960, 100), (18962, 100), (18963, 100), (18964, 100), (18965, 100), (18966, 100)]\n"
     ]
    },
    {
     "name": "stderr",
     "output_type": "stream",
     "text": [
      "\r",
      " 29%|██▉       | 38/132 [59:30<2:11:05, 83.68s/it]"
     ]
    },
    {
     "name": "stdout",
     "output_type": "stream",
     "text": [
      "[(40772, 100), (40773, 100), (40774, 100), (40775, 100), (40776, 100), (40777, 100), (40778, 100), (40779, 100), (40780, 100), (40781, 100)]\n",
      "[(18953, 100), (18956, 100), (18957, 100), (18959, 100), (18960, 100), (18962, 100), (18963, 100), (18964, 100), (18965, 100), (18966, 100)]\n",
      "[(113953, 55), (113954, 55), (113955, 55), (113956, 55), (113957, 55), (113958, 55), (113959, 55), (113960, 55), (113961, 55), (113962, 55)]\n",
      "[(18953, 100), (18956, 100), (18957, 100), (18959, 100), (18960, 100), (18962, 100), (18963, 100), (18964, 100), (18965, 100), (18966, 100)]\n"
     ]
    },
    {
     "name": "stderr",
     "output_type": "stream",
     "text": [
      "\r",
      " 30%|██▉       | 39/132 [1:00:47<2:06:56, 81.90s/it]"
     ]
    },
    {
     "name": "stdout",
     "output_type": "stream",
     "text": [
      "[(113953, 55), (113954, 55), (113955, 55), (113956, 55), (113957, 55), (113958, 55), (113959, 55), (113960, 55), (113961, 55), (113962, 55)]\n",
      "[(18953, 100), (18956, 100), (18957, 100), (18959, 100), (18960, 100), (18962, 100), (18963, 100), (18964, 100), (18965, 100), (18966, 100)]\n",
      "[(40772, 100), (40773, 100), (40774, 100), (40775, 100), (40776, 100), (40777, 100), (40778, 100), (40779, 100), (40780, 100), (40781, 100)]\n"
     ]
    },
    {
     "name": "stderr",
     "output_type": "stream",
     "text": [
      "\r",
      " 30%|███       | 40/132 [1:01:48<1:55:46, 75.51s/it]"
     ]
    },
    {
     "name": "stdout",
     "output_type": "stream",
     "text": [
      "[(113953, 55), (113954, 55), (113955, 55), (113956, 55), (113957, 55), (113958, 55), (113959, 55), (113960, 55), (113961, 55), (113962, 55)]\n",
      "[(18953, 100), (18956, 100), (18957, 100), (18959, 100), (18960, 100), (18962, 100), (18963, 100), (18964, 100), (18965, 100), (18966, 100)]\n",
      "[(46057, 100), (46058, 100), (46059, 100), (46060, 100), (46061, 100), (46062, 100), (46063, 100), (46064, 100), (46065, 100), (46066, 100)]\n",
      "[(74273, 100), (74274, 100), (74275, 100), (74276, 100), (74277, 100), (74278, 100), (74279, 100), (74281, 100), (74282, 100), (74284, 100)]\n"
     ]
    },
    {
     "name": "stderr",
     "output_type": "stream",
     "text": [
      "\r",
      " 31%|███       | 41/132 [1:03:25<2:04:27, 82.07s/it]"
     ]
    },
    {
     "name": "stdout",
     "output_type": "stream",
     "text": [
      "[(107325, 92), (107326, 92), (107327, 92), (107328, 92), (107329, 92), (107330, 92), (107331, 92), (107332, 92), (107333, 92), (107334, 92)]\n",
      "[(18953, 100), (18956, 100), (18957, 100), (18959, 100), (18960, 100), (18962, 100), (18963, 100), (18964, 100), (18965, 100), (18966, 100)]\n",
      "[(107325, 100), (107326, 100), (107327, 100), (107328, 100), (107329, 100), (107330, 100), (107331, 100), (107332, 100), (107333, 100), (107334, 100)]\n",
      "[(113953, 55), (113954, 55), (113955, 55), (113956, 55), (113957, 55), (113958, 55), (113959, 55), (113960, 55), (113961, 55), (113962, 55)]\n",
      "[(18953, 100), (18956, 100), (18957, 100), (18959, 100), (18960, 100), (18962, 100), (18963, 100), (18964, 100), (18965, 100), (18966, 100)]\n",
      "[(107325, 100), (107326, 100), (107327, 100), (107328, 100), (107329, 100), (107330, 100), (107331, 100), (107332, 100), (107333, 100), (107334, 100)]\n"
     ]
    },
    {
     "name": "stderr",
     "output_type": "stream",
     "text": [
      "\r",
      " 32%|███▏      | 42/132 [1:05:32<2:23:15, 95.50s/it]"
     ]
    },
    {
     "name": "stdout",
     "output_type": "stream",
     "text": [
      "[(113953, 55), (113954, 55), (113955, 55), (113956, 55), (113957, 55), (113958, 55), (113959, 55), (113960, 55), (113961, 55), (113962, 55)]\n",
      "[(58671, 100), (58673, 100), (58675, 100), (58677, 100), (58678, 100), (58679, 100), (58680, 100), (58681, 100), (58682, 100), (58683, 100)]\n",
      "[(58671, 100), (58673, 100), (58675, 100), (58677, 100), (58678, 100), (58679, 100), (58680, 100), (58681, 100), (58682, 100), (58683, 100)]\n",
      "[(46057, 100), (46058, 100), (46059, 100), (46060, 100), (46061, 100), (46062, 100), (46063, 100), (46064, 100), (46065, 100), (46066, 100)]\n"
     ]
    },
    {
     "name": "stderr",
     "output_type": "stream",
     "text": [
      "\r",
      " 33%|███▎      | 43/132 [1:07:09<2:22:21, 95.97s/it]"
     ]
    },
    {
     "name": "stdout",
     "output_type": "stream",
     "text": [
      "[(107325, 100), (107326, 100), (107327, 100), (107328, 100), (107329, 100), (107330, 100), (107331, 100), (107332, 100), (107333, 100), (107334, 100)]\n",
      "[(18953, 100), (18956, 100), (18957, 100), (18959, 100), (18960, 100), (18962, 100), (18963, 100), (18964, 100), (18965, 100), (18966, 100)]\n",
      "[(18953, 100), (18956, 100), (18957, 100), (18959, 100), (18960, 100), (18962, 100), (18963, 100), (18964, 100), (18965, 100), (18966, 100)]\n",
      "[(58671, 95), (58673, 95), (58675, 95), (58677, 95), (58678, 95), (58679, 95), (58680, 95), (58681, 95), (58682, 95), (58683, 95)]\n"
     ]
    },
    {
     "name": "stderr",
     "output_type": "stream",
     "text": [
      "\r",
      " 33%|███▎      | 44/132 [1:08:45<2:20:47, 96.00s/it]"
     ]
    },
    {
     "name": "stdout",
     "output_type": "stream",
     "text": [
      "[(74273, 100), (74274, 100), (74275, 100), (74276, 100), (74277, 100), (74278, 100), (74279, 100), (74281, 100), (74282, 100), (74284, 100)]\n",
      "[(171395, 100), (171397, 100), (171398, 100), (171400, 100), (265741, 100), (265744, 100), (344909, 100), (353501, 100), (353502, 100), (428637, 100)]\n"
     ]
    },
    {
     "name": "stderr",
     "output_type": "stream",
     "text": [
      "\r",
      " 34%|███▍      | 45/132 [1:09:49<2:04:59, 86.20s/it]"
     ]
    },
    {
     "name": "stdout",
     "output_type": "stream",
     "text": [
      "[(171395, 100), (171397, 100), (171398, 100), (171400, 100), (265741, 100), (265744, 100), (344909, 100), (353501, 100), (353502, 100), (428637, 100)]\n",
      "[(58671, 100), (58673, 100), (58675, 100), (58677, 100), (58678, 100), (58679, 100), (58680, 100), (58681, 100), (58682, 100), (58683, 100)]\n",
      "[(113953, 55), (113954, 55), (113955, 55), (113956, 55), (113957, 55), (113958, 55), (113959, 55), (113960, 55), (113961, 55), (113962, 55)]\n",
      "[(58671, 100), (58673, 100), (58675, 100), (58677, 100), (58678, 100), (58679, 100), (58680, 100), (58681, 100), (58682, 100), (58683, 100)]\n"
     ]
    },
    {
     "name": "stderr",
     "output_type": "stream",
     "text": [
      "\r",
      " 35%|███▍      | 46/132 [1:11:07<2:00:06, 83.79s/it]"
     ]
    },
    {
     "name": "stdout",
     "output_type": "stream",
     "text": [
      "[(113953, 55), (113954, 55), (113955, 55), (113956, 55), (113957, 55), (113958, 55), (113959, 55), (113960, 55), (113961, 55), (113962, 55)]\n",
      "[(18953, 100), (18956, 100), (18957, 100), (18959, 100), (18960, 100), (18962, 100), (18963, 100), (18964, 100), (18965, 100), (18966, 100)]\n",
      "[(58671, 100), (58673, 100), (58675, 100), (58677, 100), (58678, 100), (58679, 100), (58680, 100), (58681, 100), (58682, 100), (58683, 100)]\n",
      "[(40772, 100), (40773, 100), (40774, 100), (40775, 100), (40776, 100), (40777, 100), (40778, 100), (40779, 100), (40780, 100), (40781, 100)]\n",
      "[(113953, 55), (113954, 55), (113955, 55), (113956, 55), (113957, 55), (113958, 55), (113959, 55), (113960, 55), (113961, 55), (113962, 55)]\n",
      "[(18953, 100), (18956, 100), (18957, 100), (18959, 100), (18960, 100), (18962, 100), (18963, 100), (18964, 100), (18965, 100), (18966, 100)]\n",
      "[(58671, 100), (58673, 100), (58675, 100), (58677, 100), (58678, 100), (58679, 100), (58680, 100), (58681, 100), (58682, 100), (58683, 100)]\n",
      "[(40772, 100), (40773, 100), (40774, 100), (40775, 100), (40776, 100), (40777, 100), (40778, 100), (40779, 100), (40780, 100), (40781, 100)]\n"
     ]
    },
    {
     "name": "stderr",
     "output_type": "stream",
     "text": [
      "\r",
      " 36%|███▌      | 47/132 [1:13:57<2:35:17, 109.62s/it]"
     ]
    },
    {
     "name": "stdout",
     "output_type": "stream",
     "text": [
      "[(113953, 55), (113954, 55), (113955, 55), (113956, 55), (113957, 55), (113958, 55), (113959, 55), (113960, 55), (113961, 55), (113962, 55)]\n"
     ]
    },
    {
     "name": "stderr",
     "output_type": "stream",
     "text": [
      "\r",
      " 36%|███▋      | 48/132 [1:14:27<2:00:16, 85.91s/it] "
     ]
    },
    {
     "name": "stdout",
     "output_type": "stream",
     "text": [
      "[(336159, 95), (336160, 95), (337552, 95), (337553, 95), (390473, 95), (390474, 95), (390475, 95), (390476, 95), (34310, 90), (34311, 90)]\n",
      "[(336159, 95), (336160, 95), (337552, 95), (337553, 95), (390473, 95), (390474, 95), (390475, 95), (390476, 95), (34310, 90), (34311, 90)]\n",
      "[(313238, 100), (313239, 100), (313240, 100), (313241, 100), (313242, 100), (313243, 100), (384030, 100), (384031, 100), (384032, 100), (384033, 100)]\n",
      "[(336159, 95), (336160, 95), (337552, 95), (337553, 95), (390473, 95), (390474, 95), (390475, 95), (390476, 95), (34310, 90), (34311, 90)]\n"
     ]
    },
    {
     "name": "stderr",
     "output_type": "stream",
     "text": [
      "\r",
      " 37%|███▋      | 49/132 [1:16:12<2:06:46, 91.65s/it]"
     ]
    },
    {
     "name": "stdout",
     "output_type": "stream",
     "text": [
      "[(313238, 100), (313239, 100), (313240, 100), (313241, 100), (313242, 100), (313243, 100), (384030, 100), (384031, 100), (384032, 100), (384033, 100)]\n",
      "[(52057, 94), (52058, 94), (52059, 94), (52060, 94), (52061, 94), (52062, 94), (52063, 94), (52064, 94), (52065, 94), (52066, 94)]\n",
      "[(150898, 100), (150899, 100), (305625, 100), (305626, 100), (305627, 100), (305628, 100), (305629, 100), (305630, 100), (305631, 100), (305632, 100)]\n",
      "[(0, 100), (1, 100), (2, 100), (3, 100), (4, 100), (5, 100), (6, 100), (7, 100), (8, 100), (9, 100)]\n",
      "[(113953, 55), (113954, 55), (113955, 55), (113956, 55), (113957, 55), (113958, 55), (113959, 55), (113960, 55), (113961, 55), (113962, 55)]\n",
      "[(52057, 94), (52058, 94), (52059, 94), (52060, 94), (52061, 94), (52062, 94), (52063, 94), (52064, 94), (52065, 94), (52066, 94)]\n",
      "[(150898, 100), (150899, 100), (305625, 100), (305626, 100), (305627, 100), (305628, 100), (305629, 100), (305630, 100), (305631, 100), (305632, 100)]\n",
      "[(0, 100), (1, 100), (2, 100), (3, 100), (4, 100), (5, 100), (6, 100), (7, 100), (8, 100), (9, 100)]\n"
     ]
    },
    {
     "name": "stderr",
     "output_type": "stream",
     "text": [
      "\r",
      " 38%|███▊      | 50/132 [1:18:52<2:33:13, 112.11s/it]"
     ]
    },
    {
     "name": "stdout",
     "output_type": "stream",
     "text": [
      "[(113953, 55), (113954, 55), (113955, 55), (113956, 55), (113957, 55), (113958, 55), (113959, 55), (113960, 55), (113961, 55), (113962, 55)]\n"
     ]
    },
    {
     "name": "stderr",
     "output_type": "stream",
     "text": [
      "\r",
      " 39%|███▊      | 51/132 [1:19:23<1:58:31, 87.80s/it] "
     ]
    },
    {
     "name": "stdout",
     "output_type": "stream",
     "text": [
      "[(336159, 91), (336160, 91), (337552, 91), (337553, 91), (390473, 91), (390474, 91), (390475, 91), (390476, 91), (34310, 86), (34311, 86)]\n",
      "[(18953, 100), (18956, 100), (18957, 100), (18959, 100), (18960, 100), (18962, 100), (18963, 100), (18964, 100), (18965, 100), (18966, 100)]\n",
      "[(18953, 100), (18956, 100), (18957, 100), (18959, 100), (18960, 100), (18962, 100), (18963, 100), (18964, 100), (18965, 100), (18966, 100)]\n",
      "[(107325, 100), (107326, 100), (107327, 100), (107328, 100), (107329, 100), (107330, 100), (107331, 100), (107332, 100), (107333, 100), (107334, 100)]\n"
     ]
    },
    {
     "name": "stderr",
     "output_type": "stream",
     "text": [
      "\r",
      " 39%|███▉      | 52/132 [1:20:50<1:56:50, 87.63s/it]"
     ]
    },
    {
     "name": "stdout",
     "output_type": "stream",
     "text": [
      "[(113953, 55), (113954, 55), (113955, 55), (113956, 55), (113957, 55), (113958, 55), (113959, 55), (113960, 55), (113961, 55), (113962, 55)]\n",
      "[(18953, 100), (18956, 100), (18957, 100), (18959, 100), (18960, 100), (18962, 100), (18963, 100), (18964, 100), (18965, 100), (18966, 100)]\n",
      "[(107325, 100), (107326, 100), (107327, 100), (107328, 100), (107329, 100), (107330, 100), (107331, 100), (107332, 100), (107333, 100), (107334, 100)]\n",
      "[(0, 100), (1, 100), (2, 100), (3, 100), (4, 100), (5, 100), (6, 100), (7, 100), (8, 100), (9, 100)]\n"
     ]
    },
    {
     "name": "stderr",
     "output_type": "stream",
     "text": [
      "\r",
      " 40%|████      | 53/132 [1:22:14<1:53:36, 86.29s/it]"
     ]
    },
    {
     "name": "stdout",
     "output_type": "stream",
     "text": [
      "[(113953, 55), (113954, 55), (113955, 55), (113956, 55), (113957, 55), (113958, 55), (113959, 55), (113960, 55), (113961, 55), (113962, 55)]\n",
      "[(18953, 100), (18956, 100), (18957, 100), (18959, 100), (18960, 100), (18962, 100), (18963, 100), (18964, 100), (18965, 100), (18966, 100)]\n",
      "[(313238, 100), (313239, 100), (313240, 100), (313241, 100), (313242, 100), (313243, 100), (384030, 100), (384031, 100), (384032, 100), (384033, 100)]\n",
      "[(113953, 55), (113954, 55), (113955, 55), (113956, 55), (113957, 55), (113958, 55), (113959, 55), (113960, 55), (113961, 55), (113962, 55)]\n",
      "[(18953, 100), (18956, 100), (18957, 100), (18959, 100), (18960, 100), (18962, 100), (18963, 100), (18964, 100), (18965, 100), (18966, 100)]\n"
     ]
    },
    {
     "name": "stderr",
     "output_type": "stream",
     "text": [
      "\r",
      " 41%|████      | 54/132 [1:24:01<2:00:36, 92.77s/it]"
     ]
    },
    {
     "name": "stdout",
     "output_type": "stream",
     "text": [
      "[(313238, 100), (313239, 100), (313240, 100), (313241, 100), (313242, 100), (313243, 100), (384030, 100), (384031, 100), (384032, 100), (384033, 100)]\n",
      "[(18953, 100), (18956, 100), (18957, 100), (18959, 100), (18960, 100), (18962, 100), (18963, 100), (18964, 100), (18965, 100), (18966, 100)]\n",
      "[(113953, 55), (113954, 55), (113955, 55), (113956, 55), (113957, 55), (113958, 55), (113959, 55), (113960, 55), (113961, 55), (113962, 55)]\n",
      "[(18953, 100), (18956, 100), (18957, 100), (18959, 100), (18960, 100), (18962, 100), (18963, 100), (18964, 100), (18965, 100), (18966, 100)]\n"
     ]
    },
    {
     "name": "stderr",
     "output_type": "stream",
     "text": [
      "\r",
      " 42%|████▏     | 55/132 [1:25:19<1:53:19, 88.31s/it]"
     ]
    },
    {
     "name": "stdout",
     "output_type": "stream",
     "text": [
      "[(113953, 55), (113954, 55), (113955, 55), (113956, 55), (113957, 55), (113958, 55), (113959, 55), (113960, 55), (113961, 55), (113962, 55)]\n",
      "[(12825, 100), (12826, 100), (458808, 100), (2933, 91), (2934, 91), (2935, 91), (2936, 91), (2937, 91), (2939, 91), (2940, 91)]\n",
      "[(12825, 100), (12826, 100), (458808, 100), (2933, 91), (2934, 91), (2935, 91), (2936, 91), (2937, 91), (2939, 91), (2940, 91)]\n",
      "[(313238, 100), (313239, 100), (313240, 100), (313241, 100), (313242, 100), (313243, 100), (384030, 100), (384031, 100), (384032, 100), (384033, 100)]\n",
      "[(37026, 96), (37027, 96), (37028, 96), (37029, 96), (37030, 96), (37031, 96), (37032, 96), (37033, 96), (37034, 96), (37036, 96)]\n",
      "[(74273, 82), (74274, 82), (74275, 82), (74276, 82), (74277, 82), (74278, 82), (74279, 82), (74281, 82), (74282, 82), (74284, 82)]\n"
     ]
    },
    {
     "name": "stderr",
     "output_type": "stream",
     "text": [
      "\r",
      " 42%|████▏     | 56/132 [1:27:38<2:10:54, 103.35s/it]"
     ]
    },
    {
     "name": "stdout",
     "output_type": "stream",
     "text": [
      "[(113953, 55), (113954, 55), (113955, 55), (113956, 55), (113957, 55), (113958, 55), (113959, 55), (113960, 55), (113961, 55), (113962, 55)]\n",
      "[(18953, 100), (18956, 100), (18957, 100), (18959, 100), (18960, 100), (18962, 100), (18963, 100), (18964, 100), (18965, 100), (18966, 100)]\n",
      "[(313238, 100), (313239, 100), (313240, 100), (313241, 100), (313242, 100), (313243, 100), (384030, 100), (384031, 100), (384032, 100), (384033, 100)]\n"
     ]
    },
    {
     "name": "stderr",
     "output_type": "stream",
     "text": [
      "\r",
      " 43%|████▎     | 57/132 [1:28:49<1:57:01, 93.63s/it] "
     ]
    },
    {
     "name": "stdout",
     "output_type": "stream",
     "text": [
      "[(18953, 100), (18956, 100), (18957, 100), (18959, 100), (18960, 100), (18962, 100), (18963, 100), (18964, 100), (18965, 100), (18966, 100)]\n",
      "[(18953, 100), (18956, 100), (18957, 100), (18959, 100), (18960, 100), (18962, 100), (18963, 100), (18964, 100), (18965, 100), (18966, 100)]\n",
      "[(113953, 55), (113954, 55), (113955, 55), (113956, 55), (113957, 55), (113958, 55), (113959, 55), (113960, 55), (113961, 55), (113962, 55)]\n",
      "[(18953, 100), (18956, 100), (18957, 100), (18959, 100), (18960, 100), (18962, 100), (18963, 100), (18964, 100), (18965, 100), (18966, 100)]\n"
     ]
    },
    {
     "name": "stderr",
     "output_type": "stream",
     "text": [
      "\r",
      " 44%|████▍     | 58/132 [1:30:06<1:49:31, 88.81s/it]"
     ]
    },
    {
     "name": "stdout",
     "output_type": "stream",
     "text": [
      "[(113953, 55), (113954, 55), (113955, 55), (113956, 55), (113957, 55), (113958, 55), (113959, 55), (113960, 55), (113961, 55), (113962, 55)]\n",
      "[(18953, 95), (18956, 95), (18957, 95), (18959, 95), (18960, 95), (18962, 95), (18963, 95), (18964, 95), (18965, 95), (18966, 95)]\n",
      "[(18953, 95), (18956, 95), (18957, 95), (18959, 95), (18960, 95), (18962, 95), (18963, 95), (18964, 95), (18965, 95), (18966, 95)]\n"
     ]
    },
    {
     "name": "stderr",
     "output_type": "stream",
     "text": [
      "\r",
      " 45%|████▌     | 60/132 [1:31:10<1:25:58, 71.65s/it]"
     ]
    },
    {
     "name": "stdout",
     "output_type": "stream",
     "text": [
      "[(113953, 55), (113954, 55), (113955, 55), (113956, 55), (113957, 55), (113958, 55), (113959, 55), (113960, 55), (113961, 55), (113962, 55)]\n",
      "[(336159, 95), (336160, 95), (337552, 95), (337553, 95), (390473, 95), (390474, 95), (390475, 95), (390476, 95), (34310, 90), (34311, 90)]\n",
      "[(336159, 95), (336160, 95), (337552, 95), (337553, 95), (390473, 95), (390474, 95), (390475, 95), (390476, 95), (34310, 90), (34311, 90)]\n"
     ]
    },
    {
     "name": "stderr",
     "output_type": "stream",
     "text": [
      "\r",
      " 46%|████▌     | 61/132 [1:32:25<1:26:05, 72.76s/it]"
     ]
    },
    {
     "name": "stdout",
     "output_type": "stream",
     "text": [
      "[(113953, 55), (113954, 55), (113955, 55), (113956, 55), (113957, 55), (113958, 55), (113959, 55), (113960, 55), (113961, 55), (113962, 55)]\n",
      "[(313238, 100), (313239, 100), (313240, 100), (313241, 100), (313242, 100), (313243, 100), (384030, 100), (384031, 100), (384032, 100), (384033, 100)]\n",
      "[(37026, 96), (37027, 96), (37028, 96), (37029, 96), (37030, 96), (37031, 96), (37032, 96), (37033, 96), (37034, 96), (37036, 96)]\n"
     ]
    },
    {
     "name": "stderr",
     "output_type": "stream",
     "text": [
      "\r",
      " 47%|████▋     | 62/132 [1:33:34<1:23:37, 71.68s/it]"
     ]
    },
    {
     "name": "stdout",
     "output_type": "stream",
     "text": [
      "[(113953, 55), (113954, 55), (113955, 55), (113956, 55), (113957, 55), (113958, 55), (113959, 55), (113960, 55), (113961, 55), (113962, 55)]\n",
      "[(18953, 100), (18956, 100), (18957, 100), (18959, 100), (18960, 100), (18962, 100), (18963, 100), (18964, 100), (18965, 100), (18966, 100)]\n",
      "[(113953, 55), (113954, 55), (113955, 55), (113956, 55), (113957, 55), (113958, 55), (113959, 55), (113960, 55), (113961, 55), (113962, 55)]\n",
      "[(18953, 100), (18956, 100), (18957, 100), (18959, 100), (18960, 100), (18962, 100), (18963, 100), (18964, 100), (18965, 100), (18966, 100)]\n"
     ]
    },
    {
     "name": "stderr",
     "output_type": "stream",
     "text": [
      "\r",
      " 48%|████▊     | 63/132 [1:34:52<1:24:29, 73.48s/it]"
     ]
    },
    {
     "name": "stdout",
     "output_type": "stream",
     "text": [
      "[(113953, 55), (113954, 55), (113955, 55), (113956, 55), (113957, 55), (113958, 55), (113959, 55), (113960, 55), (113961, 55), (113962, 55)]\n",
      "[(18953, 100), (18956, 100), (18957, 100), (18959, 100), (18960, 100), (18962, 100), (18963, 100), (18964, 100), (18965, 100), (18966, 100)]\n",
      "[(73426, 100), (73427, 100), (73428, 100), (73429, 100), (73430, 100), (73431, 100), (73432, 100), (73433, 100), (73434, 100), (73435, 100)]\n",
      "[(73426, 100), (73427, 100), (73428, 100), (73429, 100), (73430, 100), (73431, 100), (73432, 100), (73433, 100), (73434, 100), (73435, 100)]\n",
      "[(113953, 55), (113954, 55), (113955, 55), (113956, 55), (113957, 55), (113958, 55), (113959, 55), (113960, 55), (113961, 55), (113962, 55)]\n",
      "[(18953, 100), (18956, 100), (18957, 100), (18959, 100), (18960, 100), (18962, 100), (18963, 100), (18964, 100), (18965, 100), (18966, 100)]\n",
      "[(73426, 100), (73427, 100), (73428, 100), (73429, 100), (73430, 100), (73431, 100), (73432, 100), (73433, 100), (73434, 100), (73435, 100)]\n",
      "[(73426, 100), (73427, 100), (73428, 100), (73429, 100), (73430, 100), (73431, 100), (73432, 100), (73433, 100), (73434, 100), (73435, 100)]\n"
     ]
    },
    {
     "name": "stderr",
     "output_type": "stream",
     "text": [
      "\r",
      " 48%|████▊     | 64/132 [1:37:53<1:59:49, 105.73s/it]"
     ]
    },
    {
     "name": "stdout",
     "output_type": "stream",
     "text": [
      "[(113953, 55), (113954, 55), (113955, 55), (113956, 55), (113957, 55), (113958, 55), (113959, 55), (113960, 55), (113961, 55), (113962, 55)]\n"
     ]
    },
    {
     "name": "stderr",
     "output_type": "stream",
     "text": [
      "\r",
      " 49%|████▉     | 65/132 [1:38:25<1:33:20, 83.60s/it] "
     ]
    },
    {
     "name": "stdout",
     "output_type": "stream",
     "text": [
      "[(390478, 91), (6762, 86), (14673, 86), (14674, 86), (14675, 86), (14676, 86), (14678, 86), (14679, 86), (14680, 86), (14681, 86)]\n",
      "[(107325, 100), (107326, 100), (107327, 100), (107328, 100), (107329, 100), (107330, 100), (107331, 100), (107332, 100), (107333, 100), (107334, 100)]\n",
      "[(113953, 55), (113954, 55), (113955, 55), (113956, 55), (113957, 55), (113958, 55), (113959, 55), (113960, 55), (113961, 55), (113962, 55)]\n",
      "[(107325, 100), (107326, 100), (107327, 100), (107328, 100), (107329, 100), (107330, 100), (107331, 100), (107332, 100), (107333, 100), (107334, 100)]\n"
     ]
    },
    {
     "name": "stderr",
     "output_type": "stream",
     "text": [
      "\r",
      " 50%|█████     | 66/132 [1:39:42<1:29:57, 81.78s/it]"
     ]
    },
    {
     "name": "stdout",
     "output_type": "stream",
     "text": [
      "[(113953, 55), (113954, 55), (113955, 55), (113956, 55), (113957, 55), (113958, 55), (113959, 55), (113960, 55), (113961, 55), (113962, 55)]\n",
      "[(18953, 100), (18956, 100), (18957, 100), (18959, 100), (18960, 100), (18962, 100), (18963, 100), (18964, 100), (18965, 100), (18966, 100)]\n",
      "[(0, 100), (1, 100), (2, 100), (3, 100), (4, 100), (5, 100), (6, 100), (7, 100), (8, 100), (9, 100)]\n",
      "[(18953, 100), (18956, 100), (18957, 100), (18959, 100), (18960, 100), (18962, 100), (18963, 100), (18964, 100), (18965, 100), (18966, 100)]\n"
     ]
    },
    {
     "name": "stderr",
     "output_type": "stream",
     "text": [
      "\r",
      " 51%|█████     | 67/132 [1:41:09<1:30:17, 83.34s/it]"
     ]
    },
    {
     "name": "stdout",
     "output_type": "stream",
     "text": [
      "[(0, 100), (1, 100), (2, 100), (3, 100), (4, 100), (5, 100), (6, 100), (7, 100), (8, 100), (9, 100)]\n",
      "[(13216, 100), (13217, 100), (13218, 100), (13219, 100), (13220, 100), (13221, 100), (13222, 100), (13223, 100), (13225, 100), (13226, 100)]\n"
     ]
    },
    {
     "name": "stderr",
     "output_type": "stream",
     "text": [
      "\r",
      " 52%|█████▏    | 68/132 [1:41:58<1:17:49, 72.96s/it]"
     ]
    },
    {
     "name": "stdout",
     "output_type": "stream",
     "text": [
      "[(73426, 100), (73427, 100), (73428, 100), (73429, 100), (73430, 100), (73431, 100), (73432, 100), (73433, 100), (73434, 100), (73435, 100)]\n",
      "[(18953, 100), (18956, 100), (18957, 100), (18959, 100), (18960, 100), (18962, 100), (18963, 100), (18964, 100), (18965, 100), (18966, 100)]\n",
      "[(313238, 100), (313239, 100), (313240, 100), (313241, 100), (313242, 100), (313243, 100), (384030, 100), (384031, 100), (384032, 100), (384033, 100)]\n",
      "[(113953, 55), (113954, 55), (113955, 55), (113956, 55), (113957, 55), (113958, 55), (113959, 55), (113960, 55), (113961, 55), (113962, 55)]\n",
      "[(18953, 100), (18956, 100), (18957, 100), (18959, 100), (18960, 100), (18962, 100), (18963, 100), (18964, 100), (18965, 100), (18966, 100)]\n",
      "[(313238, 100), (313239, 100), (313240, 100), (313241, 100), (313242, 100), (313243, 100), (384030, 100), (384031, 100), (384032, 100), (384033, 100)]\n"
     ]
    },
    {
     "name": "stderr",
     "output_type": "stream",
     "text": [
      "\r",
      " 52%|█████▏    | 69/132 [1:44:00<1:32:10, 87.78s/it]"
     ]
    },
    {
     "name": "stdout",
     "output_type": "stream",
     "text": [
      "[(113953, 55), (113954, 55), (113955, 55), (113956, 55), (113957, 55), (113958, 55), (113959, 55), (113960, 55), (113961, 55), (113962, 55)]\n",
      "[(18953, 100), (18956, 100), (18957, 100), (18959, 100), (18960, 100), (18962, 100), (18963, 100), (18964, 100), (18965, 100), (18966, 100)]\n",
      "[(313238, 100), (313239, 100), (313240, 100), (313241, 100), (313242, 100), (313243, 100), (384030, 100), (384031, 100), (384032, 100), (384033, 100)]\n",
      "[(18953, 100), (18956, 100), (18957, 100), (18959, 100), (18960, 100), (18962, 100), (18963, 100), (18964, 100), (18965, 100), (18966, 100)]\n"
     ]
    },
    {
     "name": "stderr",
     "output_type": "stream",
     "text": [
      "\r",
      " 53%|█████▎    | 70/132 [1:45:34<1:32:30, 89.52s/it]"
     ]
    },
    {
     "name": "stdout",
     "output_type": "stream",
     "text": [
      "[(313238, 100), (313239, 100), (313240, 100), (313241, 100), (313242, 100), (313243, 100), (384030, 100), (384031, 100), (384032, 100), (384033, 100)]\n",
      "[(18953, 100), (18956, 100), (18957, 100), (18959, 100), (18960, 100), (18962, 100), (18963, 100), (18964, 100), (18965, 100), (18966, 100)]\n"
     ]
    },
    {
     "name": "stderr",
     "output_type": "stream",
     "text": [
      "\r",
      " 54%|█████▍    | 71/132 [1:46:22<1:18:29, 77.21s/it]"
     ]
    },
    {
     "name": "stdout",
     "output_type": "stream",
     "text": [
      "[(18953, 100), (18956, 100), (18957, 100), (18959, 100), (18960, 100), (18962, 100), (18963, 100), (18964, 100), (18965, 100), (18966, 100)]\n",
      "[(18953, 100), (18956, 100), (18957, 100), (18959, 100), (18960, 100), (18962, 100), (18963, 100), (18964, 100), (18965, 100), (18966, 100)]\n",
      "[(13216, 100), (13217, 100), (13218, 100), (13219, 100), (13220, 100), (13221, 100), (13222, 100), (13223, 100), (13225, 100), (13226, 100)]\n",
      "[(113953, 55), (113954, 55), (113955, 55), (113956, 55), (113957, 55), (113958, 55), (113959, 55), (113960, 55), (113961, 55), (113962, 55)]\n"
     ]
    },
    {
     "name": "stderr",
     "output_type": "stream",
     "text": [
      "\r",
      " 55%|█████▍    | 72/132 [1:47:48<1:19:44, 79.75s/it]"
     ]
    },
    {
     "name": "stdout",
     "output_type": "stream",
     "text": [
      "[(18953, 100), (18956, 100), (18957, 100), (18959, 100), (18960, 100), (18962, 100), (18963, 100), (18964, 100), (18965, 100), (18966, 100)]\n",
      "[(18953, 100), (18956, 100), (18957, 100), (18959, 100), (18960, 100), (18962, 100), (18963, 100), (18964, 100), (18965, 100), (18966, 100)]\n",
      "[(107325, 100), (107326, 100), (107327, 100), (107328, 100), (107329, 100), (107330, 100), (107331, 100), (107332, 100), (107333, 100), (107334, 100)]\n",
      "[(113953, 55), (113954, 55), (113955, 55), (113956, 55), (113957, 55), (113958, 55), (113959, 55), (113960, 55), (113961, 55), (113962, 55)]\n",
      "[(18953, 100), (18956, 100), (18957, 100), (18959, 100), (18960, 100), (18962, 100), (18963, 100), (18964, 100), (18965, 100), (18966, 100)]\n",
      "[(107325, 100), (107326, 100), (107327, 100), (107328, 100), (107329, 100), (107330, 100), (107331, 100), (107332, 100), (107333, 100), (107334, 100)]\n"
     ]
    },
    {
     "name": "stderr",
     "output_type": "stream",
     "text": [
      "\r",
      " 55%|█████▌    | 73/132 [1:49:54<1:32:00, 93.57s/it]"
     ]
    },
    {
     "name": "stdout",
     "output_type": "stream",
     "text": [
      "[(113953, 55), (113954, 55), (113955, 55), (113956, 55), (113957, 55), (113958, 55), (113959, 55), (113960, 55), (113961, 55), (113962, 55)]\n",
      "[(18953, 100), (18956, 100), (18957, 100), (18959, 100), (18960, 100), (18962, 100), (18963, 100), (18964, 100), (18965, 100), (18966, 100)]\n"
     ]
    },
    {
     "name": "stderr",
     "output_type": "stream",
     "text": [
      "\r",
      " 56%|█████▌    | 74/132 [1:50:33<1:14:32, 77.10s/it]"
     ]
    },
    {
     "name": "stdout",
     "output_type": "stream",
     "text": [
      "[(113953, 55), (113954, 55), (113955, 55), (113956, 55), (113957, 55), (113958, 55), (113959, 55), (113960, 55), (113961, 55), (113962, 55)]\n",
      "[(37026, 96), (37027, 96), (37028, 96), (37029, 96), (37030, 96), (37031, 96), (37032, 96), (37033, 96), (37034, 96), (37036, 96)]\n",
      "[(73426, 100), (73427, 100), (73428, 100), (73429, 100), (73430, 100), (73431, 100), (73432, 100), (73433, 100), (73434, 100), (73435, 100)]\n"
     ]
    },
    {
     "name": "stderr",
     "output_type": "stream",
     "text": [
      "\r",
      " 57%|█████▋    | 75/132 [1:51:45<1:11:48, 75.59s/it]"
     ]
    },
    {
     "name": "stdout",
     "output_type": "stream",
     "text": [
      "[(113953, 55), (113954, 55), (113955, 55), (113956, 55), (113957, 55), (113958, 55), (113959, 55), (113960, 55), (113961, 55), (113962, 55)]\n",
      "[(18953, 100), (18956, 100), (18957, 100), (18959, 100), (18960, 100), (18962, 100), (18963, 100), (18964, 100), (18965, 100), (18966, 100)]\n",
      "[(40772, 100), (40773, 100), (40774, 100), (40775, 100), (40776, 100), (40777, 100), (40778, 100), (40779, 100), (40780, 100), (40781, 100)]\n",
      "[(40772, 100), (40773, 100), (40774, 100), (40775, 100), (40776, 100), (40777, 100), (40778, 100), (40779, 100), (40780, 100), (40781, 100)]\n",
      "[(13216, 100), (13217, 100), (13218, 100), (13219, 100), (13220, 100), (13221, 100), (13222, 100), (13223, 100), (13225, 100), (13226, 100)]\n",
      "[(113953, 55), (113954, 55), (113955, 55), (113956, 55), (113957, 55), (113958, 55), (113959, 55), (113960, 55), (113961, 55), (113962, 55)]\n",
      "[(18953, 100), (18956, 100), (18957, 100), (18959, 100), (18960, 100), (18962, 100), (18963, 100), (18964, 100), (18965, 100), (18966, 100)]\n",
      "[(40772, 100), (40773, 100), (40774, 100), (40775, 100), (40776, 100), (40777, 100), (40778, 100), (40779, 100), (40780, 100), (40781, 100)]\n"
     ]
    },
    {
     "name": "stderr",
     "output_type": "stream",
     "text": [
      "\r",
      " 58%|█████▊    | 76/132 [1:54:36<1:37:20, 104.29s/it]"
     ]
    },
    {
     "name": "stdout",
     "output_type": "stream",
     "text": [
      "[(40772, 100), (40773, 100), (40774, 100), (40775, 100), (40776, 100), (40777, 100), (40778, 100), (40779, 100), (40780, 100), (40781, 100)]\n",
      "[(37026, 96), (37027, 96), (37028, 96), (37029, 96), (37030, 96), (37031, 96), (37032, 96), (37033, 96), (37034, 96), (37036, 96)]\n",
      "[(12825, 100), (12826, 100), (458808, 100), (2933, 91), (2934, 91), (2935, 91), (2936, 91), (2937, 91), (2939, 91), (2940, 91)]\n",
      "[(313238, 100), (313239, 100), (313240, 100), (313241, 100), (313242, 100), (313243, 100), (384030, 100), (384031, 100), (384032, 100), (384033, 100)]\n",
      "[(1693, 100), (1694, 100), (1695, 100), (1696, 100), (1697, 100), (1698, 100), (1699, 100), (1700, 100), (1701, 100), (1702, 100)]\n"
     ]
    },
    {
     "name": "stderr",
     "output_type": "stream",
     "text": [
      "\r",
      " 58%|█████▊    | 77/132 [1:56:28<1:37:46, 106.67s/it]"
     ]
    },
    {
     "name": "stdout",
     "output_type": "stream",
     "text": [
      "[(113953, 55), (113954, 55), (113955, 55), (113956, 55), (113957, 55), (113958, 55), (113959, 55), (113960, 55), (113961, 55), (113962, 55)]\n",
      "[(40772, 100), (40773, 100), (40774, 100), (40775, 100), (40776, 100), (40777, 100), (40778, 100), (40779, 100), (40780, 100), (40781, 100)]\n",
      "[(113953, 55), (113954, 55), (113955, 55), (113956, 55), (113957, 55), (113958, 55), (113959, 55), (113960, 55), (113961, 55), (113962, 55)]\n",
      "[(40772, 100), (40773, 100), (40774, 100), (40775, 100), (40776, 100), (40777, 100), (40778, 100), (40779, 100), (40780, 100), (40781, 100)]\n"
     ]
    },
    {
     "name": "stderr",
     "output_type": "stream",
     "text": [
      "\r",
      " 59%|█████▉    | 78/132 [1:57:40<1:26:38, 96.27s/it] "
     ]
    },
    {
     "name": "stdout",
     "output_type": "stream",
     "text": [
      "[(113953, 55), (113954, 55), (113955, 55), (113956, 55), (113957, 55), (113958, 55), (113959, 55), (113960, 55), (113961, 55), (113962, 55)]\n",
      "[(18953, 100), (18956, 100), (18957, 100), (18959, 100), (18960, 100), (18962, 100), (18963, 100), (18964, 100), (18965, 100), (18966, 100)]\n",
      "[(1693, 100), (1694, 100), (1695, 100), (1696, 100), (1697, 100), (1698, 100), (1699, 100), (1700, 100), (1701, 100), (1702, 100)]\n"
     ]
    },
    {
     "name": "stderr",
     "output_type": "stream",
     "text": [
      "\r",
      " 60%|█████▉    | 79/132 [1:58:56<1:19:37, 90.14s/it]"
     ]
    },
    {
     "name": "stdout",
     "output_type": "stream",
     "text": [
      "[(37026, 96), (37027, 96), (37028, 96), (37029, 96), (37030, 96), (37031, 96), (37032, 96), (37033, 96), (37034, 96), (37036, 96)]\n",
      "[(18953, 100), (18956, 100), (18957, 100), (18959, 100), (18960, 100), (18962, 100), (18963, 100), (18964, 100), (18965, 100), (18966, 100)]\n"
     ]
    },
    {
     "name": "stderr",
     "output_type": "stream",
     "text": [
      "\r",
      " 61%|██████    | 80/132 [1:59:44<1:07:13, 77.57s/it]"
     ]
    },
    {
     "name": "stdout",
     "output_type": "stream",
     "text": [
      "[(107325, 100), (107326, 100), (107327, 100), (107328, 100), (107329, 100), (107330, 100), (107331, 100), (107332, 100), (107333, 100), (107334, 100)]\n",
      "[(336159, 95), (336160, 95), (337552, 95), (337553, 95), (390473, 95), (390474, 95), (390475, 95), (390476, 95), (34310, 90), (34311, 90)]\n",
      "[(313238, 100), (313239, 100), (313240, 100), (313241, 100), (313242, 100), (313243, 100), (384030, 100), (384031, 100), (384032, 100), (384033, 100)]\n",
      "[(336159, 95), (336160, 95), (337552, 95), (337553, 95), (390473, 95), (390474, 95), (390475, 95), (390476, 95), (34310, 90), (34311, 90)]\n",
      "[(313238, 100), (313239, 100), (313240, 100), (313241, 100), (313242, 100), (313243, 100), (384030, 100), (384031, 100), (384032, 100), (384033, 100)]\n"
     ]
    },
    {
     "name": "stderr",
     "output_type": "stream",
     "text": [
      "\r",
      " 61%|██████▏   | 81/132 [2:01:44<1:16:41, 90.22s/it]"
     ]
    },
    {
     "name": "stdout",
     "output_type": "stream",
     "text": [
      "[(113953, 55), (113954, 55), (113955, 55), (113956, 55), (113957, 55), (113958, 55), (113959, 55), (113960, 55), (113961, 55), (113962, 55)]\n",
      "[(12825, 100), (12826, 100), (458808, 100), (2933, 91), (2934, 91), (2935, 91), (2936, 91), (2937, 91), (2939, 91), (2940, 91)]\n"
     ]
    },
    {
     "name": "stderr",
     "output_type": "stream",
     "text": [
      "\r",
      " 62%|██████▏   | 82/132 [2:02:29<1:03:58, 76.78s/it]"
     ]
    },
    {
     "name": "stdout",
     "output_type": "stream",
     "text": [
      "[(313238, 100), (313239, 100), (313240, 100), (313241, 100), (313242, 100), (313243, 100), (384030, 100), (384031, 100), (384032, 100), (384033, 100)]\n",
      "[(171395, 100), (171397, 100), (171398, 100), (171400, 100), (265741, 100), (265744, 100), (344909, 100), (353501, 100), (353502, 100), (428637, 100)]\n",
      "[(171395, 100), (171397, 100), (171398, 100), (171400, 100), (265741, 100), (265744, 100), (344909, 100), (353501, 100), (353502, 100), (428637, 100)]\n"
     ]
    },
    {
     "name": "stderr",
     "output_type": "stream",
     "text": [
      "\r",
      " 63%|██████▎   | 83/132 [2:03:55<1:05:00, 79.61s/it]"
     ]
    },
    {
     "name": "stdout",
     "output_type": "stream",
     "text": [
      "[(313238, 100), (313239, 100), (313240, 100), (313241, 100), (313242, 100), (313243, 100), (384030, 100), (384031, 100), (384032, 100), (384033, 100)]\n",
      "[(37026, 96), (37027, 96), (37028, 96), (37029, 96), (37030, 96), (37031, 96), (37032, 96), (37033, 96), (37034, 96), (37036, 96)]\n",
      "[(113953, 55), (113954, 55), (113955, 55), (113956, 55), (113957, 55), (113958, 55), (113959, 55), (113960, 55), (113961, 55), (113962, 55)]\n"
     ]
    },
    {
     "name": "stderr",
     "output_type": "stream",
     "text": [
      "\r",
      " 64%|██████▎   | 84/132 [2:05:14<1:03:29, 79.36s/it]"
     ]
    },
    {
     "name": "stdout",
     "output_type": "stream",
     "text": [
      "[(37026, 96), (37027, 96), (37028, 96), (37029, 96), (37030, 96), (37031, 96), (37032, 96), (37033, 96), (37034, 96), (37036, 96)]\n",
      "[(171395, 100), (171397, 100), (171398, 100), (171400, 100), (265741, 100), (265744, 100), (344909, 100), (353501, 100), (353502, 100), (428637, 100)]\n",
      "[(313238, 100), (313239, 100), (313240, 100), (313241, 100), (313242, 100), (313243, 100), (384030, 100), (384031, 100), (384032, 100), (384033, 100)]\n",
      "[(171395, 100), (171397, 100), (171398, 100), (171400, 100), (265741, 100), (265744, 100), (344909, 100), (353501, 100), (353502, 100), (428637, 100)]\n"
     ]
    },
    {
     "name": "stderr",
     "output_type": "stream",
     "text": [
      "\r",
      " 64%|██████▍   | 85/132 [2:07:02<1:08:47, 87.81s/it]"
     ]
    },
    {
     "name": "stdout",
     "output_type": "stream",
     "text": [
      "[(313238, 100), (313239, 100), (313240, 100), (313241, 100), (313242, 100), (313243, 100), (384030, 100), (384031, 100), (384032, 100), (384033, 100)]\n",
      "[(18953, 100), (18956, 100), (18957, 100), (18959, 100), (18960, 100), (18962, 100), (18963, 100), (18964, 100), (18965, 100), (18966, 100)]\n",
      "[(0, 100), (1, 100), (2, 100), (3, 100), (4, 100), (5, 100), (6, 100), (7, 100), (8, 100), (9, 100)]\n",
      "[(113953, 55), (113954, 55), (113955, 55), (113956, 55), (113957, 55), (113958, 55), (113959, 55), (113960, 55), (113961, 55), (113962, 55)]\n"
     ]
    },
    {
     "name": "stderr",
     "output_type": "stream",
     "text": [
      "\r",
      " 65%|██████▌   | 86/132 [2:08:24<1:06:03, 86.16s/it]"
     ]
    },
    {
     "name": "stdout",
     "output_type": "stream",
     "text": [
      "[(18953, 100), (18956, 100), (18957, 100), (18959, 100), (18960, 100), (18962, 100), (18963, 100), (18964, 100), (18965, 100), (18966, 100)]\n",
      "[(171395, 100), (171397, 100), (171398, 100), (171400, 100), (265741, 100), (265744, 100), (344909, 100), (353501, 100), (353502, 100), (428637, 100)]\n",
      "[(171395, 100), (171397, 100), (171398, 100), (171400, 100), (265741, 100), (265744, 100), (344909, 100), (353501, 100), (353502, 100), (428637, 100)]\n",
      "[(313238, 100), (313239, 100), (313240, 100), (313241, 100), (313242, 100), (313243, 100), (384030, 100), (384031, 100), (384032, 100), (384033, 100)]\n"
     ]
    },
    {
     "name": "stderr",
     "output_type": "stream",
     "text": [
      "\r",
      " 66%|██████▌   | 87/132 [2:10:05<1:07:50, 90.47s/it]"
     ]
    },
    {
     "name": "stdout",
     "output_type": "stream",
     "text": [
      "[(113953, 55), (113954, 55), (113955, 55), (113956, 55), (113957, 55), (113958, 55), (113959, 55), (113960, 55), (113961, 55), (113962, 55)]\n",
      "[(18953, 100), (18956, 100), (18957, 100), (18959, 100), (18960, 100), (18962, 100), (18963, 100), (18964, 100), (18965, 100), (18966, 100)]\n",
      "[(113953, 55), (113954, 55), (113955, 55), (113956, 55), (113957, 55), (113958, 55), (113959, 55), (113960, 55), (113961, 55), (113962, 55)]\n",
      "[(18953, 100), (18956, 100), (18957, 100), (18959, 100), (18960, 100), (18962, 100), (18963, 100), (18964, 100), (18965, 100), (18966, 100)]\n"
     ]
    },
    {
     "name": "stderr",
     "output_type": "stream",
     "text": [
      "\r",
      " 67%|██████▋   | 88/132 [2:11:22<1:03:32, 86.64s/it]"
     ]
    },
    {
     "name": "stdout",
     "output_type": "stream",
     "text": [
      "[(113953, 55), (113954, 55), (113955, 55), (113956, 55), (113957, 55), (113958, 55), (113959, 55), (113960, 55), (113961, 55), (113962, 55)]\n",
      "[(336159, 95), (336160, 95), (337552, 95), (337553, 95), (390473, 95), (390474, 95), (390475, 95), (390476, 95), (34310, 90), (34311, 90)]\n"
     ]
    },
    {
     "name": "stderr",
     "output_type": "stream",
     "text": [
      "\r",
      " 67%|██████▋   | 89/132 [2:12:17<55:18, 77.18s/it]  "
     ]
    },
    {
     "name": "stdout",
     "output_type": "stream",
     "text": [
      "[(107325, 100), (107326, 100), (107327, 100), (107328, 100), (107329, 100), (107330, 100), (107331, 100), (107332, 100), (107333, 100), (107334, 100)]\n",
      "[(18953, 100), (18956, 100), (18957, 100), (18959, 100), (18960, 100), (18962, 100), (18963, 100), (18964, 100), (18965, 100), (18966, 100)]\n",
      "[(107325, 100), (107326, 100), (107327, 100), (107328, 100), (107329, 100), (107330, 100), (107331, 100), (107332, 100), (107333, 100), (107334, 100)]\n",
      "[(18953, 100), (18956, 100), (18957, 100), (18959, 100), (18960, 100), (18962, 100), (18963, 100), (18964, 100), (18965, 100), (18966, 100)]\n",
      "[(107325, 100), (107326, 100), (107327, 100), (107328, 100), (107329, 100), (107330, 100), (107331, 100), (107332, 100), (107333, 100), (107334, 100)]\n"
     ]
    },
    {
     "name": "stderr",
     "output_type": "stream",
     "text": [
      "\r",
      " 68%|██████▊   | 90/132 [2:14:14<1:02:16, 88.96s/it]"
     ]
    },
    {
     "name": "stdout",
     "output_type": "stream",
     "text": [
      "[(0, 100), (1, 100), (2, 100), (3, 100), (4, 100), (5, 100), (6, 100), (7, 100), (8, 100), (9, 100)]\n"
     ]
    },
    {
     "name": "stderr",
     "output_type": "stream",
     "text": [
      "\r",
      " 69%|██████▉   | 91/132 [2:14:38<47:32, 69.58s/it]  "
     ]
    },
    {
     "name": "stdout",
     "output_type": "stream",
     "text": [
      "[(18953, 100), (18956, 100), (18957, 100), (18959, 100), (18960, 100), (18962, 100), (18963, 100), (18964, 100), (18965, 100), (18966, 100)]\n",
      "[(18953, 100), (18956, 100), (18957, 100), (18959, 100), (18960, 100), (18962, 100), (18963, 100), (18964, 100), (18965, 100), (18966, 100)]\n",
      "[(313238, 100), (313239, 100), (313240, 100), (313241, 100), (313242, 100), (313243, 100), (384030, 100), (384031, 100), (384032, 100), (384033, 100)]\n",
      "[(107325, 100), (107326, 100), (107327, 100), (107328, 100), (107329, 100), (107330, 100), (107331, 100), (107332, 100), (107333, 100), (107334, 100)]\n",
      "[(113953, 55), (113954, 55), (113955, 55), (113956, 55), (113957, 55), (113958, 55), (113959, 55), (113960, 55), (113961, 55), (113962, 55)]\n"
     ]
    },
    {
     "name": "stderr",
     "output_type": "stream",
     "text": [
      "\r",
      " 70%|██████▉   | 92/132 [2:16:28<54:28, 81.71s/it]"
     ]
    },
    {
     "name": "stdout",
     "output_type": "stream",
     "text": [
      "[(18953, 100), (18956, 100), (18957, 100), (18959, 100), (18960, 100), (18962, 100), (18963, 100), (18964, 100), (18965, 100), (18966, 100)]\n",
      "[(18953, 100), (18956, 100), (18957, 100), (18959, 100), (18960, 100), (18962, 100), (18963, 100), (18964, 100), (18965, 100), (18966, 100)]\n",
      "[(74273, 95), (74274, 95), (74275, 95), (74276, 95), (74277, 95), (74278, 95), (74279, 95), (74281, 95), (74282, 95), (74284, 95)]\n"
     ]
    },
    {
     "name": "stderr",
     "output_type": "stream",
     "text": [
      "\r",
      " 70%|███████   | 93/132 [2:17:28<48:53, 75.21s/it]"
     ]
    },
    {
     "name": "stdout",
     "output_type": "stream",
     "text": [
      "[(113953, 55), (113954, 55), (113955, 55), (113956, 55), (113957, 55), (113958, 55), (113959, 55), (113960, 55), (113961, 55), (113962, 55)]\n",
      "[(336159, 95), (336160, 95), (337552, 95), (337553, 95), (390473, 95), (390474, 95), (390475, 95), (390476, 95), (34310, 90), (34311, 90)]\n"
     ]
    },
    {
     "name": "stderr",
     "output_type": "stream",
     "text": [
      "\r",
      " 71%|███████   | 94/132 [2:18:14<41:59, 66.30s/it]"
     ]
    },
    {
     "name": "stdout",
     "output_type": "stream",
     "text": [
      "[(113953, 55), (113954, 55), (113955, 55), (113956, 55), (113957, 55), (113958, 55), (113959, 55), (113960, 55), (113961, 55), (113962, 55)]\n",
      "[(18953, 100), (18956, 100), (18957, 100), (18959, 100), (18960, 100), (18962, 100), (18963, 100), (18964, 100), (18965, 100), (18966, 100)]\n",
      "[(107325, 100), (107326, 100), (107327, 100), (107328, 100), (107329, 100), (107330, 100), (107331, 100), (107332, 100), (107333, 100), (107334, 100)]\n",
      "[(113953, 55), (113954, 55), (113955, 55), (113956, 55), (113957, 55), (113958, 55), (113959, 55), (113960, 55), (113961, 55), (113962, 55)]\n",
      "[(18953, 100), (18956, 100), (18957, 100), (18959, 100), (18960, 100), (18962, 100), (18963, 100), (18964, 100), (18965, 100), (18966, 100)]\n",
      "[(107325, 100), (107326, 100), (107327, 100), (107328, 100), (107329, 100), (107330, 100), (107331, 100), (107332, 100), (107333, 100), (107334, 100)]\n"
     ]
    },
    {
     "name": "stderr",
     "output_type": "stream",
     "text": [
      "\r",
      " 72%|███████▏  | 95/132 [2:20:20<52:01, 84.37s/it]"
     ]
    },
    {
     "name": "stdout",
     "output_type": "stream",
     "text": [
      "[(113953, 55), (113954, 55), (113955, 55), (113956, 55), (113957, 55), (113958, 55), (113959, 55), (113960, 55), (113961, 55), (113962, 55)]\n",
      "[(171395, 100), (171397, 100), (171398, 100), (171400, 100), (265741, 100), (265744, 100), (344909, 100), (353501, 100), (353502, 100), (428637, 100)]\n"
     ]
    },
    {
     "name": "stderr",
     "output_type": "stream",
     "text": [
      "\r",
      " 73%|███████▎  | 96/132 [2:21:24<46:50, 78.08s/it]"
     ]
    },
    {
     "name": "stdout",
     "output_type": "stream",
     "text": [
      "[(171395, 100), (171397, 100), (171398, 100), (171400, 100), (265741, 100), (265744, 100), (344909, 100), (353501, 100), (353502, 100), (428637, 100)]\n",
      "[(171395, 98), (171397, 98), (171398, 98), (171400, 98), (265741, 98), (265744, 98), (344909, 98), (353501, 98), (353502, 98), (428637, 98)]\n",
      "[(171395, 98), (171397, 98), (171398, 98), (171400, 98), (265741, 98), (265744, 98), (344909, 98), (353501, 98), (353502, 98), (428637, 98)]\n",
      "[(107325, 100), (107326, 100), (107327, 100), (107328, 100), (107329, 100), (107330, 100), (107331, 100), (107332, 100), (107333, 100), (107334, 100)]\n"
     ]
    },
    {
     "name": "stderr",
     "output_type": "stream",
     "text": [
      "\r",
      " 73%|███████▎  | 97/132 [2:23:13<51:01, 87.46s/it]"
     ]
    },
    {
     "name": "stdout",
     "output_type": "stream",
     "text": [
      "[(313238, 100), (313239, 100), (313240, 100), (313241, 100), (313242, 100), (313243, 100), (384030, 100), (384031, 100), (384032, 100), (384033, 100)]\n"
     ]
    },
    {
     "name": "stderr",
     "output_type": "stream",
     "text": [
      "\r",
      " 74%|███████▍  | 98/132 [2:23:43<39:49, 70.29s/it]"
     ]
    },
    {
     "name": "stdout",
     "output_type": "stream",
     "text": [
      "[(336159, 95), (336160, 95), (337552, 95), (337553, 95), (390473, 95), (390474, 95), (390475, 95), (390476, 95), (34310, 90), (34311, 90)]\n",
      "[(336159, 95), (336160, 95), (337552, 95), (337553, 95), (390473, 95), (390474, 95), (390475, 95), (390476, 95), (34310, 90), (34311, 90)]\n",
      "[(113953, 55), (113954, 55), (113955, 55), (113956, 55), (113957, 55), (113958, 55), (113959, 55), (113960, 55), (113961, 55), (113962, 55)]\n",
      "[(336159, 95), (336160, 95), (337552, 95), (337553, 95), (390473, 95), (390474, 95), (390475, 95), (390476, 95), (34310, 90), (34311, 90)]\n"
     ]
    },
    {
     "name": "stderr",
     "output_type": "stream",
     "text": [
      "\r",
      " 75%|███████▌  | 99/132 [2:25:14<42:01, 76.42s/it]"
     ]
    },
    {
     "name": "stdout",
     "output_type": "stream",
     "text": [
      "[(113953, 55), (113954, 55), (113955, 55), (113956, 55), (113957, 55), (113958, 55), (113959, 55), (113960, 55), (113961, 55), (113962, 55)]\n",
      "[(18953, 100), (18956, 100), (18957, 100), (18959, 100), (18960, 100), (18962, 100), (18963, 100), (18964, 100), (18965, 100), (18966, 100)]\n",
      "[(113953, 55), (113954, 55), (113955, 55), (113956, 55), (113957, 55), (113958, 55), (113959, 55), (113960, 55), (113961, 55), (113962, 55)]\n",
      "[(18953, 100), (18956, 100), (18957, 100), (18959, 100), (18960, 100), (18962, 100), (18963, 100), (18964, 100), (18965, 100), (18966, 100)]\n"
     ]
    },
    {
     "name": "stderr",
     "output_type": "stream",
     "text": [
      "\r",
      " 76%|███████▌  | 100/132 [2:26:32<40:59, 76.85s/it]"
     ]
    },
    {
     "name": "stdout",
     "output_type": "stream",
     "text": [
      "[(113953, 55), (113954, 55), (113955, 55), (113956, 55), (113957, 55), (113958, 55), (113959, 55), (113960, 55), (113961, 55), (113962, 55)]\n",
      "[(336159, 95), (336160, 95), (337552, 95), (337553, 95), (390473, 95), (390474, 95), (390475, 95), (390476, 95), (34310, 90), (34311, 90)]\n",
      "[(107325, 100), (107326, 100), (107327, 100), (107328, 100), (107329, 100), (107330, 100), (107331, 100), (107332, 100), (107333, 100), (107334, 100)]\n",
      "[(113953, 55), (113954, 55), (113955, 55), (113956, 55), (113957, 55), (113958, 55), (113959, 55), (113960, 55), (113961, 55), (113962, 55)]\n"
     ]
    },
    {
     "name": "stderr",
     "output_type": "stream",
     "text": [
      "\r",
      " 77%|███████▋  | 101/132 [2:28:12<43:19, 83.86s/it]"
     ]
    },
    {
     "name": "stdout",
     "output_type": "stream",
     "text": [
      "[(336159, 95), (336160, 95), (337552, 95), (337553, 95), (390473, 95), (390474, 95), (390475, 95), (390476, 95), (34310, 90), (34311, 90)]\n",
      "[(51502, 100), (51503, 100), (51504, 100), (51505, 100), (51506, 100), (51507, 100), (51508, 100), (51509, 100), (51510, 100), (51511, 100)]\n"
     ]
    },
    {
     "name": "stderr",
     "output_type": "stream",
     "text": [
      "\r",
      " 77%|███████▋  | 102/132 [2:28:58<36:14, 72.47s/it]"
     ]
    },
    {
     "name": "stdout",
     "output_type": "stream",
     "text": [
      "[(51502, 100), (51503, 100), (51504, 100), (51505, 100), (51506, 100), (51507, 100), (51508, 100), (51509, 100), (51510, 100), (51511, 100)]\n",
      "[(336159, 95), (336160, 95), (337552, 95), (337553, 95), (390473, 95), (390474, 95), (390475, 95), (390476, 95), (34310, 90), (34311, 90)]\n",
      "[(113953, 55), (113954, 55), (113955, 55), (113956, 55), (113957, 55), (113958, 55), (113959, 55), (113960, 55), (113961, 55), (113962, 55)]\n"
     ]
    },
    {
     "name": "stderr",
     "output_type": "stream",
     "text": [
      "\r",
      " 78%|███████▊  | 103/132 [2:30:13<35:25, 73.31s/it]"
     ]
    },
    {
     "name": "stdout",
     "output_type": "stream",
     "text": [
      "[(336159, 95), (336160, 95), (337552, 95), (337553, 95), (390473, 95), (390474, 95), (390475, 95), (390476, 95), (34310, 90), (34311, 90)]\n",
      "[(336159, 95), (336160, 95), (337552, 95), (337553, 95), (390473, 95), (390474, 95), (390475, 95), (390476, 95), (34310, 90), (34311, 90)]\n",
      "[(113953, 55), (113954, 55), (113955, 55), (113956, 55), (113957, 55), (113958, 55), (113959, 55), (113960, 55), (113961, 55), (113962, 55)]\n",
      "[(336159, 95), (336160, 95), (337552, 95), (337553, 95), (390473, 95), (390474, 95), (390475, 95), (390476, 95), (34310, 90), (34311, 90)]\n"
     ]
    },
    {
     "name": "stderr",
     "output_type": "stream",
     "text": [
      "\r",
      " 79%|███████▉  | 104/132 [2:31:44<36:35, 78.40s/it]"
     ]
    },
    {
     "name": "stdout",
     "output_type": "stream",
     "text": [
      "[(113953, 55), (113954, 55), (113955, 55), (113956, 55), (113957, 55), (113958, 55), (113959, 55), (113960, 55), (113961, 55), (113962, 55)]\n",
      "[(18953, 100), (18956, 100), (18957, 100), (18959, 100), (18960, 100), (18962, 100), (18963, 100), (18964, 100), (18965, 100), (18966, 100)]\n"
     ]
    },
    {
     "name": "stderr",
     "output_type": "stream",
     "text": [
      "\r",
      " 80%|███████▉  | 105/132 [2:32:22<29:56, 66.55s/it]"
     ]
    },
    {
     "name": "stdout",
     "output_type": "stream",
     "text": [
      "[(113953, 55), (113954, 55), (113955, 55), (113956, 55), (113957, 55), (113958, 55), (113959, 55), (113960, 55), (113961, 55), (113962, 55)]\n",
      "[(336159, 95), (336160, 95), (337552, 95), (337553, 95), (390473, 95), (390474, 95), (390475, 95), (390476, 95), (34310, 90), (34311, 90)]\n",
      "[(113953, 55), (113954, 55), (113955, 55), (113956, 55), (113957, 55), (113958, 55), (113959, 55), (113960, 55), (113961, 55), (113962, 55)]\n",
      "[(336159, 95), (336160, 95), (337552, 95), (337553, 95), (390473, 95), (390474, 95), (390475, 95), (390476, 95), (34310, 90), (34311, 90)]\n"
     ]
    },
    {
     "name": "stderr",
     "output_type": "stream",
     "text": [
      "\r",
      " 80%|████████  | 106/132 [2:33:53<32:00, 73.85s/it]"
     ]
    },
    {
     "name": "stdout",
     "output_type": "stream",
     "text": [
      "[(113953, 55), (113954, 55), (113955, 55), (113956, 55), (113957, 55), (113958, 55), (113959, 55), (113960, 55), (113961, 55), (113962, 55)]\n",
      "[(171395, 100), (171397, 100), (171398, 100), (171400, 100), (265741, 100), (265744, 100), (344909, 100), (353501, 100), (353502, 100), (428637, 100)]\n"
     ]
    },
    {
     "name": "stderr",
     "output_type": "stream",
     "text": [
      "\r",
      " 81%|████████  | 107/132 [2:34:57<29:26, 70.66s/it]"
     ]
    },
    {
     "name": "stdout",
     "output_type": "stream",
     "text": [
      "[(171395, 100), (171397, 100), (171398, 100), (171400, 100), (265741, 100), (265744, 100), (344909, 100), (353501, 100), (353502, 100), (428637, 100)]\n"
     ]
    },
    {
     "name": "stderr",
     "output_type": "stream",
     "text": [
      "\r",
      " 82%|████████▏ | 108/132 [2:35:27<23:24, 58.54s/it]"
     ]
    },
    {
     "name": "stdout",
     "output_type": "stream",
     "text": [
      "[(336159, 95), (336160, 95), (337552, 95), (337553, 95), (390473, 95), (390474, 95), (390475, 95), (390476, 95), (34310, 90), (34311, 90)]\n",
      "[(336159, 95), (336160, 95), (337552, 95), (337553, 95), (390473, 95), (390474, 95), (390475, 95), (390476, 95), (34310, 90), (34311, 90)]\n",
      "[(107325, 100), (107326, 100), (107327, 100), (107328, 100), (107329, 100), (107330, 100), (107331, 100), (107332, 100), (107333, 100), (107334, 100)]\n",
      "[(313238, 100), (313239, 100), (313240, 100), (313241, 100), (313242, 100), (313243, 100), (384030, 100), (384031, 100), (384032, 100), (384033, 100)]\n"
     ]
    },
    {
     "name": "stderr",
     "output_type": "stream",
     "text": [
      "\r",
      " 83%|████████▎ | 109/132 [2:37:14<28:00, 73.04s/it]"
     ]
    },
    {
     "name": "stdout",
     "output_type": "stream",
     "text": [
      "[(336159, 95), (336160, 95), (337552, 95), (337553, 95), (390473, 95), (390474, 95), (390475, 95), (390476, 95), (34310, 90), (34311, 90)]\n",
      "[(18953, 100), (18956, 100), (18957, 100), (18959, 100), (18960, 100), (18962, 100), (18963, 100), (18964, 100), (18965, 100), (18966, 100)]\n",
      "[(113953, 55), (113954, 55), (113955, 55), (113956, 55), (113957, 55), (113958, 55), (113959, 55), (113960, 55), (113961, 55), (113962, 55)]\n",
      "[(18953, 100), (18956, 100), (18957, 100), (18959, 100), (18960, 100), (18962, 100), (18963, 100), (18964, 100), (18965, 100), (18966, 100)]\n"
     ]
    },
    {
     "name": "stderr",
     "output_type": "stream",
     "text": [
      "\r",
      " 83%|████████▎ | 110/132 [2:38:31<27:15, 74.33s/it]"
     ]
    },
    {
     "name": "stdout",
     "output_type": "stream",
     "text": [
      "[(113953, 55), (113954, 55), (113955, 55), (113956, 55), (113957, 55), (113958, 55), (113959, 55), (113960, 55), (113961, 55), (113962, 55)]\n",
      "[(336159, 95), (336160, 95), (337552, 95), (337553, 95), (390473, 95), (390474, 95), (390475, 95), (390476, 95), (34310, 90), (34311, 90)]\n",
      "[(336159, 95), (336160, 95), (337552, 95), (337553, 95), (390473, 95), (390474, 95), (390475, 95), (390476, 95), (34310, 90), (34311, 90)]\n"
     ]
    },
    {
     "name": "stderr",
     "output_type": "stream",
     "text": [
      "\r",
      " 84%|████████▍ | 111/132 [2:39:54<26:56, 76.95s/it]"
     ]
    },
    {
     "name": "stdout",
     "output_type": "stream",
     "text": [
      "[(313238, 100), (313239, 100), (313240, 100), (313241, 100), (313242, 100), (313243, 100), (384030, 100), (384031, 100), (384032, 100), (384033, 100)]\n",
      "[(336159, 95), (336160, 95), (337552, 95), (337553, 95), (390473, 95), (390474, 95), (390475, 95), (390476, 95), (34310, 90), (34311, 90)]\n"
     ]
    },
    {
     "name": "stderr",
     "output_type": "stream",
     "text": [
      "\r",
      " 85%|████████▍ | 112/132 [2:40:55<24:02, 72.12s/it]"
     ]
    },
    {
     "name": "stdout",
     "output_type": "stream",
     "text": [
      "[(336159, 95), (336160, 95), (337552, 95), (337553, 95), (390473, 95), (390474, 95), (390475, 95), (390476, 95), (34310, 90), (34311, 90)]\n",
      "[(18953, 100), (18956, 100), (18957, 100), (18959, 100), (18960, 100), (18962, 100), (18963, 100), (18964, 100), (18965, 100), (18966, 100)]\n",
      "[(313238, 100), (313239, 100), (313240, 100), (313241, 100), (313242, 100), (313243, 100), (384030, 100), (384031, 100), (384032, 100), (384033, 100)]\n",
      "[(18953, 100), (18956, 100), (18957, 100), (18959, 100), (18960, 100), (18962, 100), (18963, 100), (18964, 100), (18965, 100), (18966, 100)]\n"
     ]
    },
    {
     "name": "stderr",
     "output_type": "stream",
     "text": [
      "\r",
      " 86%|████████▌ | 113/132 [2:42:28<24:49, 78.41s/it]"
     ]
    },
    {
     "name": "stdout",
     "output_type": "stream",
     "text": [
      "[(313238, 100), (313239, 100), (313240, 100), (313241, 100), (313242, 100), (313243, 100), (384030, 100), (384031, 100), (384032, 100), (384033, 100)]\n",
      "[(37026, 96), (37027, 96), (37028, 96), (37029, 96), (37030, 96), (37031, 96), (37032, 96), (37033, 96), (37034, 96), (37036, 96)]\n",
      "[(313238, 100), (313239, 100), (313240, 100), (313241, 100), (313242, 100), (313243, 100), (384030, 100), (384031, 100), (384032, 100), (384033, 100)]\n",
      "[(107325, 100), (107326, 100), (107327, 100), (107328, 100), (107329, 100), (107330, 100), (107331, 100), (107332, 100), (107333, 100), (107334, 100)]\n"
     ]
    },
    {
     "name": "stderr",
     "output_type": "stream",
     "text": [
      "\r",
      " 86%|████████▋ | 114/132 [2:44:19<26:27, 88.18s/it]"
     ]
    },
    {
     "name": "stdout",
     "output_type": "stream",
     "text": [
      "[(37026, 96), (37027, 96), (37028, 96), (37029, 96), (37030, 96), (37031, 96), (37032, 96), (37033, 96), (37034, 96), (37036, 96)]\n"
     ]
    },
    {
     "name": "stderr",
     "output_type": "stream",
     "text": [
      "\r",
      " 87%|████████▋ | 115/132 [2:44:44<19:34, 69.08s/it]"
     ]
    },
    {
     "name": "stdout",
     "output_type": "stream",
     "text": [
      "[(18953, 100), (18956, 100), (18957, 100), (18959, 100), (18960, 100), (18962, 100), (18963, 100), (18964, 100), (18965, 100), (18966, 100)]\n"
     ]
    },
    {
     "name": "stderr",
     "output_type": "stream",
     "text": [
      "\r",
      " 88%|████████▊ | 116/132 [2:45:14<15:20, 57.53s/it]"
     ]
    },
    {
     "name": "stdout",
     "output_type": "stream",
     "text": [
      "[(336159, 95), (336160, 95), (337552, 95), (337553, 95), (390473, 95), (390474, 95), (390475, 95), (390476, 95), (34310, 90), (34311, 90)]\n",
      "[(18953, 100), (18956, 100), (18957, 100), (18959, 100), (18960, 100), (18962, 100), (18963, 100), (18964, 100), (18965, 100), (18966, 100)]\n",
      "[(313238, 100), (313239, 100), (313240, 100), (313241, 100), (313242, 100), (313243, 100), (384030, 100), (384031, 100), (384032, 100), (384033, 100)]\n",
      "[(1693, 100), (1694, 100), (1695, 100), (1696, 100), (1697, 100), (1698, 100), (1699, 100), (1700, 100), (1701, 100), (1702, 100)]\n"
     ]
    },
    {
     "name": "stderr",
     "output_type": "stream",
     "text": [
      "\r",
      " 89%|████████▊ | 117/132 [2:46:35<16:07, 64.51s/it]"
     ]
    },
    {
     "name": "stdout",
     "output_type": "stream",
     "text": [
      "[(113953, 55), (113954, 55), (113955, 55), (113956, 55), (113957, 55), (113958, 55), (113959, 55), (113960, 55), (113961, 55), (113962, 55)]\n",
      "[(171395, 100), (171397, 100), (171398, 100), (171400, 100), (265741, 100), (265744, 100), (344909, 100), (353501, 100), (353502, 100), (428637, 100)]\n"
     ]
    },
    {
     "name": "stderr",
     "output_type": "stream",
     "text": [
      "\r",
      " 89%|████████▉ | 118/132 [2:47:39<14:59, 64.25s/it]"
     ]
    },
    {
     "name": "stdout",
     "output_type": "stream",
     "text": [
      "[(171395, 100), (171397, 100), (171398, 100), (171400, 100), (265741, 100), (265744, 100), (344909, 100), (353501, 100), (353502, 100), (428637, 100)]\n",
      "[(171395, 100), (171397, 100), (171398, 100), (171400, 100), (265741, 100), (265744, 100), (344909, 100), (353501, 100), (353502, 100), (428637, 100)]\n"
     ]
    },
    {
     "name": "stderr",
     "output_type": "stream",
     "text": [
      "\r",
      " 90%|█████████ | 119/132 [2:48:42<13:52, 64.05s/it]"
     ]
    },
    {
     "name": "stdout",
     "output_type": "stream",
     "text": [
      "[(171395, 100), (171397, 100), (171398, 100), (171400, 100), (265741, 100), (265744, 100), (344909, 100), (353501, 100), (353502, 100), (428637, 100)]\n",
      "[(336159, 95), (336160, 95), (337552, 95), (337553, 95), (390473, 95), (390474, 95), (390475, 95), (390476, 95), (34310, 90), (34311, 90)]\n"
     ]
    },
    {
     "name": "stderr",
     "output_type": "stream",
     "text": [
      "\r",
      " 91%|█████████ | 120/132 [2:49:44<12:39, 63.28s/it]"
     ]
    },
    {
     "name": "stdout",
     "output_type": "stream",
     "text": [
      "[(336159, 95), (336160, 95), (337552, 95), (337553, 95), (390473, 95), (390474, 95), (390475, 95), (390476, 95), (34310, 90), (34311, 90)]\n",
      "[(171395, 100), (171397, 100), (171398, 100), (171400, 100), (265741, 100), (265744, 100), (344909, 100), (353501, 100), (353502, 100), (428637, 100)]\n"
     ]
    },
    {
     "name": "stderr",
     "output_type": "stream",
     "text": [
      "\r",
      " 92%|█████████▏| 121/132 [2:50:48<11:38, 63.48s/it]"
     ]
    },
    {
     "name": "stdout",
     "output_type": "stream",
     "text": [
      "[(171395, 100), (171397, 100), (171398, 100), (171400, 100), (265741, 100), (265744, 100), (344909, 100), (353501, 100), (353502, 100), (428637, 100)]\n",
      "[(336159, 95), (336160, 95), (337552, 95), (337553, 95), (390473, 95), (390474, 95), (390475, 95), (390476, 95), (34310, 90), (34311, 90)]\n",
      "[(1693, 100), (1694, 100), (1695, 100), (1696, 100), (1697, 100), (1698, 100), (1699, 100), (1700, 100), (1701, 100), (1702, 100)]\n",
      "[(113953, 55), (113954, 55), (113955, 55), (113956, 55), (113957, 55), (113958, 55), (113959, 55), (113960, 55), (113961, 55), (113962, 55)]\n"
     ]
    },
    {
     "name": "stderr",
     "output_type": "stream",
     "text": [
      "\r",
      " 92%|█████████▏| 122/132 [2:52:26<12:19, 73.97s/it]"
     ]
    },
    {
     "name": "stdout",
     "output_type": "stream",
     "text": [
      "[(336159, 95), (336160, 95), (337552, 95), (337553, 95), (390473, 95), (390474, 95), (390475, 95), (390476, 95), (34310, 90), (34311, 90)]\n",
      "[(18953, 100), (18956, 100), (18957, 100), (18959, 100), (18960, 100), (18962, 100), (18963, 100), (18964, 100), (18965, 100), (18966, 100)]\n",
      "[(313238, 100), (313239, 100), (313240, 100), (313241, 100), (313242, 100), (313243, 100), (384030, 100), (384031, 100), (384032, 100), (384033, 100)]\n"
     ]
    },
    {
     "name": "stderr",
     "output_type": "stream",
     "text": [
      "\r",
      " 93%|█████████▎| 123/132 [2:53:37<10:57, 73.01s/it]"
     ]
    },
    {
     "name": "stdout",
     "output_type": "stream",
     "text": [
      "[(18953, 100), (18956, 100), (18957, 100), (18959, 100), (18960, 100), (18962, 100), (18963, 100), (18964, 100), (18965, 100), (18966, 100)]\n",
      "[(37026, 96), (37027, 96), (37028, 96), (37029, 96), (37030, 96), (37031, 96), (37032, 96), (37033, 96), (37034, 96), (37036, 96)]\n",
      "[(313238, 100), (313239, 100), (313240, 100), (313241, 100), (313242, 100), (313243, 100), (384030, 100), (384031, 100), (384032, 100), (384033, 100)]\n",
      "[(1693, 100), (1694, 100), (1695, 100), (1696, 100), (1697, 100), (1698, 100), (1699, 100), (1700, 100), (1701, 100), (1702, 100)]\n",
      "[(37026, 96), (37027, 96), (37028, 96), (37029, 96), (37030, 96), (37031, 96), (37032, 96), (37033, 96), (37034, 96), (37036, 96)]\n",
      "[(313238, 100), (313239, 100), (313240, 100), (313241, 100), (313242, 100), (313243, 100), (384030, 100), (384031, 100), (384032, 100), (384033, 100)]\n",
      "[(1693, 100), (1694, 100), (1695, 100), (1696, 100), (1697, 100), (1698, 100), (1699, 100), (1700, 100), (1701, 100), (1702, 100)]\n"
     ]
    },
    {
     "name": "stderr",
     "output_type": "stream",
     "text": [
      "\r",
      " 94%|█████████▍| 124/132 [2:56:20<13:20, 100.05s/it]"
     ]
    },
    {
     "name": "stdout",
     "output_type": "stream",
     "text": [
      "[(113953, 55), (113954, 55), (113955, 55), (113956, 55), (113957, 55), (113958, 55), (113959, 55), (113960, 55), (113961, 55), (113962, 55)]\n",
      "[(37026, 96), (37027, 96), (37028, 96), (37029, 96), (37030, 96), (37031, 96), (37032, 96), (37033, 96), (37034, 96), (37036, 96)]\n",
      "[(107325, 100), (107326, 100), (107327, 100), (107328, 100), (107329, 100), (107330, 100), (107331, 100), (107332, 100), (107333, 100), (107334, 100)]\n",
      "[(46057, 100), (46058, 100), (46059, 100), (46060, 100), (46061, 100), (46062, 100), (46063, 100), (46064, 100), (46065, 100), (46066, 100)]\n"
     ]
    },
    {
     "name": "stderr",
     "output_type": "stream",
     "text": [
      "\r",
      " 95%|█████████▍| 125/132 [2:57:55<11:29, 98.56s/it] "
     ]
    },
    {
     "name": "stdout",
     "output_type": "stream",
     "text": [
      "[(113953, 55), (113954, 55), (113955, 55), (113956, 55), (113957, 55), (113958, 55), (113959, 55), (113960, 55), (113961, 55), (113962, 55)]\n",
      "[(336159, 95), (336160, 95), (337552, 95), (337553, 95), (390473, 95), (390474, 95), (390475, 95), (390476, 95), (34310, 90), (34311, 90)]\n"
     ]
    },
    {
     "name": "stderr",
     "output_type": "stream",
     "text": [
      "\r",
      " 95%|█████████▌| 126/132 [2:58:40<08:15, 82.54s/it]"
     ]
    },
    {
     "name": "stdout",
     "output_type": "stream",
     "text": [
      "[(113953, 55), (113954, 55), (113955, 55), (113956, 55), (113957, 55), (113958, 55), (113959, 55), (113960, 55), (113961, 55), (113962, 55)]\n",
      "[(18953, 100), (18956, 100), (18957, 100), (18959, 100), (18960, 100), (18962, 100), (18963, 100), (18964, 100), (18965, 100), (18966, 100)]\n",
      "[(113953, 55), (113954, 55), (113955, 55), (113956, 55), (113957, 55), (113958, 55), (113959, 55), (113960, 55), (113961, 55), (113962, 55)]\n",
      "[(18953, 100), (18956, 100), (18957, 100), (18959, 100), (18960, 100), (18962, 100), (18963, 100), (18964, 100), (18965, 100), (18966, 100)]\n"
     ]
    },
    {
     "name": "stderr",
     "output_type": "stream",
     "text": [
      "\r",
      " 96%|█████████▌| 127/132 [2:59:58<06:45, 81.14s/it]"
     ]
    },
    {
     "name": "stdout",
     "output_type": "stream",
     "text": [
      "[(113953, 55), (113954, 55), (113955, 55), (113956, 55), (113957, 55), (113958, 55), (113959, 55), (113960, 55), (113961, 55), (113962, 55)]\n",
      "[(336159, 95), (336160, 95), (337552, 95), (337553, 95), (390473, 95), (390474, 95), (390475, 95), (390476, 95), (34310, 90), (34311, 90)]\n",
      "[(336159, 95), (336160, 95), (337552, 95), (337553, 95), (390473, 95), (390474, 95), (390475, 95), (390476, 95), (34310, 90), (34311, 90)]\n"
     ]
    },
    {
     "name": "stderr",
     "output_type": "stream",
     "text": [
      "\r",
      " 97%|█████████▋| 128/132 [3:01:14<05:18, 79.60s/it]"
     ]
    },
    {
     "name": "stdout",
     "output_type": "stream",
     "text": [
      "[(113953, 55), (113954, 55), (113955, 55), (113956, 55), (113957, 55), (113958, 55), (113959, 55), (113960, 55), (113961, 55), (113962, 55)]\n",
      "[(336159, 95), (336160, 95), (337552, 95), (337553, 95), (390473, 95), (390474, 95), (390475, 95), (390476, 95), (34310, 90), (34311, 90)]\n",
      "[(113953, 55), (113954, 55), (113955, 55), (113956, 55), (113957, 55), (113958, 55), (113959, 55), (113960, 55), (113961, 55), (113962, 55)]\n",
      "[(336159, 95), (336160, 95), (337552, 95), (337553, 95), (390473, 95), (390474, 95), (390475, 95), (390476, 95), (34310, 90), (34311, 90)]\n"
     ]
    },
    {
     "name": "stderr",
     "output_type": "stream",
     "text": [
      "\r",
      " 98%|█████████▊| 129/132 [3:02:44<04:08, 82.84s/it]"
     ]
    },
    {
     "name": "stdout",
     "output_type": "stream",
     "text": [
      "[(113953, 55), (113954, 55), (113955, 55), (113956, 55), (113957, 55), (113958, 55), (113959, 55), (113960, 55), (113961, 55), (113962, 55)]\n",
      "[(171395, 100), (171397, 100), (171398, 100), (171400, 100), (265741, 100), (265744, 100), (344909, 100), (353501, 100), (353502, 100), (428637, 100)]\n"
     ]
    },
    {
     "name": "stderr",
     "output_type": "stream",
     "text": [
      "\r",
      " 98%|█████████▊| 130/132 [3:03:48<02:33, 76.99s/it]"
     ]
    },
    {
     "name": "stdout",
     "output_type": "stream",
     "text": [
      "[(171395, 100), (171397, 100), (171398, 100), (171400, 100), (265741, 100), (265744, 100), (344909, 100), (353501, 100), (353502, 100), (428637, 100)]\n",
      "[(171395, 100), (171397, 100), (171398, 100), (171400, 100), (265741, 100), (265744, 100), (344909, 100), (353501, 100), (353502, 100), (428637, 100)]\n"
     ]
    },
    {
     "name": "stderr",
     "output_type": "stream",
     "text": [
      "\r",
      " 99%|█████████▉| 131/132 [3:04:51<01:12, 72.98s/it]"
     ]
    },
    {
     "name": "stdout",
     "output_type": "stream",
     "text": [
      "[(171395, 100), (171397, 100), (171398, 100), (171400, 100), (265741, 100), (265744, 100), (344909, 100), (353501, 100), (353502, 100), (428637, 100)]\n",
      "[(18953, 100), (18956, 100), (18957, 100), (18959, 100), (18960, 100), (18962, 100), (18963, 100), (18964, 100), (18965, 100), (18966, 100)]\n",
      "[(1693, 100), (1694, 100), (1695, 100), (1696, 100), (1697, 100), (1698, 100), (1699, 100), (1700, 100), (1701, 100), (1702, 100)]\n",
      "[(313238, 100), (313239, 100), (313240, 100), (313241, 100), (313242, 100), (313243, 100), (384030, 100), (384031, 100), (384032, 100), (384033, 100)]\n",
      "[(37026, 96), (37027, 96), (37028, 96), (37029, 96), (37030, 96), (37031, 96), (37032, 96), (37033, 96), (37034, 96), (37036, 96)]\n",
      "[(113953, 55), (113954, 55), (113955, 55), (113956, 55), (113957, 55), (113958, 55), (113959, 55), (113960, 55), (113961, 55), (113962, 55)]\n"
     ]
    },
    {
     "name": "stderr",
     "output_type": "stream",
     "text": [
      "\r",
      "100%|██████████| 132/132 [3:07:10<00:00, 92.73s/it]"
     ]
    },
    {
     "name": "stdout",
     "output_type": "stream",
     "text": [
      "[(18953, 100), (18956, 100), (18957, 100), (18959, 100), (18960, 100), (18962, 100), (18963, 100), (18964, 100), (18965, 100), (18966, 100)]\n",
      "total_exception :  161\n"
     ]
    },
    {
     "name": "stderr",
     "output_type": "stream",
     "text": [
      "\n"
     ]
    }
   ],
   "source": [
    "total_exception = 0\n",
    "for line_no in tqdm.tqdm(range(0, len(patient_data))):\n",
    "    for fake_gen_no in (0, multiplication_factor):\n",
    "        \n",
    "        exception_happened = 0\n",
    "        original_dict = patient_data.iloc[line_no].to_dict()\n",
    "        modified_dict = original_dict\n",
    "        ################################################\n",
    "        modified_dict['Pt. Name/ IP no'] = generate_random_patient_Name()\n",
    "        modified_dict['Sex'] = generate_sex()\n",
    "        modified_dict['Age (in yr)'] = generate_random_age(int(original_dict['Age (in yr)']))\n",
    "        modified_dict['Weight (in kg)'] = generate_weight()\n",
    "        modified_dict['Antibiotic in Past'] =  generate_antibiotics_in_past()\n",
    "        modified_dict['No. of Days Hospitalized'] =  generate_num_day_hospitalized(2, 10)\n",
    "        modified_dict['Culture SensitIVity Test'] = generate_culture_sensitivity_test()\n",
    "        try:\n",
    "            modified_dict = generate_antibiotic_groups(modified_dict)\n",
    "        except:\n",
    "            exception_happened = 1\n",
    "        ################################################\n",
    "#         print(modified_dict)\n",
    "        if exception_happened==0:\n",
    "            patient_data = patient_data.append(modified_dict, ignore_index=True)\n",
    "        total_exception = total_exception + exception_happened\n",
    "        \n",
    "print(\"total_exception : \", total_exception)"
   ]
  },
  {
   "cell_type": "code",
   "execution_count": 24,
   "metadata": {},
   "outputs": [],
   "source": [
    "patient_data.to_excel(\"new_genrated.xlsx\")"
   ]
  },
  {
   "cell_type": "code",
   "execution_count": 25,
   "metadata": {},
   "outputs": [
    {
     "data": {
      "text/plain": [
       "True"
      ]
     },
     "execution_count": 25,
     "metadata": {},
     "output_type": "execute_result"
    }
   ],
   "source": [
    "any(['1','2'])"
   ]
  },
  {
   "cell_type": "code",
   "execution_count": null,
   "metadata": {
    "collapsed": true
   },
   "outputs": [],
   "source": []
  },
  {
   "cell_type": "code",
   "execution_count": null,
   "metadata": {
    "collapsed": true
   },
   "outputs": [],
   "source": []
  },
  {
   "cell_type": "code",
   "execution_count": null,
   "metadata": {
    "collapsed": true
   },
   "outputs": [],
   "source": []
  }
 ],
 "metadata": {
  "kernelspec": {
   "display_name": "Python 3",
   "language": "python",
   "name": "python3"
  },
  "language_info": {
   "codemirror_mode": {
    "name": "ipython",
    "version": 3
   },
   "file_extension": ".py",
   "mimetype": "text/x-python",
   "name": "python",
   "nbconvert_exporter": "python",
   "pygments_lexer": "ipython3",
   "version": "3.6.8"
  }
 },
 "nbformat": 4,
 "nbformat_minor": 2
}
