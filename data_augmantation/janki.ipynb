{
 "cells": [
  {
   "cell_type": "markdown",
   "metadata": {},
   "source": [
    "# Supporting functions"
   ]
  },
  {
   "cell_type": "code",
   "execution_count": 1,
   "metadata": {},
   "outputs": [
    {
     "name": "stderr",
     "output_type": "stream",
     "text": [
      "/home/sunil.patel/anaconda3/lib/python3.6/site-packages/fuzzywuzzy/fuzz.py:11: UserWarning: Using slow pure-python SequenceMatcher. Install python-Levenshtein to remove this warning\n",
      "  warnings.warn('Using slow pure-python SequenceMatcher. Install python-Levenshtein to remove this warning')\n"
     ]
    }
   ],
   "source": [
    "import pandas as pd\n",
    "import operator\n",
    "\n",
    "from fuzzywuzzy import fuzz \n",
    "from fuzzywuzzy import process "
   ]
  },
  {
   "cell_type": "code",
   "execution_count": 2,
   "metadata": {
    "collapsed": true
   },
   "outputs": [],
   "source": [
    "# function for common string cleanup\n",
    "def cleanup(x):\n",
    "    return str(x).replace(\"\\t\",\"\").replace(\"\\s\",\"\").strip()"
   ]
  },
  {
   "cell_type": "markdown",
   "metadata": {},
   "source": [
    "# Reading mater drug file and creating dictionary\n",
    "returning relevent result to the entered one"
   ]
  },
  {
   "cell_type": "code",
   "execution_count": 3,
   "metadata": {},
   "outputs": [
    {
     "name": "stderr",
     "output_type": "stream",
     "text": [
      "/home/sunil.patel/anaconda3/lib/python3.6/site-packages/ipykernel_launcher.py:1: ParserWarning: Falling back to the 'python' engine because the separator encoded in utf-8 is > 1 char long, and the 'c' engine does not support such separators; you can avoid this warning by specifying engine='python'.\n",
      "  \"\"\"Entry point for launching an IPython kernel.\n"
     ]
    }
   ],
   "source": [
    "df = pd.read_csv(\"data/out_unique_final.csv\", sep=\"ж\")\n",
    "df = df.apply(lambda x: x.astype(str).str.lower())"
   ]
  },
  {
   "cell_type": "code",
   "execution_count": 4,
   "metadata": {},
   "outputs": [
    {
     "data": {
      "text/plain": [
       "Index(['S/N', 'Manufacturer', 'Name', 'Type', 'Unit(Dose)',\n",
       "       'Constituents/Unit', 'Package unit', 'Price(In Rs.)',\n",
       "       'Price/Unit (In Rs.)'],\n",
       "      dtype='object')"
      ]
     },
     "execution_count": 4,
     "metadata": {},
     "output_type": "execute_result"
    }
   ],
   "source": [
    "df.columns"
   ]
  },
  {
   "cell_type": "code",
   "execution_count": 5,
   "metadata": {},
   "outputs": [],
   "source": [
    "class master_drug_file_handeller:\n",
    "    max_replacements = 10\n",
    "    def __init__(self):\n",
    "        self.master_drug_list = []\n",
    "        self.master_drug_store = []\n",
    "        for i in range(0, len(df)):\n",
    "            drug_dict = df.iloc[i].to_dict()\n",
    "            drug_dict['id'] = i\n",
    "            self.master_drug_list.append(drug_dict['Constituents/Unit'])\n",
    "            self.master_drug_store.append(drug_dict)\n",
    "    \n",
    "    def relevent_searcher(self, text):\n",
    "        self.relevence_dict = {}\n",
    "        scores = [fuzz.ratio(i, text) for i in self.master_drug_list]\n",
    "        scores_ids = [i for i in range(0,len(self.master_drug_list))]\n",
    "        for score,id in zip(scores, scores_ids):\n",
    "            if id not in self.relevence_dict.keys():\n",
    "                self.relevence_dict[id] = score\n",
    "        #soriting the suggestion    \n",
    "        sorted_x = sorted(self.relevence_dict.items(), key=operator.itemgetter(1), reverse=True)\n",
    "        return  sorted_x[:10]"
   ]
  },
  {
   "cell_type": "code",
   "execution_count": 6,
   "metadata": {
    "collapsed": true
   },
   "outputs": [],
   "source": [
    "MDFH = master_drug_file_handeller()"
   ]
  },
  {
   "cell_type": "code",
   "execution_count": 25,
   "metadata": {},
   "outputs": [],
   "source": [
    "relevence_dict_list = MDFH.relevent_searcher(\"PIPERACILLIN+TAZOBACTUM\".lower())"
   ]
  },
  {
   "cell_type": "code",
   "execution_count": 29,
   "metadata": {},
   "outputs": [
    {
     "data": {
      "text/plain": [
       "{'Constituents/Unit': 'piperacillin+tazobactam',\n",
       " 'Manufacturer': 'profic organic ltd.',\n",
       " 'Name': 'proact (4000+500)',\n",
       " 'Package unit': '1 vial',\n",
       " 'Price(In Rs.)': '189.00',\n",
       " 'Price/Unit (In Rs.)': '189.00',\n",
       " 'S/N': '7',\n",
       " 'Type': 'injection',\n",
       " 'Unit(Dose)': '1 vial',\n",
       " 'id': 37032}"
      ]
     },
     "execution_count": 29,
     "metadata": {},
     "output_type": "execute_result"
    }
   ],
   "source": [
    "MDFH.master_drug_store[37032]"
   ]
  },
  {
   "cell_type": "markdown",
   "metadata": {},
   "source": [
    "# Reading file provided by Janki - Patient Data"
   ]
  },
  {
   "cell_type": "markdown",
   "metadata": {},
   "source": [
    "---\n",
    "\n",
    "### Supporting function"
   ]
  },
  {
   "cell_type": "code",
   "execution_count": 10,
   "metadata": {
    "collapsed": true
   },
   "outputs": [],
   "source": [
    "import random\n",
    "import time\n",
    "import string"
   ]
  },
  {
   "cell_type": "code",
   "execution_count": 11,
   "metadata": {
    "collapsed": true
   },
   "outputs": [],
   "source": [
    "def generate_random_age(min, max):\n",
    "    random_age = random.randint(min, max)\n",
    "    return int(random_age)"
   ]
  },
  {
   "cell_type": "code",
   "execution_count": 12,
   "metadata": {},
   "outputs": [],
   "source": [
    "def generate_random_patient_Name(stringLength=2):\n",
    "    \"\"\"\n",
    "    generate_random_patient_Name\n",
    "    \"\"\"\n",
    "    letters = string.ascii_lowercase\n",
    "    return ''.join(random.choice(letters) for i in range(stringLength)).upper()"
   ]
  },
  {
   "cell_type": "code",
   "execution_count": 13,
   "metadata": {},
   "outputs": [],
   "source": [
    "def generate_sex():\n",
    "    \"\"\"\n",
    "    generate_sex()\n",
    "    \"\"\"\n",
    "    random_prob = random.random()\n",
    "    if random_prob > 0.66:\n",
    "        return 2\n",
    "    else: \n",
    "        return 1"
   ]
  },
  {
   "cell_type": "code",
   "execution_count": 14,
   "metadata": {},
   "outputs": [],
   "source": [
    "def generate_weight():\n",
    "    \"\"\"\n",
    "    generate_weight()\n",
    "    \"\"\"\n",
    "    random_prob = random.random()\n",
    "    if random_prob < 0.1:\n",
    "        #generating probability for age under 18\n",
    "        return random.randint(15,21)\n",
    "    if random_prob >= 0.1  and  random_prob <= 0.9 :\n",
    "        # retuen None as many of the values are none\n",
    "        return None\n",
    "    elif random_prob >= 0.9 :\n",
    "         return random.randint(21,78)\n"
   ]
  },
  {
   "cell_type": "code",
   "execution_count": 15,
   "metadata": {},
   "outputs": [],
   "source": [
    "def generate_weight():\n",
    "    \"always not recorded\"\n",
    "    return None\n",
    "def generate_BMI():\n",
    "    \"always not recorded\"\n",
    "    return None\n",
    "def generate_antibiotics_in_past():\n",
    "    \"\"\"\n",
    "    Assuming 20% time patient dont know or taking patients taking antibiotics for the first time\n",
    "    \"\"\"\n",
    "    random_prob = random.random()\n",
    "    if random_prob < 0.1:\n",
    "        # 0.1 % person knws tahat they have takenn antibiotics in the past\n",
    "        return \"Yes\"\n",
    "    if random_prob >= 0.1  and  random_prob <= 0.9 :\n",
    "        # not sure patients\n",
    "        return None\n",
    "    elif random_prob >= 0.9 :\n",
    "        # 0.1 % person knws tahat they have  not takenn antibiotics in the past\n",
    "        return \"No\"\n",
    "def generate_details_of_antibiotics_used():\n",
    "    \"\"\"\n",
    "    Always render no as no one rememberes waht was taken last time\n",
    "    \"\"\"\n",
    "    return \"Dont Know\"\n",
    "\n",
    "def generate_num_day_hospitalized(min, max):\n",
    "    \"\"\"\n",
    "    randomly generatiing number of days stayed in hospital  \n",
    "    \"\"\"\n",
    "    return random.randint(min, max)\n",
    "def generate_culture_sensitivity_test():\n",
    "    random_prob = random.random()\n",
    "    if random_prob>0.90:\n",
    "        return \"Yes\"\n",
    "    else:\n",
    "        return \"No\"\n"
   ]
  },
  {
   "cell_type": "markdown",
   "metadata": {},
   "source": [
    "### Antibiotic group genration"
   ]
  },
  {
   "cell_type": "code",
   "execution_count": 39,
   "metadata": {
    "collapsed": true
   },
   "outputs": [],
   "source": [
    "# getting/antibiotic_class\n",
    "antibiotic_mapping = pd.read_excel('data/antibiotic_class.xlsx',sheetname='Sheet1')"
   ]
  },
  {
   "cell_type": "code",
   "execution_count": 55,
   "metadata": {},
   "outputs": [],
   "source": [
    "antibitic_class_mapping = {}\n",
    "for i in range(0,len(antibiotic_mapping)):\n",
    "    dict_ = antibiotic_mapping.iloc[i].to_dict()\n",
    "    antibitic_class_mapping[dict_['Drug Name'].lower().replace(\"/\",'+').strip()] = dict_['Drug class'].lower().strip()"
   ]
  },
  {
   "cell_type": "code",
   "execution_count": 69,
   "metadata": {},
   "outputs": [],
   "source": [
    "def generate_details_for_antibiotics(antibiotic_generic_name):\n",
    "    relevence_dict_list = MDFH.relevent_searcher(antibiotic_generic_name.lower())\n",
    "    print(relevence_dict_list)\n",
    "    random_chosen  = random.randint(0, len(relevence_dict_list))\n",
    "    random_antbiotic_id  = relevence_dict_list[random_chosen][0]\n",
    "    return MDFH.master_drug_store[random_antbiotic_id]\n",
    "\n",
    "def get_antibiotic_class(antibiotic):\n",
    "    if '+' in antibiotic:\n",
    "        return \"Fixed dose combiination\"\n",
    "    try:\n",
    "        class_  = antibitic_class_mapping[str(antibiotic).lower()]\n",
    "        return class_\n",
    "    except:\n",
    "        return \"**NA**\"\n",
    "    \n",
    "def generate_antibiotic_group(generic_name,group_no=1):\n",
    "    new_dict = {}\n",
    "    \"\"\"\n",
    "     '(Antibiotic 1) Generic Name ',\n",
    "     '(Antibiotic 1) Class',\n",
    "     '(Antibiotic 1) Dose (mg)',\n",
    "     '(Antibiotic 1) Route',\n",
    "     '(Antibiotic 1) Units',\n",
    "     '(Antibiotic 1) Total Dose Administered (mg)',\n",
    "     '(Antibiotic 1) Cost (Rs)',\n",
    "     '(Antibiotic 1) Total Cost (Rs)',\n",
    "    \"\"\"\n",
    "    dict_ = dict(generate_details_for_antibiotics(generic_name))\n",
    "    dict_[\"Class\"] = get_antibiotic_class(generic_name)\n",
    "    for key, value in dict_.items():\n",
    "        new_dict[key+str(\"_\")+str(group_no)] =  value\n",
    "\n",
    "    \n",
    "    return new_dict"
   ]
  },
  {
   "cell_type": "code",
   "execution_count": 70,
   "metadata": {},
   "outputs": [
    {
     "name": "stdout",
     "output_type": "stream",
     "text": [
      "[(13216, 100), (13217, 100), (13218, 100), (13219, 100), (13220, 100), (13221, 100), (13222, 100), (13223, 100), (13225, 100), (13226, 100)]\n"
     ]
    },
    {
     "data": {
      "text/plain": [
       "{'Class_1': 'cephalosporin',\n",
       " 'Constituents/Unit_1': 'cefixime',\n",
       " 'Manufacturer_1': 'hygeia pharmaceuticals',\n",
       " 'Name_1': 'valcef (100 mg)',\n",
       " 'Package unit_1': '10 tablet',\n",
       " 'Price(In Rs.)_1': '11.00',\n",
       " 'Price/Unit (In Rs.)_1': '1.10',\n",
       " 'S/N_1': '3',\n",
       " 'Type_1': 'tablet',\n",
       " 'Unit(Dose)_1': '1 tablet',\n",
       " 'id_1': 13218}"
      ]
     },
     "execution_count": 70,
     "metadata": {},
     "output_type": "execute_result"
    }
   ],
   "source": [
    "generate_antibiotic_group(\"cefixime\")"
   ]
  },
  {
   "cell_type": "markdown",
   "metadata": {},
   "source": [
    "---"
   ]
  },
  {
   "cell_type": "code",
   "execution_count": 18,
   "metadata": {
    "collapsed": true
   },
   "outputs": [],
   "source": [
    "patient_data = pd.read_excel('data/xcel_patient_data.xlsx',sheetname='Sheet1&3')"
   ]
  },
  {
   "cell_type": "code",
   "execution_count": 19,
   "metadata": {},
   "outputs": [
    {
     "data": {
      "text/plain": [
       "['Form No.',\n",
       " 'Hosp. Name',\n",
       " 'Pt. Name/ IP no',\n",
       " 'Sex',\n",
       " 'Age (in yr)',\n",
       " 'Weight (in kg)',\n",
       " 'BMI (kg/m2)',\n",
       " 'Antibiotic in Past',\n",
       " 'If Yes, Details of Antibiotic used',\n",
       " 'No. of Days Hospitalized',\n",
       " 'Diagnosis',\n",
       " 'Culture SensitIVity Test',\n",
       " 'No. of Drugs/prescription',\n",
       " 'No. of Antibiotics',\n",
       " 'No. of Antibiotics by Generic Name',\n",
       " 'No. of Antibiotics by Brand Name',\n",
       " 'No. of FDC',\n",
       " 'No. of Antibiotics prescribed from NLEM 2017',\n",
       " 'Switch Over therapy',\n",
       " 'Parentral',\n",
       " 'Oral',\n",
       " 'Syrup',\n",
       " 'Eye drop',\n",
       " 'Ear drop',\n",
       " 'Others formulations',\n",
       " '(Antibiotic 1) Generic Name ',\n",
       " '(Antibiotic 1) Class',\n",
       " '(Antibiotic 1) Dose (mg)',\n",
       " '(Antibiotic 1) Route',\n",
       " '(Antibiotic 1) Units',\n",
       " '(Antibiotic 1) Total Dose Administered (mg)',\n",
       " '(Antibiotic 1) Cost (Rs)',\n",
       " '(Antibiotic 1) Total Cost (Rs)',\n",
       " '(Antibiotic 2) Generic Name',\n",
       " '(Antibiotic 2) Class',\n",
       " '(Antibiotic 2) Dose (mg)',\n",
       " '(Antibiotic 2) Route',\n",
       " '(Antibiotic 2) Units',\n",
       " '(Antibiotic 2) Total Dose Administered (mg)',\n",
       " '(Antibiotic 2) Cost (Rs)',\n",
       " '(Antibiotic 2) Total Cost (Rs)',\n",
       " '(Antibiotic 3) Generic Name',\n",
       " '(Antibiotic 3) Class',\n",
       " '(Antibiotic 3) Dose (mg)',\n",
       " '(Antibiotic 3) Route',\n",
       " '(Antibiotic 3) Units',\n",
       " '(Antibiotic 3) Total Dose Administered (mg)',\n",
       " '(Antibiotic 3) Cost (Rs)',\n",
       " '(Antibiotic 3) Total Cost (Rs)',\n",
       " '(Antibiotic 4) Generic Name',\n",
       " '(Antibiotic 4) Class',\n",
       " '(Antibiotic 4) Dose (mg)',\n",
       " '(Antibiotic 4) Route',\n",
       " '(Antibiotic 4) Units',\n",
       " '(Antibiotic 4) Total Dose Administered (mg)',\n",
       " '(Antibiotic 4) Cost (Rs)',\n",
       " '(Antibiotic 4) Total Cost (Rs)',\n",
       " '(Antibiotic 5) Generic Name',\n",
       " '(Antibiotic 5) Class',\n",
       " '(Antibiotic 5) Dose (mg)',\n",
       " '(Antibiotic 5) Route',\n",
       " '(Antibiotic 5) Units',\n",
       " '(Antibiotic 5) Total Dose Administered (mg)',\n",
       " '(Antibiotic 5) Cost (Rs)',\n",
       " '(Antibiotic 5) Total Cost (Rs)',\n",
       " '(Antibiotic 6) Generic Name',\n",
       " '(Antibiotic 6) Class',\n",
       " '(Antibiotic 6) Dose (mg)',\n",
       " '(Antibiotic 6) Route',\n",
       " '(Antibiotic 6) Units',\n",
       " '(Antibiotic 6) Total Dose Administered (mg)',\n",
       " '(Antibiotic 6) Cost (Rs)',\n",
       " '(Antibiotic 6) Total Cost (Rs)',\n",
       " '(Antibiotic 7) Generic Name',\n",
       " '(Antibiotic 7) Class',\n",
       " '(Antibiotic 7) Dose (mg)',\n",
       " '(Antibiotic 7) Route',\n",
       " '(Antibiotic 7) Units',\n",
       " '(Antibiotic 7) Total Dose Administered (mg)',\n",
       " '(Antibiotic 7) Cost (Rs)',\n",
       " '(Antibiotic 7) Total Cost (Rs)',\n",
       " 'No. of Major DI',\n",
       " 'No. of Moderate DI',\n",
       " 'No. of Minor DI',\n",
       " 'Major DI 1',\n",
       " 'Major DI 2',\n",
       " 'Major DI 3',\n",
       " 'Major DI 4',\n",
       " 'Moderate DI 1',\n",
       " 'Moderate DI 2',\n",
       " 'Moderate DI 3',\n",
       " 'Minor DI 1',\n",
       " 'Minor DI 2',\n",
       " 'Minor DI 3',\n",
       " 'Total Cost of Antibiotics',\n",
       " 'Total Cost of Other Drugs',\n",
       " 'Total Cost of Drugs',\n",
       " 'Suspected Organism',\n",
       " 'Reaction',\n",
       " 'Management',\n",
       " 'MKC 1',\n",
       " 'MKC2',\n",
       " 'MKC3',\n",
       " 'MKC4',\n",
       " 'MKC5']"
      ]
     },
     "execution_count": 19,
     "metadata": {},
     "output_type": "execute_result"
    }
   ],
   "source": [
    "list(patient_data.columns)"
   ]
  },
  {
   "cell_type": "code",
   "execution_count": 20,
   "metadata": {},
   "outputs": [
    {
     "data": {
      "text/plain": [
       "0      NaN\n",
       "1      NaN\n",
       "2      NaN\n",
       "3      NaN\n",
       "4      NaN\n",
       "5      NaN\n",
       "6      NaN\n",
       "7      NaN\n",
       "8      NaN\n",
       "9      NaN\n",
       "10     NaN\n",
       "11     NaN\n",
       "12     NaN\n",
       "13     NaN\n",
       "14     NaN\n",
       "15     NaN\n",
       "16     NaN\n",
       "17     NaN\n",
       "18     NaN\n",
       "19     NaN\n",
       "20     NaN\n",
       "21     NaN\n",
       "22     NaN\n",
       "23     NaN\n",
       "24     NaN\n",
       "25     NaN\n",
       "26     AKT\n",
       "27     NaN\n",
       "28     NaN\n",
       "29     NaN\n",
       "      ... \n",
       "102    NaN\n",
       "103    NaN\n",
       "104    NaN\n",
       "105    NaN\n",
       "106    NaN\n",
       "107    NaN\n",
       "108    NaN\n",
       "109    NaN\n",
       "110    NaN\n",
       "111    NaN\n",
       "112    NaN\n",
       "113    NaN\n",
       "114    NaN\n",
       "115    NaN\n",
       "116    NaN\n",
       "117    NaN\n",
       "118    NaN\n",
       "119    NaN\n",
       "120    NaN\n",
       "121    NaN\n",
       "122    NaN\n",
       "123    NaN\n",
       "124    NaN\n",
       "125    NaN\n",
       "126    NaN\n",
       "127    NaN\n",
       "128    NaN\n",
       "129    NaN\n",
       "130    NaN\n",
       "131    NaN\n",
       "Name: If Yes, Details of Antibiotic used, Length: 132, dtype: object"
      ]
     },
     "execution_count": 20,
     "metadata": {},
     "output_type": "execute_result"
    }
   ],
   "source": [
    "patient_data['If Yes, Details of Antibiotic used']"
   ]
  }
 ],
 "metadata": {
  "kernelspec": {
   "display_name": "Python 3",
   "language": "python",
   "name": "python3"
  },
  "language_info": {
   "codemirror_mode": {
    "name": "ipython",
    "version": 3
   },
   "file_extension": ".py",
   "mimetype": "text/x-python",
   "name": "python",
   "nbconvert_exporter": "python",
   "pygments_lexer": "ipython3",
   "version": "3.6.8"
  }
 },
 "nbformat": 4,
 "nbformat_minor": 2
}
